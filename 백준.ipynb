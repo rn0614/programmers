{
 "cells": [
  {
   "cell_type": "code",
   "execution_count": 1,
   "id": "4704d3b0-f497-42f3-85b0-982f24d3abff",
   "metadata": {},
   "outputs": [
    {
     "name": "stdin",
     "output_type": "stream",
     "text": [
      " 18\n"
     ]
    },
    {
     "name": "stdout",
     "output_type": "stream",
     "text": [
      "4\n"
     ]
    }
   ],
   "source": [
    "# 설탕배달\n",
    "# 배달할 설탕 총 무게 N\n",
    "# 배달할 설탕 3,5kg이고 최소 봉지로 가져가고 싶음\n",
    "N=int(input())\n",
    "bag=0\n",
    "# 5로 나눠 떨어지면 무조건 5선택 아닐경우 3으로 나누면서 5의 배수가될때까지 실행\n",
    "while N>=0:\n",
    "    if N%5==0:\n",
    "        bag+=N//5\n",
    "        # 5의 배수가 나온 경우\n",
    "        print(bag)\n",
    "        break\n",
    "    N-=3\n",
    "    bag+=1\n",
    "# 5의 배수가 안나온 경우\n",
    "else:\n",
    "    print(-1)"
   ]
  },
  {
   "cell_type": "code",
   "execution_count": null,
   "id": "2c0e13d2-3fb6-4961-baf9-a096999048d3",
   "metadata": {},
   "outputs": [],
   "source": []
  }
 ],
 "metadata": {
  "kernelspec": {
   "display_name": "Python 3",
   "language": "python",
   "name": "python3"
  },
  "language_info": {
   "codemirror_mode": {
    "name": "ipython",
    "version": 3
   },
   "file_extension": ".py",
   "mimetype": "text/x-python",
   "name": "python",
   "nbconvert_exporter": "python",
   "pygments_lexer": "ipython3",
   "version": "3.8.8"
  }
 },
 "nbformat": 4,
 "nbformat_minor": 5
}
