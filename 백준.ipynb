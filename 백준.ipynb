{
 "cells": [
  {
   "cell_type": "code",
   "execution_count": 1,
   "id": "4704d3b0-f497-42f3-85b0-982f24d3abff",
   "metadata": {},
   "outputs": [
    {
     "name": "stdin",
     "output_type": "stream",
     "text": [
      " 18\n"
     ]
    },
    {
     "name": "stdout",
     "output_type": "stream",
     "text": [
      "4\n"
     ]
    }
   ],
   "source": [
    "# 설탕배달\n",
    "# 배달할 설탕 총 무게 N\n",
    "# 배달할 설탕 3,5kg이고 최소 봉지로 가져가고 싶음\n",
    "N=int(input())\n",
    "bag=0\n",
    "# 5로 나눠 떨어지면 무조건 5선택 아닐경우 3으로 나누면서 5의 배수가될때까지 실행\n",
    "while N>=0:\n",
    "    if N%5==0:\n",
    "        bag+=N//5\n",
    "        # 5의 배수가 나온 경우\n",
    "        print(bag)\n",
    "        break\n",
    "    N-=3\n",
    "    bag+=1\n",
    "# 5의 배수가 안나온 경우\n",
    "else:\n",
    "    print(-1)"
   ]
  },
  {
   "cell_type": "code",
   "execution_count": 130,
   "id": "2c0e13d2-3fb6-4961-baf9-a096999048d3",
   "metadata": {},
   "outputs": [
    {
     "name": "stdin",
     "output_type": "stream",
     "text": [
      " 4\n"
     ]
    }
   ],
   "source": [
    "N=int(input())"
   ]
  },
  {
   "cell_type": "code",
   "execution_count": 131,
   "id": "c73847b0-7b21-435a-bed5-d3db60b500f6",
   "metadata": {},
   "outputs": [
    {
     "name": "stdin",
     "output_type": "stream",
     "text": [
      " A\n",
      " Z\n",
      " D\n",
      " AA\n"
     ]
    }
   ],
   "source": [
    "### string_list=[]\n",
    "for i in range(N):\n",
    "    string_list.append(input())"
   ]
  },
  {
   "cell_type": "code",
   "execution_count": 132,
   "id": "0a3b9629-2d69-4ebc-9b95-6692b730b8ab",
   "metadata": {},
   "outputs": [],
   "source": [
    "# 알파벳의 최대갯수는 \n",
    "dict1={'A':0,'B':0,'C':0,'D':0,'E':0,'F':0,'G':0,'H':0,'I':0,'J':0,'K':0,'L':0,'N':0,'M':0,'O':0,'P':0,'Q':0,'R':0,'S':0,'T':0,'U':0,'V':0,'W':0, 'X':0,'Y':0,'Z':0}"
   ]
  },
  {
   "cell_type": "code",
   "execution_count": 133,
   "id": "dba6f864-a1d7-4c2f-adbf-dbe75902bcc4",
   "metadata": {},
   "outputs": [],
   "source": [
    "for string in string_list:\n",
    "    for idx,alpha in enumerate(string):\n",
    "        dict1[alpha]+=10**(len(string)-idx-1)"
   ]
  },
  {
   "cell_type": "code",
   "execution_count": 134,
   "id": "3c90cc70-2b24-41f3-bc25-da62def90090",
   "metadata": {},
   "outputs": [
    {
     "data": {
      "text/plain": [
       "{'A': 12,\n",
       " 'B': 0,\n",
       " 'C': 0,\n",
       " 'D': 2,\n",
       " 'E': 0,\n",
       " 'F': 0,\n",
       " 'G': 0,\n",
       " 'H': 0,\n",
       " 'I': 0,\n",
       " 'J': 0,\n",
       " 'K': 0,\n",
       " 'L': 0,\n",
       " 'N': 0,\n",
       " 'M': 0,\n",
       " 'O': 0,\n",
       " 'P': 0,\n",
       " 'Q': 0,\n",
       " 'R': 0,\n",
       " 'S': 0,\n",
       " 'T': 0,\n",
       " 'U': 0,\n",
       " 'V': 0,\n",
       " 'W': 0,\n",
       " 'X': 0,\n",
       " 'Y': 0,\n",
       " 'Z': 1}"
      ]
     },
     "execution_count": 134,
     "metadata": {},
     "output_type": "execute_result"
    }
   ],
   "source": [
    "dict1"
   ]
  },
  {
   "cell_type": "code",
   "execution_count": 135,
   "id": "4cea770d-3867-4454-a7d3-dbab4a529862",
   "metadata": {},
   "outputs": [
    {
     "name": "stdout",
     "output_type": "stream",
     "text": [
      "A 0\n",
      "D 108\n",
      "Z 124\n",
      "B 131\n",
      "C 131\n",
      "E 131\n",
      "F 131\n",
      "G 131\n",
      "H 131\n",
      "I 131\n"
     ]
    }
   ],
   "source": [
    "cnt=9\n",
    "result=0\n",
    "for i,j in sorted(dict1.items(), key=lambda item:item[1],reverse=True)[0:10]:\n",
    "    print(i, result)\n",
    "    result+=dict1[i]*cnt\n",
    "    cnt-=1"
   ]
  },
  {
   "cell_type": "code",
   "execution_count": 136,
   "id": "ffaac709-8e1a-468d-a794-44e2465d3764",
   "metadata": {},
   "outputs": [
    {
     "data": {
      "text/plain": [
       "131"
      ]
     },
     "execution_count": 136,
     "metadata": {},
     "output_type": "execute_result"
    }
   ],
   "source": [
    "result"
   ]
  },
  {
   "cell_type": "code",
   "execution_count": 127,
   "id": "04e01dd1-efc4-4995-969b-37f5d7b43dfd",
   "metadata": {},
   "outputs": [
    {
     "data": {
      "text/plain": [
       "[('A', 1),\n",
       " ('D', 1),\n",
       " ('B', 0),\n",
       " ('C', 0),\n",
       " ('E', 0),\n",
       " ('F', 0),\n",
       " ('G', 0),\n",
       " ('H', 0),\n",
       " ('I', 0),\n",
       " ('J', 0)]"
      ]
     },
     "execution_count": 127,
     "metadata": {},
     "output_type": "execute_result"
    }
   ],
   "source": [
    "sorted(dict1.items(), key=lambda item:item[1],reverse=True)[0:10]"
   ]
  },
  {
   "cell_type": "code",
   "execution_count": 15,
   "id": "c9be48a8-3ece-47df-962b-704b5feab593",
   "metadata": {},
   "outputs": [
    {
     "name": "stdin",
     "output_type": "stream",
     "text": [
      " 3\n"
     ]
    }
   ],
   "source": [
    "import sys\n",
    "N= int(input())"
   ]
  },
  {
   "cell_type": "code",
   "execution_count": 22,
   "id": "0f557c35-80aa-429e-9784-08aefa706b1d",
   "metadata": {},
   "outputs": [
    {
     "ename": "ValueError",
     "evalue": "invalid literal for int() with base 10: ''",
     "output_type": "error",
     "traceback": [
      "\u001b[1;31m---------------------------------------------------------------------------\u001b[0m",
      "\u001b[1;31mValueError\u001b[0m                                Traceback (most recent call last)",
      "\u001b[1;32m<ipython-input-22-6b0db8b16668>\u001b[0m in \u001b[0;36m<module>\u001b[1;34m\u001b[0m\n\u001b[0;32m      2\u001b[0m \u001b[1;32mfor\u001b[0m \u001b[0mi\u001b[0m \u001b[1;32min\u001b[0m \u001b[0mrange\u001b[0m\u001b[1;33m(\u001b[0m\u001b[0mN\u001b[0m\u001b[1;33m)\u001b[0m\u001b[1;33m:\u001b[0m\u001b[1;33m\u001b[0m\u001b[1;33m\u001b[0m\u001b[0m\n\u001b[0;32m      3\u001b[0m     \u001b[1;31m#card_list.append(int(input()))\u001b[0m\u001b[1;33m\u001b[0m\u001b[1;33m\u001b[0m\u001b[1;33m\u001b[0m\u001b[0m\n\u001b[1;32m----> 4\u001b[1;33m     \u001b[0mcard_list\u001b[0m\u001b[1;33m.\u001b[0m\u001b[0mappend\u001b[0m\u001b[1;33m(\u001b[0m\u001b[0mint\u001b[0m\u001b[1;33m(\u001b[0m\u001b[0msys\u001b[0m\u001b[1;33m.\u001b[0m\u001b[0mstdin\u001b[0m\u001b[1;33m.\u001b[0m\u001b[0mreadline\u001b[0m\u001b[1;33m(\u001b[0m\u001b[1;33m)\u001b[0m\u001b[1;33m)\u001b[0m\u001b[1;33m)\u001b[0m\u001b[1;33m\u001b[0m\u001b[1;33m\u001b[0m\u001b[0m\n\u001b[0m",
      "\u001b[1;31mValueError\u001b[0m: invalid literal for int() with base 10: ''"
     ]
    }
   ],
   "source": [
    "card_list=[]\n",
    "for i in range(N):\n",
    "    #card_list.append(int(input()))\n",
    "    card_list.append(int(sys.stdin.readline()))"
   ]
  },
  {
   "cell_type": "code",
   "execution_count": 17,
   "id": "6599f67e-2999-4963-afb3-062d853748fa",
   "metadata": {},
   "outputs": [],
   "source": [
    "import heapq\n",
    "heapq.heapify(card_list)"
   ]
  },
  {
   "cell_type": "code",
   "execution_count": 18,
   "id": "ae3e89ad-6a2c-476e-aa3c-d41606741ee0",
   "metadata": {},
   "outputs": [
    {
     "name": "stdout",
     "output_type": "stream",
     "text": [
      "[10, 20, 40]\n"
     ]
    }
   ],
   "source": [
    "print(card_list)"
   ]
  },
  {
   "cell_type": "code",
   "execution_count": 19,
   "id": "b01b9653-beb3-4365-abe8-bc0636ead972",
   "metadata": {},
   "outputs": [],
   "source": [
    "result=0\n",
    "while len(card_list)!=1:\n",
    "    temp=heapq.heappop(card_list)+heapq.heappop(card_list)\n",
    "    heapq.heappush(card_list,temp)\n",
    "    result+=temp\n",
    "    temp=0"
   ]
  },
  {
   "cell_type": "code",
   "execution_count": 21,
   "id": "1d921fc6-f3ac-4221-b940-77562551f52b",
   "metadata": {},
   "outputs": [
    {
     "name": "stdout",
     "output_type": "stream",
     "text": [
      "100\n"
     ]
    }
   ],
   "source": [
    "print(result)"
   ]
  },
  {
   "cell_type": "code",
   "execution_count": 35,
   "id": "158fc016-3b65-4a34-b71c-83968fdb6f5a",
   "metadata": {},
   "outputs": [
    {
     "name": "stdin",
     "output_type": "stream",
     "text": [
      " 0 0 0\n"
     ]
    }
   ],
   "source": [
    "L, P, V =map(int,input().split(' ')) "
   ]
  },
  {
   "cell_type": "code",
   "execution_count": 24,
   "id": "d719194a-c5f0-4deb-b893-676e0002882a",
   "metadata": {},
   "outputs": [
    {
     "data": {
      "text/plain": [
       "5"
      ]
     },
     "execution_count": 24,
     "metadata": {},
     "output_type": "execute_result"
    }
   ],
   "source": [
    "L"
   ]
  },
  {
   "cell_type": "code",
   "execution_count": 36,
   "id": "b33d429c-2a44-4db9-b60c-1b92c3626d07",
   "metadata": {},
   "outputs": [
    {
     "name": "stdin",
     "output_type": "stream",
     "text": [
      " 5 8 20\n",
      " 5 8 17\n",
      " 0 0 0\n"
     ]
    },
    {
     "name": "stdout",
     "output_type": "stream",
     "text": [
      "Case 1: 14\n",
      "Case 1: 11\n"
     ]
    }
   ],
   "source": [
    "cnt=1\n",
    "temp_list=[]\n",
    "L,P,V=1,0,0\n",
    "while (L,P,V)!=(0,0,0):\n",
    "    L, P, V =map(int,input().split(' ')) \n",
    "    temp_list.append([L,P,V])\n",
    "\n",
    "for i in temp_list:\n",
    "    if i==[0,0,0]:\n",
    "        break\n",
    "    print(f'Case {cnt}:',(i[2]//i[1])*i[0]+min(i[0],i[2]%i[1]))\n",
    "    cnt+=1"
   ]
  },
  {
   "cell_type": "code",
   "execution_count": 55,
   "id": "e3516235-d0cc-4c7e-aeac-512cb993b875",
   "metadata": {},
   "outputs": [
    {
     "name": "stdout",
     "output_type": "stream",
     "text": [
      "2 1\n",
      "1\n"
     ]
    }
   ],
   "source": [
    "S='0001100'\n",
    "one_cnt=0\n",
    "zero_cnt=0\n",
    "if S[0]=='1':\n",
    "    one_cnt+=1\n",
    "else:\n",
    "    zero_cnt+=1\n",
    "    \n",
    "cur=S[0]\n",
    "\n",
    "for i in S:\n",
    "    if i==cur:\n",
    "        pass\n",
    "    else:\n",
    "        if i=='1':\n",
    "            one_cnt+=1\n",
    "            cur=i\n",
    "        else:\n",
    "            zero_cnt+=1\n",
    "            cur=i\n",
    "if zero_cnt==0 |one_cnt==0:\n",
    "    print(0)\n",
    "else:\n",
    "    print(min(zero_cnt,one_cnt))"
   ]
  },
  {
   "cell_type": "code",
   "execution_count": 1,
   "id": "7219813d-a57b-44a4-825d-e2788b599177",
   "metadata": {},
   "outputs": [
    {
     "name": "stdin",
     "output_type": "stream",
     "text": [
      " 4\n"
     ]
    }
   ],
   "source": [
    "N= int(input())"
   ]
  },
  {
   "cell_type": "code",
   "execution_count": 2,
   "id": "aa38719b-323f-475b-b055-7deffac5a1b6",
   "metadata": {},
   "outputs": [],
   "source": [
    "import sys\n",
    "temp_list=[]\n",
    "for i in range(N):\n",
    "    temp_list.append(sys.stdin.readline())\n",
    "    "
   ]
  },
  {
   "cell_type": "code",
   "execution_count": 66,
   "id": "e7c2d40d-594c-46ae-93e1-b1f174763d82",
   "metadata": {},
   "outputs": [],
   "source": [
    "temp_list=[-1,2,1,3]\n",
    "temp_list2=[0,1,2,4,3,5]"
   ]
  },
  {
   "cell_type": "code",
   "execution_count": 58,
   "id": "50c1ab1f-a394-4219-96d2-7fdbec27bff9",
   "metadata": {},
   "outputs": [],
   "source": [
    "temp_list2.sort()"
   ]
  },
  {
   "cell_type": "code",
   "execution_count": 59,
   "id": "b26499e8-2e34-4477-a364-b3e66b09386b",
   "metadata": {},
   "outputs": [
    {
     "data": {
      "text/plain": [
       "[0, 1, 2, 3, 4, 5]"
      ]
     },
     "execution_count": 59,
     "metadata": {},
     "output_type": "execute_result"
    }
   ],
   "source": [
    "temp_list2"
   ]
  },
  {
   "cell_type": "code",
   "execution_count": 56,
   "id": "967a6ec2-80db-4aea-9161-7346cfc8c339",
   "metadata": {},
   "outputs": [
    {
     "name": "stdout",
     "output_type": "stream",
     "text": [
      "3 1\n",
      "2 -1\n"
     ]
    }
   ],
   "source": [
    "#마이너스 마이너스면 다음거와 묶기\n",
    "# "
   ]
  },
  {
   "cell_type": "code",
   "execution_count": null,
   "id": "37b7c89f-58a8-4da6-814c-df973fe479eb",
   "metadata": {},
   "outputs": [],
   "source": [
    "#[0,1] 3개일 경우 0은 남은 마이너스중 가장 작은 거랑 합치는게 이득 1은 그냥 더하기 "
   ]
  },
  {
   "cell_type": "code",
   "execution_count": 71,
   "id": "af3164ef-5b9f-489d-a19d-a737058b0217",
   "metadata": {},
   "outputs": [
    {
     "name": "stdout",
     "output_type": "stream",
     "text": [
      "False True\n"
     ]
    }
   ],
   "source": [
    "# 음수끼리 곱하다가 1,양수 나오면 중지\n",
    "# 이제 뒤에서부터 곱하기"
   ]
  },
  {
   "cell_type": "code",
   "execution_count": 1,
   "id": "7398094e-563a-4a7f-a954-2f16d02c1bad",
   "metadata": {},
   "outputs": [],
   "source": [
    "N=4\n",
    "list1=[-1,2,1,3]"
   ]
  },
  {
   "cell_type": "code",
   "execution_count": 2,
   "id": "d279152e-05e9-47c6-b061-e41cac83d821",
   "metadata": {},
   "outputs": [],
   "source": [
    "list1.sort()"
   ]
  },
  {
   "cell_type": "code",
   "execution_count": 3,
   "id": "9cc89838-07dc-488a-ade6-acca07a3bf30",
   "metadata": {},
   "outputs": [],
   "source": [
    "# 두개씩 묶되 양수는 양수끼리 음수는 음수끼리 0,1만 특수임.\n",
    "# -1은 어차피 남는 마이너스중 가장 큰 수이니 상관 없음"
   ]
  },
  {
   "cell_type": "code",
   "execution_count": 67,
   "id": "0b032729-9230-474c-b6c6-db4882e90d90",
   "metadata": {},
   "outputs": [],
   "source": [
    "import sys\n",
    "temp_list=[]\n",
    "#for i in range(N):\n",
    "#    temp_list.append(sys.stdin.readline())\n",
    "\n",
    "temp_list=[-1,2,4,1,2,-4,-1,3,2,5,2,3,-1,2,-5,-7,-4]\n",
    "\n",
    "plus_list=[]\n",
    "minus_list=[]\n",
    "one_list=[]\n",
    "\n",
    "for i in temp_list:\n",
    "    if i<0:\n",
    "        minus_list.append(i)\n",
    "    elif i==1:\n",
    "        one_list.append(i)\n",
    "    else:\n",
    "        plus_list.append(i)\n",
    "        \n",
    "plus_list.sort(reverse=True)\n",
    "minus_list.sort()"
   ]
  },
  {
   "cell_type": "code",
   "execution_count": 68,
   "id": "eee0547e-1f7b-49b4-a719-400d43b541eb",
   "metadata": {},
   "outputs": [
    {
     "name": "stdout",
     "output_type": "stream",
     "text": [
      "[5, 4, 3, 3, 2, 2, 2, 2, 2] [1] [-7, -5, -4, -4, -1, -1, -1]\n"
     ]
    }
   ],
   "source": [
    "print(plus_list,one_list, minus_list)"
   ]
  },
  {
   "cell_type": "code",
   "execution_count": 69,
   "id": "80448d94-0bc0-4227-8770-11ef24ab11b5",
   "metadata": {},
   "outputs": [
    {
     "name": "stdout",
     "output_type": "stream",
     "text": [
      "39\n",
      "90\n"
     ]
    }
   ],
   "source": [
    "result=0\n",
    "for i,j in zip(plus_list[0::2],plus_list[1::2]+[1]):\n",
    "    result+=i*j\n",
    "\n",
    "print(result)\n",
    "for i,j in zip(minus_list[0::2],minus_list[1::2]+[1]):\n",
    "    result+=i*j\n",
    "    \n",
    "print(result)"
   ]
  },
  {
   "cell_type": "code",
   "execution_count": 74,
   "id": "982ea112-68c4-4099-939f-a1c72dc8084f",
   "metadata": {},
   "outputs": [
    {
     "data": {
      "text/plain": [
       "51"
      ]
     },
     "execution_count": 74,
     "metadata": {},
     "output_type": "execute_result"
    }
   ],
   "source": [
    "35+16+1-1"
   ]
  },
  {
   "cell_type": "code",
   "execution_count": 71,
   "id": "dd3e7cd4-30a9-41f2-b586-9b84dd71f479",
   "metadata": {},
   "outputs": [],
   "source": [
    "result+=sum(one_list)"
   ]
  },
  {
   "cell_type": "code",
   "execution_count": 72,
   "id": "14e5ce4f-a1d9-4055-a1bb-c5ca036bcde1",
   "metadata": {},
   "outputs": [
    {
     "data": {
      "text/plain": [
       "91"
      ]
     },
     "execution_count": 72,
     "metadata": {},
     "output_type": "execute_result"
    }
   ],
   "source": [
    "result"
   ]
  },
  {
   "cell_type": "code",
   "execution_count": 75,
   "id": "8d872215-8f84-4315-86b9-1821cca80206",
   "metadata": {},
   "outputs": [
    {
     "ename": "KeyboardInterrupt",
     "evalue": "Interrupted by user",
     "output_type": "error",
     "traceback": [
      "\u001b[1;31m---------------------------------------------------------------------------\u001b[0m",
      "\u001b[1;31mKeyboardInterrupt\u001b[0m                         Traceback (most recent call last)",
      "\u001b[1;32m<ipython-input-75-5bc9d62924d5>\u001b[0m in \u001b[0;36m<module>\u001b[1;34m\u001b[0m\n\u001b[1;32m----> 1\u001b[1;33m \u001b[0mN\u001b[0m\u001b[1;33m=\u001b[0m\u001b[0mint\u001b[0m\u001b[1;33m(\u001b[0m\u001b[0minput\u001b[0m\u001b[1;33m(\u001b[0m\u001b[1;33m)\u001b[0m\u001b[1;33m)\u001b[0m\u001b[1;33m\u001b[0m\u001b[1;33m\u001b[0m\u001b[0m\n\u001b[0m\u001b[0;32m      2\u001b[0m \u001b[1;33m\u001b[0m\u001b[0m\n\u001b[0;32m      3\u001b[0m \u001b[1;32mimport\u001b[0m \u001b[0msys\u001b[0m\u001b[1;33m\u001b[0m\u001b[1;33m\u001b[0m\u001b[0m\n\u001b[0;32m      4\u001b[0m \u001b[0mtemp_list\u001b[0m\u001b[1;33m=\u001b[0m\u001b[1;33m[\u001b[0m\u001b[1;33m]\u001b[0m\u001b[1;33m\u001b[0m\u001b[1;33m\u001b[0m\u001b[0m\n\u001b[0;32m      5\u001b[0m \u001b[1;32mfor\u001b[0m \u001b[0mi\u001b[0m \u001b[1;32min\u001b[0m \u001b[0mrange\u001b[0m\u001b[1;33m(\u001b[0m\u001b[0mN\u001b[0m\u001b[1;33m)\u001b[0m\u001b[1;33m:\u001b[0m\u001b[1;33m\u001b[0m\u001b[1;33m\u001b[0m\u001b[0m\n",
      "\u001b[1;32m~\\anaconda3\\lib\\site-packages\\ipykernel\\kernelbase.py\u001b[0m in \u001b[0;36mraw_input\u001b[1;34m(self, prompt)\u001b[0m\n\u001b[0;32m    858\u001b[0m                 \u001b[1;34m\"raw_input was called, but this frontend does not support input requests.\"\u001b[0m\u001b[1;33m\u001b[0m\u001b[1;33m\u001b[0m\u001b[0m\n\u001b[0;32m    859\u001b[0m             )\n\u001b[1;32m--> 860\u001b[1;33m         return self._input_request(str(prompt),\n\u001b[0m\u001b[0;32m    861\u001b[0m             \u001b[0mself\u001b[0m\u001b[1;33m.\u001b[0m\u001b[0m_parent_ident\u001b[0m\u001b[1;33m,\u001b[0m\u001b[1;33m\u001b[0m\u001b[1;33m\u001b[0m\u001b[0m\n\u001b[0;32m    862\u001b[0m             \u001b[0mself\u001b[0m\u001b[1;33m.\u001b[0m\u001b[0m_parent_header\u001b[0m\u001b[1;33m,\u001b[0m\u001b[1;33m\u001b[0m\u001b[1;33m\u001b[0m\u001b[0m\n",
      "\u001b[1;32m~\\anaconda3\\lib\\site-packages\\ipykernel\\kernelbase.py\u001b[0m in \u001b[0;36m_input_request\u001b[1;34m(self, prompt, ident, parent, password)\u001b[0m\n\u001b[0;32m    902\u001b[0m             \u001b[1;32mexcept\u001b[0m \u001b[0mKeyboardInterrupt\u001b[0m\u001b[1;33m:\u001b[0m\u001b[1;33m\u001b[0m\u001b[1;33m\u001b[0m\u001b[0m\n\u001b[0;32m    903\u001b[0m                 \u001b[1;31m# re-raise KeyboardInterrupt, to truncate traceback\u001b[0m\u001b[1;33m\u001b[0m\u001b[1;33m\u001b[0m\u001b[1;33m\u001b[0m\u001b[0m\n\u001b[1;32m--> 904\u001b[1;33m                 \u001b[1;32mraise\u001b[0m \u001b[0mKeyboardInterrupt\u001b[0m\u001b[1;33m(\u001b[0m\u001b[1;34m\"Interrupted by user\"\u001b[0m\u001b[1;33m)\u001b[0m \u001b[1;32mfrom\u001b[0m \u001b[1;32mNone\u001b[0m\u001b[1;33m\u001b[0m\u001b[1;33m\u001b[0m\u001b[0m\n\u001b[0m\u001b[0;32m    905\u001b[0m             \u001b[1;32mexcept\u001b[0m \u001b[0mException\u001b[0m \u001b[1;32mas\u001b[0m \u001b[0me\u001b[0m\u001b[1;33m:\u001b[0m\u001b[1;33m\u001b[0m\u001b[1;33m\u001b[0m\u001b[0m\n\u001b[0;32m    906\u001b[0m                 \u001b[0mself\u001b[0m\u001b[1;33m.\u001b[0m\u001b[0mlog\u001b[0m\u001b[1;33m.\u001b[0m\u001b[0mwarning\u001b[0m\u001b[1;33m(\u001b[0m\u001b[1;34m\"Invalid Message:\"\u001b[0m\u001b[1;33m,\u001b[0m \u001b[0mexc_info\u001b[0m\u001b[1;33m=\u001b[0m\u001b[1;32mTrue\u001b[0m\u001b[1;33m)\u001b[0m\u001b[1;33m\u001b[0m\u001b[1;33m\u001b[0m\u001b[0m\n",
      "\u001b[1;31mKeyboardInterrupt\u001b[0m: Interrupted by user"
     ]
    }
   ],
   "source": [
    "N=int(input())\n",
    "\n",
    "import sys\n",
    "temp_list=[]\n",
    "for i in range(N):\n",
    "    temp_list.append(int(sys.stdin.readline()))\n",
    "\n",
    "plus_list=[]\n",
    "minus_list=[]\n",
    "one_list=[]\n",
    "\n",
    "for i in temp_list:\n",
    "    if i<=0:\n",
    "        minus_list.append(i)\n",
    "    elif i==1:\n",
    "        one_list.append(i)\n",
    "    else:\n",
    "        plus_list.append(i)\n",
    "        \n",
    "plus_list.sort(reverse=True)\n",
    "minus_list.sort()\n",
    "\n",
    "result=0\n",
    "for i,j in zip(plus_list[0::2],plus_list[1::2]+[1]):\n",
    "    result+=i*j\n",
    "    \n",
    "for i,j in zip(minus_list[0::2],minus_list[1::2]+[1]):\n",
    "    result+=i*j\n",
    "result+=sum(one_list)\n",
    "\n",
    "print(result)"
   ]
  },
  {
   "cell_type": "code",
   "execution_count": 223,
   "id": "dc1df9aa-5244-4985-9d18-f3c4a1a9aff4",
   "metadata": {},
   "outputs": [
    {
     "name": "stdin",
     "output_type": "stream",
     "text": [
      " 2 162\n"
     ]
    }
   ],
   "source": [
    "i2=40023\n",
    "i1=100\n",
    "\n",
    "i1,i2= map(int,input().split())"
   ]
  },
  {
   "cell_type": "code",
   "execution_count": 243,
   "id": "7e43a9c1-41cd-47d2-b5b9-e73ec669dd60",
   "metadata": {},
   "outputs": [],
   "source": [
    "import heapq\n",
    "heap=[[i1,1]]\n",
    "heapq.heapify(heap)"
   ]
  },
  {
   "cell_type": "code",
   "execution_count": 240,
   "id": "0b57cb36-2d44-48e5-914d-b9d275d0b84a",
   "metadata": {},
   "outputs": [
    {
     "name": "stdout",
     "output_type": "stream",
     "text": [
      "[[2, 1]]\n"
     ]
    }
   ],
   "source": [
    "print(heap)"
   ]
  },
  {
   "cell_type": "code",
   "execution_count": 241,
   "id": "6493a378-afdb-462f-a65d-b7faf1819728",
   "metadata": {},
   "outputs": [
    {
     "name": "stdout",
     "output_type": "stream",
     "text": [
      "4 21\n",
      "8 41\n",
      "16 81\n",
      "32 161\n",
      "42 211\n",
      "64 321\n",
      "82 411\n",
      "84 421\n",
      "128 641\n",
      "162 811\n",
      "5\n"
     ]
    }
   ],
   "source": [
    "is_true=False\n",
    "while heap:\n",
    "    temp=heapq.heappop(heap)\n",
    "    a=temp[0]*2\n",
    "    b=int(str(temp[0])+'1')\n",
    "    print(a,b)\n",
    "    if (a==i2) | (b==i2):\n",
    "        print(temp[1]+1)\n",
    "        is_true=True\n",
    "        break\n",
    "    if temp[0]*2<=i2:\n",
    "        heapq.heappush(heap,[a,temp[1]+1])\n",
    "    if int(str(temp[0])+'1')<=i2:\n",
    "        heapq.heappush(heap,[b,temp[1]+1])\n",
    "if is_true==False:\n",
    "    print(-1)"
   ]
  },
  {
   "cell_type": "code",
   "execution_count": 242,
   "id": "91daaaad-b3d6-4bbb-814c-1de60cc55858",
   "metadata": {},
   "outputs": [
    {
     "data": {
      "text/plain": [
       "[]"
      ]
     },
     "execution_count": 242,
     "metadata": {},
     "output_type": "execute_result"
    }
   ],
   "source": [
    "temp_list"
   ]
  },
  {
   "cell_type": "code",
   "execution_count": null,
   "id": "33a30712-7f4f-4b71-be39-ac25cc75b83d",
   "metadata": {},
   "outputs": [],
   "source": [
    "# 실전 라이브러리\n",
    "# itertools / heapq / biset / collections / math"
   ]
  },
  {
   "cell_type": "code",
   "execution_count": 244,
   "id": "25d9a5eb-d494-412b-b3ba-2493f3873bbc",
   "metadata": {},
   "outputs": [],
   "source": [
    "result = sorted(heap, key=lambda x : x[1] )"
   ]
  },
  {
   "cell_type": "code",
   "execution_count": 245,
   "id": "bd364a5d-e824-417d-a2bf-6d42cff75588",
   "metadata": {},
   "outputs": [
    {
     "data": {
      "text/plain": [
       "[[2, 1]]"
      ]
     },
     "execution_count": 245,
     "metadata": {},
     "output_type": "execute_result"
    }
   ],
   "source": [
    "result"
   ]
  },
  {
   "cell_type": "code",
   "execution_count": 248,
   "id": "62f5685b-6924-4839-b829-6b9bc4bda7ee",
   "metadata": {},
   "outputs": [
    {
     "data": {
      "text/plain": [
       "[('A', 'B'), ('A', 'C'), ('B', 'A'), ('B', 'C'), ('C', 'A'), ('C', 'B')]"
      ]
     },
     "execution_count": 248,
     "metadata": {},
     "output_type": "execute_result"
    }
   ],
   "source": [
    "from itertools import permutations\n",
    "data=['A','B','C']\n",
    "result = list(permutations(data,2))\n",
    "result"
   ]
  },
  {
   "cell_type": "code",
   "execution_count": 250,
   "id": "5ef515a8-4d95-43e2-afbc-3de7de4d72d3",
   "metadata": {},
   "outputs": [
    {
     "data": {
      "text/plain": [
       "[('A', 'B'), ('A', 'C'), ('B', 'C')]"
      ]
     },
     "execution_count": 250,
     "metadata": {},
     "output_type": "execute_result"
    }
   ],
   "source": [
    "from itertools import combinations\n",
    "data=['A','B','C']\n",
    "result = list(combinations(data,2))\n",
    "result"
   ]
  },
  {
   "cell_type": "code",
   "execution_count": 252,
   "id": "3e4a57c4-535d-4921-a7dc-1f95b517d486",
   "metadata": {},
   "outputs": [
    {
     "data": {
      "text/plain": [
       "[('A', 'A'),\n",
       " ('A', 'B'),\n",
       " ('A', 'C'),\n",
       " ('B', 'A'),\n",
       " ('B', 'B'),\n",
       " ('B', 'C'),\n",
       " ('C', 'A'),\n",
       " ('C', 'B'),\n",
       " ('C', 'C')]"
      ]
     },
     "execution_count": 252,
     "metadata": {},
     "output_type": "execute_result"
    }
   ],
   "source": [
    "from itertools import product\n",
    "data=['A','B','C']\n",
    "result = list(product(data,repeat=2))\n",
    "result"
   ]
  },
  {
   "cell_type": "code",
   "execution_count": 254,
   "id": "9e4e1b00-24d0-4d3f-9b49-de3409a0aeb5",
   "metadata": {},
   "outputs": [
    {
     "data": {
      "text/plain": [
       "[('A', 'A'), ('A', 'B'), ('A', 'C'), ('B', 'B'), ('B', 'C'), ('C', 'C')]"
      ]
     },
     "execution_count": 254,
     "metadata": {},
     "output_type": "execute_result"
    }
   ],
   "source": [
    "from itertools import combinations_with_replacement\n",
    "data=['A','B','C']\n",
    "result = list(combinations_with_replacement(data,2))\n",
    "result"
   ]
  },
  {
   "cell_type": "code",
   "execution_count": 261,
   "id": "ca158985-cc55-433b-8b49-277bed3b43ed",
   "metadata": {},
   "outputs": [
    {
     "name": "stdout",
     "output_type": "stream",
     "text": [
      "Counter({'red': 2, 'blue': 1})\n",
      "2\n"
     ]
    }
   ],
   "source": [
    "from collections import Counter\n",
    "\n",
    "counter =Counter(['red','blue','red'])\n",
    "print(counter)\n",
    "print(counter['red'])"
   ]
  },
  {
   "cell_type": "code",
   "execution_count": 270,
   "id": "a01cf891-73ba-44de-a634-e3d624516045",
   "metadata": {},
   "outputs": [
    {
     "name": "stdout",
     "output_type": "stream",
     "text": [
      "최대공약수 7\n",
      "최소공배수 42\n"
     ]
    }
   ],
   "source": [
    "import math\n",
    "\n",
    "print(\"최대공약수\",math.gcd(21,14))\n",
    "print(\"최소공배수\",int(21*14/math.gcd(21,14)))"
   ]
  },
  {
   "cell_type": "code",
   "execution_count": 271,
   "id": "87effb28-f936-4416-8d12-0dbc6bb55424",
   "metadata": {},
   "outputs": [],
   "source": [
    "# 파이썬은 list 자료형이 stack 자료형이다"
   ]
  },
  {
   "cell_type": "code",
   "execution_count": 272,
   "id": "2b557325-1604-4c6f-b3c0-e8f70ab4ab16",
   "metadata": {},
   "outputs": [],
   "source": [
    "stack=[]"
   ]
  },
  {
   "cell_type": "code",
   "execution_count": 273,
   "id": "7d15cb50-a634-4d5d-b05c-ae8c6a605f1a",
   "metadata": {},
   "outputs": [],
   "source": [
    "stack.append(1)"
   ]
  },
  {
   "cell_type": "code",
   "execution_count": 274,
   "id": "f6607b78-9c92-4081-95d8-1e03c0ed3ac9",
   "metadata": {},
   "outputs": [
    {
     "data": {
      "text/plain": [
       "1"
      ]
     },
     "execution_count": 274,
     "metadata": {},
     "output_type": "execute_result"
    }
   ],
   "source": [
    "stack.pop()"
   ]
  },
  {
   "cell_type": "code",
   "execution_count": 275,
   "id": "1538612a-a4e1-4b59-ac8b-6bfb545ecad9",
   "metadata": {},
   "outputs": [],
   "source": [
    "stack+=[1,2,3,4,5,6]"
   ]
  },
  {
   "cell_type": "code",
   "execution_count": 276,
   "id": "41c6dc80-c9c5-4ea8-bb2b-ccc22efb7cb5",
   "metadata": {},
   "outputs": [
    {
     "data": {
      "text/plain": [
       "[1, 2, 3, 4, 5, 6]"
      ]
     },
     "execution_count": 276,
     "metadata": {},
     "output_type": "execute_result"
    }
   ],
   "source": [
    "stack"
   ]
  },
  {
   "cell_type": "code",
   "execution_count": 277,
   "id": "e6ed0e8f-f7b6-4454-827f-588d6600cb76",
   "metadata": {},
   "outputs": [
    {
     "data": {
      "text/plain": [
       "[6, 5, 4, 3, 2, 1]"
      ]
     },
     "execution_count": 277,
     "metadata": {},
     "output_type": "execute_result"
    }
   ],
   "source": [
    "stack[::-1]"
   ]
  },
  {
   "cell_type": "code",
   "execution_count": 279,
   "id": "4b4c34de-c0b0-48a9-af81-365a48d91e18",
   "metadata": {},
   "outputs": [],
   "source": [
    "from collections import deque"
   ]
  },
  {
   "cell_type": "code",
   "execution_count": 290,
   "id": "9d4ad2a5-097d-4e49-8ae4-5cab1bed236f",
   "metadata": {},
   "outputs": [],
   "source": [
    "queue =deque()"
   ]
  },
  {
   "cell_type": "code",
   "execution_count": 291,
   "id": "0466c4b0-28ac-4436-911d-2a547a698715",
   "metadata": {},
   "outputs": [],
   "source": [
    "queue.append(1)\n",
    "queue.append(2)\n",
    "queue.append(3)"
   ]
  },
  {
   "cell_type": "code",
   "execution_count": 292,
   "id": "cfd26e40-22c1-41b7-a669-2bda5f24ae3a",
   "metadata": {},
   "outputs": [
    {
     "data": {
      "text/plain": [
       "deque([1, 2, 3])"
      ]
     },
     "execution_count": 292,
     "metadata": {},
     "output_type": "execute_result"
    }
   ],
   "source": [
    "queue"
   ]
  },
  {
   "cell_type": "code",
   "execution_count": 293,
   "id": "43dec1b8-cc36-4d17-b628-6adde081fc58",
   "metadata": {},
   "outputs": [
    {
     "data": {
      "text/plain": [
       "1"
      ]
     },
     "execution_count": 293,
     "metadata": {},
     "output_type": "execute_result"
    }
   ],
   "source": [
    "queue.popleft()"
   ]
  },
  {
   "cell_type": "code",
   "execution_count": 294,
   "id": "1927d4e1-10b3-4706-826d-c1ccc4ddd0c6",
   "metadata": {},
   "outputs": [
    {
     "data": {
      "text/plain": [
       "2"
      ]
     },
     "execution_count": 294,
     "metadata": {},
     "output_type": "execute_result"
    }
   ],
   "source": [
    "queue.popleft()"
   ]
  },
  {
   "cell_type": "code",
   "execution_count": 295,
   "id": "0b064371-2859-4aa1-a242-c43d48a27025",
   "metadata": {},
   "outputs": [
    {
     "data": {
      "text/plain": [
       "deque([3])"
      ]
     },
     "execution_count": 295,
     "metadata": {},
     "output_type": "execute_result"
    }
   ],
   "source": [
    "queue"
   ]
  },
  {
   "cell_type": "code",
   "execution_count": 296,
   "id": "01c1c860-8b46-47cd-ad61-260ab38f2eb5",
   "metadata": {},
   "outputs": [],
   "source": [
    "queue.append(1)\n",
    "queue.append(2)\n",
    "queue.append(3)"
   ]
  },
  {
   "cell_type": "code",
   "execution_count": 297,
   "id": "317aff69-c320-459d-9424-736ee88f0c7b",
   "metadata": {},
   "outputs": [
    {
     "data": {
      "text/plain": [
       "deque([3, 1, 2, 3])"
      ]
     },
     "execution_count": 297,
     "metadata": {},
     "output_type": "execute_result"
    }
   ],
   "source": [
    "queue"
   ]
  },
  {
   "cell_type": "code",
   "execution_count": 298,
   "id": "262501cd-7132-4d57-9141-b4b599d719d1",
   "metadata": {},
   "outputs": [],
   "source": [
    "queue.reverse()"
   ]
  },
  {
   "cell_type": "code",
   "execution_count": 299,
   "id": "ea020426-9651-4fca-8de8-a8b10689e15d",
   "metadata": {},
   "outputs": [
    {
     "data": {
      "text/plain": [
       "deque([3, 2, 1, 3])"
      ]
     },
     "execution_count": 299,
     "metadata": {},
     "output_type": "execute_result"
    }
   ],
   "source": [
    "queue"
   ]
  },
  {
   "cell_type": "code",
   "execution_count": 302,
   "id": "0e3263c0-0525-4001-a21e-ac0f54627576",
   "metadata": {
    "collapsed": true,
    "jupyter": {
     "outputs_hidden": true
    },
    "tags": []
   },
   "outputs": [
    {
     "name": "stdout",
     "output_type": "stream",
     "text": [
      "1 번째 재귀함수 호출\n",
      "2 번째 재귀함수 호출\n",
      "3 번째 재귀함수 호출\n",
      "4 번째 재귀함수 호출\n",
      "5 번째 재귀함수 호출\n",
      "6 번째 재귀함수 호출\n",
      "7 번째 재귀함수 호출\n",
      "8 번째 재귀함수 호출\n",
      "9 번째 재귀함수 호출\n",
      "10 번째 재귀함수 호출\n",
      "11 번째 재귀함수 호출\n",
      "12 번째 재귀함수 호출\n",
      "13 번째 재귀함수 호출\n",
      "14 번째 재귀함수 호출\n",
      "15 번째 재귀함수 호출\n",
      "16 번째 재귀함수 호출\n",
      "17 번째 재귀함수 호출\n",
      "18 번째 재귀함수 호출\n",
      "19 번째 재귀함수 호출\n",
      "20 번째 재귀함수 호출\n",
      "21 번째 재귀함수 호출\n",
      "22 번째 재귀함수 호출\n",
      "23 번째 재귀함수 호출\n",
      "24 번째 재귀함수 호출\n",
      "25 번째 재귀함수 호출\n",
      "26 번째 재귀함수 호출\n",
      "27 번째 재귀함수 호출\n",
      "28 번째 재귀함수 호출\n",
      "29 번째 재귀함수 호출\n",
      "30 번째 재귀함수 호출\n",
      "31 번째 재귀함수 호출\n",
      "32 번째 재귀함수 호출\n",
      "33 번째 재귀함수 호출\n",
      "34 번째 재귀함수 호출\n",
      "35 번째 재귀함수 호출\n",
      "36 번째 재귀함수 호출\n",
      "37 번째 재귀함수 호출\n",
      "38 번째 재귀함수 호출\n",
      "39 번째 재귀함수 호출\n",
      "40 번째 재귀함수 호출\n",
      "41 번째 재귀함수 호출\n",
      "42 번째 재귀함수 호출\n",
      "43 번째 재귀함수 호출\n",
      "44 번째 재귀함수 호출\n",
      "45 번째 재귀함수 호출\n",
      "46 번째 재귀함수 호출\n",
      "47 번째 재귀함수 호출\n",
      "48 번째 재귀함수 호출\n",
      "49 번째 재귀함수 호출\n",
      "50 번째 재귀함수 호출\n",
      "51 번째 재귀함수 호출\n",
      "52 번째 재귀함수 호출\n",
      "53 번째 재귀함수 호출\n",
      "54 번째 재귀함수 호출\n",
      "55 번째 재귀함수 호출\n",
      "56 번째 재귀함수 호출\n",
      "57 번째 재귀함수 호출\n",
      "58 번째 재귀함수 호출\n",
      "59 번째 재귀함수 호출\n",
      "60 번째 재귀함수 호출\n",
      "61 번째 재귀함수 호출\n",
      "62 번째 재귀함수 호출\n",
      "63 번째 재귀함수 호출\n",
      "64 번째 재귀함수 호출\n",
      "65 번째 재귀함수 호출\n",
      "66 번째 재귀함수 호출\n",
      "67 번째 재귀함수 호출\n",
      "68 번째 재귀함수 호출\n",
      "69 번째 재귀함수 호출\n",
      "70 번째 재귀함수 호출\n",
      "71 번째 재귀함수 호출\n",
      "72 번째 재귀함수 호출\n",
      "73 번째 재귀함수 호출\n",
      "74 번째 재귀함수 호출\n",
      "75 번째 재귀함수 호출\n",
      "76 번째 재귀함수 호출\n",
      "77 번째 재귀함수 호출\n",
      "78 번째 재귀함수 호출\n",
      "79 번째 재귀함수 호출\n",
      "80 번째 재귀함수 호출\n",
      "81 번째 재귀함수 호출\n",
      "82 번째 재귀함수 호출\n",
      "83 번째 재귀함수 호출\n",
      "84 번째 재귀함수 호출\n",
      "85 번째 재귀함수 호출\n",
      "86 번째 재귀함수 호출\n",
      "87 번째 재귀함수 호출\n",
      "88 번째 재귀함수 호출\n",
      "89 번째 재귀함수 호출\n",
      "90 번째 재귀함수 호출\n",
      "91 번째 재귀함수 호출\n",
      "92 번째 재귀함수 호출\n",
      "93 번째 재귀함수 호출\n",
      "94 번째 재귀함수 호출\n",
      "95 번째 재귀함수 호출\n",
      "96 번째 재귀함수 호출\n",
      "97 번째 재귀함수 호출\n",
      "98 번째 재귀함수 호출\n",
      "99 번째 재귀함수 호출\n"
     ]
    }
   ],
   "source": [
    "def function1(i):\n",
    "    if i==100:\n",
    "        return\n",
    "    print(i,'번째 재귀함수 호출')\n",
    "    function1(i+1)\n",
    "    \n",
    "function1(1)"
   ]
  },
  {
   "cell_type": "code",
   "execution_count": 5,
   "id": "ae7b02f7-b547-40c4-82fa-b9fde56b87e5",
   "metadata": {},
   "outputs": [],
   "source": [
    "# 위치좌표\n",
    "graph =[[],[2,3,8],[1,7],[1,4,5],[3,5],[3,4],[7],[2,6,8],[1,7]]\n",
    "# 위치에 따른 방문 여부 index관계로 위치좌표와 연동\n",
    "visited=[False]*9\n",
    "# dfs 깊이 우선 타입 # 보통 재귀함수 이용\n",
    "def dfs(graph, v, visited):\n",
    "    visited[v] =True\n",
    "    print(v, end=' ')\n",
    "    for i in graph[v]:\n",
    "        if not visited[i]:\n",
    "            dfs(graph, i, visited)"
   ]
  },
  {
   "cell_type": "code",
   "execution_count": 6,
   "id": "281f94ce-b308-4e92-8df2-f7f5c0333b8c",
   "metadata": {},
   "outputs": [
    {
     "name": "stdout",
     "output_type": "stream",
     "text": [
      "1 2 7 6 8 3 4 5 "
     ]
    }
   ],
   "source": [
    "dfs(graph, 1, visited)"
   ]
  },
  {
   "cell_type": "code",
   "execution_count": 6,
   "id": "0bed003a-7f87-4dcf-8720-8b054790eb9b",
   "metadata": {},
   "outputs": [],
   "source": [
    "# bfs\n",
    "from collections import deque"
   ]
  },
  {
   "cell_type": "code",
   "execution_count": 9,
   "id": "7630f578-9983-4e75-b69e-6fd6addae45e",
   "metadata": {},
   "outputs": [],
   "source": [
    "# 위치좌표\n",
    "graph =[[],[2,3,8],[1,7],[1,4,5],[3,5],[3,4],[7],[2,6,8],[1,7]]\n",
    "# 위치에 따른 방문 여부 index관계로 위치좌표와 연동\n",
    "visited=[False]*9\n",
    "\n",
    "def bfs(graph, start, visitited):\n",
    "    queue = deque([start])\n",
    "    visited[start]=True\n",
    "    print(queue)\n",
    "    while queue:\n",
    "        # queue에 들어있는 요소중 하나 꺼내기\n",
    "        v=queue.popleft()\n",
    "        print(v, end=' ')\n",
    "        \n",
    "        # i는 v와 인접한 노드들\n",
    "        for i in graph[v]:\n",
    "            # 방문한곳인지 확인하고 안방문했으면 해당 위치로 이동\n",
    "            if not visited[i]:\n",
    "                queue.append(i)\n",
    "                visited[i]=True"
   ]
  },
  {
   "cell_type": "code",
   "execution_count": 10,
   "id": "47d87121-7f7b-46f8-b558-6044f1317519",
   "metadata": {},
   "outputs": [
    {
     "name": "stdout",
     "output_type": "stream",
     "text": [
      "deque([1])\n",
      "1 2 3 8 7 4 5 6 "
     ]
    }
   ],
   "source": [
    "bfs(graph,1,visited)"
   ]
  },
  {
   "cell_type": "code",
   "execution_count": 30,
   "id": "48ab4aaf-23df-456d-a043-fa554a4b2e53",
   "metadata": {},
   "outputs": [
    {
     "name": "stdout",
     "output_type": "stream",
     "text": [
      "deque([[1, 2]])\n",
      "[1, 2]\n"
     ]
    }
   ],
   "source": [
    "#bfs 구조\n",
    "start=1\n",
    "queue=deque([[start,2]])\n",
    "visited=3\n",
    "print(queue)\n",
    "while queue:\n",
    "    print(queue.popleft())\n",
    "    "
   ]
  },
  {
   "cell_type": "code",
   "execution_count": 12,
   "id": "aa471b30-4bc7-4e39-84b3-6beb600b35f4",
   "metadata": {},
   "outputs": [],
   "source": [
    "from collections import deque"
   ]
  },
  {
   "cell_type": "code",
   "execution_count": 13,
   "id": "09a5591c-ee36-4710-a1ad-e8bc2aabf3a4",
   "metadata": {},
   "outputs": [],
   "source": [
    "queue=deque([1,2,3])"
   ]
  },
  {
   "cell_type": "code",
   "execution_count": 16,
   "id": "42e2d5f3-6be7-490b-a214-31e398a5779c",
   "metadata": {},
   "outputs": [],
   "source": [
    "queue.append(3)"
   ]
  },
  {
   "cell_type": "code",
   "execution_count": 17,
   "id": "440c5a4c-b2e1-4973-bb7d-1da51a35f063",
   "metadata": {},
   "outputs": [
    {
     "data": {
      "text/plain": [
       "deque([1, 2, 3, 3])"
      ]
     },
     "execution_count": 17,
     "metadata": {},
     "output_type": "execute_result"
    }
   ],
   "source": [
    "queue"
   ]
  },
  {
   "cell_type": "code",
   "execution_count": 18,
   "id": "c1dd2b4e-9da6-401f-8cb1-0883759c907e",
   "metadata": {},
   "outputs": [
    {
     "data": {
      "text/plain": [
       "1"
      ]
     },
     "execution_count": 18,
     "metadata": {},
     "output_type": "execute_result"
    }
   ],
   "source": [
    "queue.popleft()"
   ]
  },
  {
   "cell_type": "code",
   "execution_count": 19,
   "id": "219b2bc6-1f89-404a-b686-95f333ccf740",
   "metadata": {},
   "outputs": [
    {
     "data": {
      "text/plain": [
       "2"
      ]
     },
     "execution_count": 19,
     "metadata": {},
     "output_type": "execute_result"
    }
   ],
   "source": [
    "queue.popleft()"
   ]
  },
  {
   "cell_type": "code",
   "execution_count": 20,
   "id": "ae13348f-f8bd-4f43-a958-36475944375a",
   "metadata": {},
   "outputs": [
    {
     "data": {
      "text/plain": [
       "3"
      ]
     },
     "execution_count": 20,
     "metadata": {},
     "output_type": "execute_result"
    }
   ],
   "source": [
    "queue.popleft()"
   ]
  },
  {
   "cell_type": "code",
   "execution_count": 21,
   "id": "7cd9c1e8-2ba9-4e17-8ca6-d2e9165aa7c1",
   "metadata": {},
   "outputs": [
    {
     "data": {
      "text/plain": [
       "3"
      ]
     },
     "execution_count": 21,
     "metadata": {},
     "output_type": "execute_result"
    }
   ],
   "source": [
    "queue.popleft()"
   ]
  },
  {
   "cell_type": "code",
   "execution_count": 31,
   "id": "ac954e19-d612-4f54-b52e-7bb05adcc023",
   "metadata": {},
   "outputs": [],
   "source": [
    "#dfs 는 크기에 대해서 부분적으로 묶을 때 유용하다"
   ]
  },
  {
   "cell_type": "code",
   "execution_count": 41,
   "id": "ce15e1d8-66e0-4106-8c6c-b54e6fb9c990",
   "metadata": {},
   "outputs": [],
   "source": [
    "n,m = 4,5"
   ]
  },
  {
   "cell_type": "code",
   "execution_count": 42,
   "id": "ba1459fb-8651-45e7-89f3-ebc4ee6a5cf7",
   "metadata": {},
   "outputs": [],
   "source": [
    "array=['00110','00011','11111','00000']"
   ]
  },
  {
   "cell_type": "code",
   "execution_count": 43,
   "id": "099c5c73-8355-4641-8638-bca4e357218a",
   "metadata": {},
   "outputs": [
    {
     "data": {
      "text/plain": [
       "[[0, 0, 1, 1, 0], [0, 0, 0, 1, 1], [1, 1, 1, 1, 1], [0, 0, 0, 0, 0]]"
      ]
     },
     "execution_count": 43,
     "metadata": {},
     "output_type": "execute_result"
    }
   ],
   "source": [
    "graph=[]\n",
    "for i in array:\n",
    "    graph.append(list(map(int,list(i))))\n",
    "graph"
   ]
  },
  {
   "cell_type": "code",
   "execution_count": 44,
   "id": "dd15cbc9-638b-4432-a82e-23c924d186ff",
   "metadata": {},
   "outputs": [],
   "source": [
    "def dfs(x,y):\n",
    "    if x<=-1 or x>=n or y<= -1 or y>=m:\n",
    "        return False\n",
    "    if graph[x][y] ==0:\n",
    "        # 방문처리\n",
    "        # 중간 dfs는 False 값을 내든 True 값을 내든 상관 없음\n",
    "        # 중간 위치들이 1로 바뀐 것만 유효하고 다 실행시 True 가 반환된다는 점이 중요\n",
    "        graph[x][y]=1\n",
    "        dfs(x-1,y)\n",
    "        dfs(x,y-1)\n",
    "        dfs(x+1,y)\n",
    "        dfs(x,y+1)\n",
    "        return True\n",
    "    return False"
   ]
  },
  {
   "cell_type": "code",
   "execution_count": 45,
   "id": "006eab9b-0ae6-4af0-9104-5c5b14f4a12b",
   "metadata": {},
   "outputs": [],
   "source": [
    "result=0\n",
    "for i in range(n):\n",
    "    for j in range(m):\n",
    "        if dfs(i,j)==True:\n",
    "            result+=1"
   ]
  },
  {
   "cell_type": "code",
   "execution_count": 46,
   "id": "06c93dc8-d578-4670-94bc-078bdedb1b7f",
   "metadata": {},
   "outputs": [
    {
     "name": "stdout",
     "output_type": "stream",
     "text": [
      "3\n"
     ]
    }
   ],
   "source": [
    "print(result)"
   ]
  },
  {
   "cell_type": "code",
   "execution_count": 44,
   "id": "5db2967f-d397-471c-971e-09ab8a260cff",
   "metadata": {},
   "outputs": [],
   "source": [
    "# bfs 는 최단거리 찾는 문제에 사용됨"
   ]
  },
  {
   "cell_type": "code",
   "execution_count": 52,
   "id": "24caad5a-b7c8-49ac-b47f-5c6d15e169e4",
   "metadata": {},
   "outputs": [],
   "source": [
    "n, m=3,3\n",
    "graph=[[1,1,0],[0,1,0],[0,1,1]]\n",
    "visited=[[False]*m for _ in range(n)]"
   ]
  },
  {
   "cell_type": "code",
   "execution_count": 53,
   "id": "deeec1cd-f652-4bf8-ab66-f1a5da3b809b",
   "metadata": {},
   "outputs": [
    {
     "data": {
      "text/plain": [
       "[[False, False, False], [False, False, False], [False, False, False]]"
      ]
     },
     "execution_count": 53,
     "metadata": {},
     "output_type": "execute_result"
    }
   ],
   "source": [
    "visited"
   ]
  },
  {
   "cell_type": "code",
   "execution_count": 46,
   "id": "81338d4f-8f24-492a-89c7-8843bf708097",
   "metadata": {},
   "outputs": [],
   "source": [
    "start=[0,0]"
   ]
  },
  {
   "cell_type": "code",
   "execution_count": 62,
   "id": "0c81fa3a-41db-4d87-8484-06604f230cfb",
   "metadata": {},
   "outputs": [],
   "source": [
    "dx=[-1,1,0,0]\n",
    "dy=[0,0,-1,1]\n",
    "\n",
    "def bfs(x,y):\n",
    "    queue=deque()\n",
    "    queue.append((x,y))\n",
    "    while queue:\n",
    "        x,y = queue.popleft()\n",
    "        for i in range(4):\n",
    "            nx = x + dx[i]\n",
    "            ny = y + dy[i]\n",
    "            \n",
    "            # 내부 확인 작업\n",
    "            if nx<0 or nx>=n or ny<0 or ny>=m:\n",
    "                continue\n",
    "                \n",
    "            # 길 확인 작업\n",
    "            if graph[nx][ny]==1:\n",
    "                graph[nx][ny]=graph[x][y]+1\n",
    "                queue.append((nx,ny))\n",
    "                \n",
    "    # 맨 마지막 위치의 값 특정\n",
    "    return graph[n-1][m-1]"
   ]
  },
  {
   "cell_type": "code",
   "execution_count": 57,
   "id": "9d15c6f8-c16d-470d-b589-5ffe4931dc39",
   "metadata": {},
   "outputs": [],
   "source": [
    "# queue를 만들고 해당에 (0,0) 들어감\n",
    "# nx,ny 에 [-1,0],[1,0],[0,-1],[0,1] 들어감\n",
    "# if 에서 조건에 안맞으면 다음거 진행 안하고 다시 처음으로\n",
    "# 새로운 위치가 1이면 해당 위치의 길에 +1 하고 그 위치 값을 queue에 저장"
   ]
  },
  {
   "cell_type": "code",
   "execution_count": 64,
   "id": "3d84304f-a128-4a06-8741-a534f39b33a4",
   "metadata": {},
   "outputs": [
    {
     "name": "stdin",
     "output_type": "stream",
     "text": [
      " 5 6\n",
      " 101010\n",
      " 111111\n",
      " 000001\n",
      " 111111\n",
      " 111111\n"
     ]
    },
    {
     "name": "stdout",
     "output_type": "stream",
     "text": [
      "10\n"
     ]
    }
   ],
   "source": [
    "n,m = map(int, input().split())\n",
    "graph=[]\n",
    "for i in range(n):\n",
    "    graph.append(list(map(int, input())))\n",
    "    \n",
    "dx=[-1,1,0,0]\n",
    "dy=[0,0,-1,1]\n",
    "\n",
    "print(bfs(0,0))"
   ]
  },
  {
   "cell_type": "code",
   "execution_count": 65,
   "id": "b09ee076-1ff6-436c-949e-236c17f83f09",
   "metadata": {},
   "outputs": [
    {
     "name": "stdout",
     "output_type": "stream",
     "text": [
      "[[3, 0, 5, 0, 7, 0], [2, 3, 4, 5, 6, 7], [0, 0, 0, 0, 0, 8], [14, 13, 12, 11, 10, 9], [15, 14, 13, 12, 11, 10]]\n"
     ]
    }
   ],
   "source": [
    "print(graph)"
   ]
  },
  {
   "cell_type": "code",
   "execution_count": 4,
   "id": "3ae89156-8097-40a8-af30-160f37cc7a85",
   "metadata": {},
   "outputs": [],
   "source": [
    "S='567'"
   ]
  },
  {
   "cell_type": "code",
   "execution_count": 5,
   "id": "84ecc498-dd10-4cfd-b9f0-a1212b8351e8",
   "metadata": {},
   "outputs": [
    {
     "name": "stdout",
     "output_type": "stream",
     "text": [
      "210\n"
     ]
    }
   ],
   "source": [
    "# (((1 2) 3) 4) 식으로 연산을 진행하는 문제\n",
    "# 1번 위치는 초기값으로 세팅하고 2,3,4를 추가 연산하는 식으로 해결함.\n",
    "result=int(S[0])\n",
    "# i in 문자열 or 리스트 는 강하지만 인덱스를 쓸 수 없다는 점에서 전거 다음거 선언이 힘들다\n",
    "\n",
    "for i in range(1,len(S)):\n",
    "    num=int(S[i])\n",
    "    if num<=1 or result<=1:\n",
    "        result+=num\n",
    "    else:\n",
    "        result*=num\n",
    "print(result)"
   ]
  },
  {
   "cell_type": "code",
   "execution_count": 7,
   "id": "fb83fcea-1109-4fbf-95df-8e2fbd04f54d",
   "metadata": {},
   "outputs": [
    {
     "data": {
      "text/plain": [
       "1575"
      ]
     },
     "execution_count": 7,
     "metadata": {},
     "output_type": "execute_result"
    }
   ],
   "source": [
    "# 3이 하나라도 들어간 모든 경우의 수 구하기\n",
    "# 00시 00분 00초 N시 59분 59초\n",
    "\n",
    "# 60 초 사이에 3이 들어가는 번수 3 13 23 30~39 43 53 -> 15개\n",
    "# 분도 동일 15개 * 60초\n",
    "# 따라서 시간에 3만 들어가지 않는다면 \n",
    "\n",
    "# 특수한 시간 3 13 23 을 제외한 나머지 숫자는 \n",
    "# 시간당 45 개는 15개/ 15개는 60개\n",
    "45* 15 + 15*60 # 시간당 있는 갯수"
   ]
  },
  {
   "cell_type": "code",
   "execution_count": 13,
   "id": "d86cb16a-d0ff-428b-9573-b0723bcd5208",
   "metadata": {},
   "outputs": [
    {
     "name": "stdin",
     "output_type": "stream",
     "text": [
      " 5\n"
     ]
    },
    {
     "name": "stdout",
     "output_type": "stream",
     "text": [
      "11475\n"
     ]
    }
   ],
   "source": [
    "N= int(input())\n",
    "if N<3:\n",
    "    print(1575*(N+1))\n",
    "elif N<13:\n",
    "    print(1575*(N)+3600)\n",
    "elif N<23:\n",
    "    print(1575*(N-1)+2*3600)\n",
    "else:\n",
    "    print(1575*(N-2)+3*3600)"
   ]
  },
  {
   "cell_type": "code",
   "execution_count": 12,
   "id": "0065bddd-effa-48cb-8f8c-f77d1278feb4",
   "metadata": {},
   "outputs": [
    {
     "data": {
      "text/plain": [
       "9900"
      ]
     },
     "execution_count": 12,
     "metadata": {},
     "output_type": "execute_result"
    }
   ],
   "source": [
    "1575*4+3600"
   ]
  },
  {
   "cell_type": "code",
   "execution_count": 14,
   "id": "1233d10c-2ece-4902-bfb6-27570c421f09",
   "metadata": {},
   "outputs": [],
   "source": []
  },
  {
   "cell_type": "code",
   "execution_count": 16,
   "id": "b5eb111b-e506-4d3e-af3f-d304d74a6a2b",
   "metadata": {},
   "outputs": [],
   "source": [
    "from collections import deque"
   ]
  },
  {
   "cell_type": "code",
   "execution_count": 17,
   "id": "e76df622-7e48-482d-82a3-c4d9fc7d359b",
   "metadata": {},
   "outputs": [],
   "source": [
    "queue=deque([1,1])"
   ]
  },
  {
   "cell_type": "code",
   "execution_count": 23,
   "id": "b274c400-9441-4687-a995-5517bf8f7228",
   "metadata": {},
   "outputs": [],
   "source": [
    "# 이동문제 (구현)\n",
    "N=5\n",
    "S=['R','R','R','U','D','D']\n",
    "# L, R, D U\n",
    "dx=[-1,1,0,0]\n",
    "dy=[0,0,-1,1]\n",
    "x,y=0,0\n",
    "dict1={'L':0, 'R':1, 'D':2,'U':3}\n",
    "for i in range(len(S)):\n",
    "    x+=dx[dict1[S[i]]]\n",
    "    y+=dy[dict1[S[i]]]"
   ]
  },
  {
   "cell_type": "code",
   "execution_count": 24,
   "id": "cb63d3c8-a78b-4fad-81f0-d69317b89173",
   "metadata": {},
   "outputs": [
    {
     "name": "stdout",
     "output_type": "stream",
     "text": [
      "3 -1\n"
     ]
    }
   ],
   "source": [
    "print(x,y)"
   ]
  },
  {
   "cell_type": "code",
   "execution_count": 1,
   "id": "240c1b75-327a-4975-9feb-976b67fe0c5e",
   "metadata": {},
   "outputs": [],
   "source": []
  },
  {
   "cell_type": "code",
   "execution_count": 2,
   "id": "ba980360-82e8-44b7-9939-39e698952ee1",
   "metadata": {},
   "outputs": [],
   "source": [
    "# 1. 이동을 해야하는 문제에서 greedy 인지 아니면 dfs or bfs 인지 구분하는 방법을 알아야함\n",
    "# 2. greedy 의 경우 현재 posiotion에 대한 값으로 처리하면 됨\n",
    "# 3. bfs의 경우 현재 까지 이동한 거리에 대해서 같은 값을 갖게 처리할 수 있음.\n",
    "# 4. dfs의 경우 하나의 값에서 깊이가 얼마인지 또 그런 경우의 수가 몇개인지 확인할 수 있음."
   ]
  },
  {
   "cell_type": "code",
   "execution_count": 3,
   "id": "43fe08ff-5d68-4f43-9fe4-1df61edbaab9",
   "metadata": {},
   "outputs": [],
   "source": [
    "# 1. 이동을 해야하는 문제\n",
    "# 1-1. 이동을 해야하는 문제에서는 이동의 조건이 주어질 것임.\n",
    "# 1-2. 이동의 조건을 어떤 기준으로 이동할 수 있는지 세우는 것이 중요하다.\n",
    "# 1-3. 이동을 할 수 있도록 도울 것"
   ]
  },
  {
   "cell_type": "code",
   "execution_count": 19,
   "id": "83bfcd94-c4c1-46d8-9c9e-e3b23837b928",
   "metadata": {
    "tags": []
   },
   "outputs": [
    {
     "name": "stdout",
     "output_type": "stream",
     "text": [
      "0 1\n",
      "0 1\n",
      "0 1\n",
      "0 1\n",
      "0 2\n",
      "0 2\n",
      "0 2\n",
      "0 2\n",
      "0 3\n",
      "0 3\n",
      "0 3\n",
      "0 3\n",
      "0 4\n",
      "0 4\n",
      "0 4\n",
      "0 3\n",
      "0 3\n",
      "0 3\n",
      "0 3\n",
      "0 3\n",
      "0 3\n",
      "1 3\n",
      "1 3\n",
      "1 3\n",
      "1 3\n",
      "2 3\n"
     ]
    }
   ],
   "source": [
    "# 1. 이동을 해야하는 문제\n",
    "# 주어진 조건 :이동관련, 테이블 크기, 종료조건\n",
    "moving=list('RRRRLUDD')\n",
    "# 테이블 크기 m,n\n",
    "m,n = 5,5\n",
    "\n",
    "\n",
    "# 이동관련 dx, dy (왼, 오, 위, 아래)\n",
    "dx=[0,0,-1,1]\n",
    "dy=[-1,1,0,0]\n",
    "# 만약 방향을 정할 수 있는 경우\n",
    "vector=['L','R','U','D']\n",
    "\n",
    "# 시작위치 선언 \n",
    "x,y=0,0\n",
    "\n",
    "for i in range(len(moving)):\n",
    "    for j in range(4):\n",
    "        if moving[i]==vector[j]:\n",
    "            nx=x+dx[j]\n",
    "            ny=y+dy[j]\n",
    "        if nx<0 or ny>=n or ny<0 or ny>=m:\n",
    "            continue\n",
    "        x,y =nx,ny\n",
    "        print(x,y)"
   ]
  },
  {
   "cell_type": "code",
   "execution_count": 13,
   "id": "22ca29a1-c17a-43ac-be8b-c615e36f140a",
   "metadata": {},
   "outputs": [
    {
     "data": {
      "text/plain": [
       "['R', 'R', 'R', 'R', 'L', 'U', 'D', 'D']"
      ]
     },
     "execution_count": 13,
     "metadata": {},
     "output_type": "execute_result"
    }
   ],
   "source": [
    "moving"
   ]
  },
  {
   "cell_type": "code",
   "execution_count": 34,
   "id": "916acbe4-6fdf-4364-8cac-64ca016bb726",
   "metadata": {},
   "outputs": [],
   "source": [
    "# 자료구조 heap : heapq 선택시 리스트의 최대값 최소값을 계속 가져오는데 사용 / heappop, heappush\n",
    "# 자료구조 stack : list 선택 시 스택구조로 나중에 들어온게 먼저나가는 형태    / pop , append\n",
    "# 자료구조 queue : deque 선택시 먼저 들어온게 먼저 나가는 선입 선출 형태      / popleft , append"
   ]
  },
  {
   "cell_type": "code",
   "execution_count": 3,
   "id": "c0c6bfc2-ff8f-4eae-81ac-6d071d521625",
   "metadata": {},
   "outputs": [
    {
     "name": "stdout",
     "output_type": "stream",
     "text": [
      "4\n"
     ]
    }
   ],
   "source": [
    "# heqpq-1\n",
    "# k번째로 작은 수\n",
    "import heapq\n",
    "\n",
    "def kth_smallest(nums, k):\n",
    "    heap = []\n",
    "    \n",
    "    # 일반적인 heapq 구조 만드는 과정\n",
    "    for num in nums:\n",
    "        heapq.heappush(heap, num)\n",
    "    \n",
    "    # k 번째까지 추출하는 과정 최종값을 return 한다.\n",
    "    kth_min = None\n",
    "    for _ in range(k):\n",
    "        kth_min = heapq.heappop(heap)\n",
    "    return kth_min\n",
    "\n",
    "print(kth_smallest([4, 1, 7, 3, 8, 5], 3))"
   ]
  },
  {
   "cell_type": "code",
   "execution_count": 4,
   "id": "f8dfca88-1a9c-4750-b948-ee802e16a56c",
   "metadata": {},
   "outputs": [
    {
     "name": "stdout",
     "output_type": "stream",
     "text": [
      "8\n",
      "7\n",
      "5\n",
      "4\n",
      "3\n",
      "1\n"
     ]
    }
   ],
   "source": [
    "# heqpq-2\n",
    "# 최대값 정렬\n",
    "import heapq\n",
    "\n",
    "nums = [4, 1, 7, 3, 8, 5]\n",
    "heap = []\n",
    "\n",
    "for num in nums:\n",
    "  heapq.heappush(heap, (-num, num))  # (우선 순위, 값)\n",
    "\n",
    "while heap:\n",
    "  print(heapq.heappop(heap)[1])  # index 1"
   ]
  },
  {
   "cell_type": "code",
   "execution_count": 23,
   "id": "a0124b4b-86c9-4c1d-911e-37c61ed3c32e",
   "metadata": {},
   "outputs": [],
   "source": [
    "list1=[2,4,3,3,4]"
   ]
  },
  {
   "cell_type": "code",
   "execution_count": 7,
   "id": "e0f9aaf4-cb99-483e-b742-03f20a0cb04d",
   "metadata": {},
   "outputs": [
    {
     "data": {
      "text/plain": [
       "4"
      ]
     },
     "execution_count": 7,
     "metadata": {},
     "output_type": "execute_result"
    }
   ],
   "source": [
    "list1.pop()"
   ]
  },
  {
   "cell_type": "code",
   "execution_count": 8,
   "id": "657ca8b6-1e3a-4ea1-8236-bdbec417d38d",
   "metadata": {},
   "outputs": [],
   "source": [
    "list1.append(10)"
   ]
  },
  {
   "cell_type": "code",
   "execution_count": 9,
   "id": "d354c4a9-6925-44c9-a9ea-fb1696572a30",
   "metadata": {},
   "outputs": [
    {
     "data": {
      "text/plain": [
       "[2, 4, 3, 3, 10]"
      ]
     },
     "execution_count": 9,
     "metadata": {},
     "output_type": "execute_result"
    }
   ],
   "source": [
    "list1"
   ]
  },
  {
   "cell_type": "code",
   "execution_count": 10,
   "id": "936ebef7-8b29-4a15-beb0-c4626fbc9785",
   "metadata": {},
   "outputs": [],
   "source": [
    "from collections import deque"
   ]
  },
  {
   "cell_type": "code",
   "execution_count": 12,
   "id": "dcd36c9b-b480-49f6-8027-09caec37062d",
   "metadata": {},
   "outputs": [],
   "source": [
    "queue=deque(list1)"
   ]
  },
  {
   "cell_type": "code",
   "execution_count": 14,
   "id": "9811e82f-b852-40c0-ad0d-effb708974eb",
   "metadata": {},
   "outputs": [
    {
     "data": {
      "text/plain": [
       "2"
      ]
     },
     "execution_count": 14,
     "metadata": {},
     "output_type": "execute_result"
    }
   ],
   "source": [
    "queue.popleft()"
   ]
  },
  {
   "cell_type": "code",
   "execution_count": 16,
   "id": "220aff89-a452-4f8b-a504-bd233336dba4",
   "metadata": {},
   "outputs": [],
   "source": [
    "queue.append(3)"
   ]
  },
  {
   "cell_type": "code",
   "execution_count": 17,
   "id": "3139c300-682b-4742-a64f-6e7218be3cbc",
   "metadata": {},
   "outputs": [
    {
     "data": {
      "text/plain": [
       "deque([4, 3, 3, 10, 3])"
      ]
     },
     "execution_count": 17,
     "metadata": {},
     "output_type": "execute_result"
    }
   ],
   "source": [
    "queue"
   ]
  },
  {
   "cell_type": "code",
   "execution_count": 18,
   "id": "3fb2ab8a-8c56-49d5-ba93-a934af1896b3",
   "metadata": {},
   "outputs": [],
   "source": [
    "import heapq"
   ]
  },
  {
   "cell_type": "code",
   "execution_count": 24,
   "id": "0ac02b8c-01ef-49ac-9f12-7ccec04b9199",
   "metadata": {},
   "outputs": [],
   "source": [
    "heap=heapq.heapify(list1)"
   ]
  },
  {
   "cell_type": "code",
   "execution_count": 26,
   "id": "c2b089ab-0bc1-4ff8-be12-08e318fe2a3a",
   "metadata": {},
   "outputs": [
    {
     "name": "stdout",
     "output_type": "stream",
     "text": [
      "None\n",
      "[2, 3, 3, 4, 4]\n"
     ]
    }
   ],
   "source": [
    "print(heap)\n",
    "print(list1) # 반환값 없이 heapify(list1) 하면 list1이 heap이 됨"
   ]
  },
  {
   "cell_type": "code",
   "execution_count": 28,
   "id": "037dfde4-9982-4c27-b4d7-d29dff8e43e6",
   "metadata": {},
   "outputs": [],
   "source": [
    "heapq.heappush(list1, 6)"
   ]
  },
  {
   "cell_type": "code",
   "execution_count": 29,
   "id": "970340ab-56c0-4d58-925e-26615ff4e0b7",
   "metadata": {},
   "outputs": [
    {
     "data": {
      "text/plain": [
       "[2, 3, 3, 4, 4, 6]"
      ]
     },
     "execution_count": 29,
     "metadata": {},
     "output_type": "execute_result"
    }
   ],
   "source": [
    "list1"
   ]
  },
  {
   "cell_type": "code",
   "execution_count": 30,
   "id": "496a7ca3-6ef3-4dfe-9577-aaa54758c29c",
   "metadata": {},
   "outputs": [
    {
     "data": {
      "text/plain": [
       "2"
      ]
     },
     "execution_count": 30,
     "metadata": {},
     "output_type": "execute_result"
    }
   ],
   "source": [
    "heapq.heappop(list1)"
   ]
  },
  {
   "cell_type": "code",
   "execution_count": 33,
   "id": "e1b699a9-849e-442a-80a1-1f0c40ef6607",
   "metadata": {},
   "outputs": [],
   "source": [
    "heapq.heapify(list1)"
   ]
  },
  {
   "cell_type": "code",
   "execution_count": 35,
   "id": "1bd7a3ff-ef3a-4962-9a01-cf16e9d62323",
   "metadata": {},
   "outputs": [],
   "source": [
    "# dfs 구현하기\n",
    "def dfs(graph, start, visited):\n",
    "    visited[start]=True\n",
    "    print(v, end=' ')\n",
    "    for i in graph[v]:\n",
    "        if not visited[i]:\n",
    "            dfs(graph, i, visited)\n",
    "\n",
    "# graph의 형태가 [[1,2,3],[0,3,2]] 식으로 되어 있기에 가능한 식 만약 행렬 식으로 dfs 를 하려면?"
   ]
  },
  {
   "cell_type": "code",
   "execution_count": null,
   "id": "3546e495-6f29-4ead-9efb-527d9f214282",
   "metadata": {},
   "outputs": [],
   "source": [
    "table=['00110','00011','11111','00000']\n",
    "def dfs(table,start, visited):\n",
    "    for i in rangen\n",
    "    "
   ]
  },
  {
   "cell_type": "code",
   "execution_count": 1,
   "id": "ad443d1d-703b-4384-a85b-1e7d661e5b52",
   "metadata": {},
   "outputs": [
    {
     "name": "stdin",
     "output_type": "stream",
     "text": [
      " 3 3\n"
     ]
    }
   ],
   "source": [
    "n,m = map(int,input().split(' '))"
   ]
  },
  {
   "cell_type": "code",
   "execution_count": 2,
   "id": "f794463c-f000-4ae6-9109-ff93cf2d2cd5",
   "metadata": {},
   "outputs": [
    {
     "name": "stdin",
     "output_type": "stream",
     "text": [
      " 1 1 0\n"
     ]
    }
   ],
   "source": [
    "r,c,direc= map(int, input().split(' '))"
   ]
  },
  {
   "cell_type": "code",
   "execution_count": 71,
   "id": "58130fe5-09e3-4b40-9a36-aa47c8365cee",
   "metadata": {},
   "outputs": [
    {
     "ename": "ValueError",
     "evalue": "invalid literal for int() with base 10: ''",
     "output_type": "error",
     "traceback": [
      "\u001b[1;31m---------------------------------------------------------------------------\u001b[0m",
      "\u001b[1;31mValueError\u001b[0m                                Traceback (most recent call last)",
      "\u001b[1;32m<ipython-input-71-888d15ccc5c5>\u001b[0m in \u001b[0;36m<module>\u001b[1;34m\u001b[0m\n\u001b[0;32m      2\u001b[0m \u001b[0mgraph\u001b[0m\u001b[1;33m=\u001b[0m\u001b[1;33m[\u001b[0m\u001b[1;33m]\u001b[0m\u001b[1;33m\u001b[0m\u001b[1;33m\u001b[0m\u001b[0m\n\u001b[0;32m      3\u001b[0m \u001b[1;32mfor\u001b[0m \u001b[0mi\u001b[0m \u001b[1;32min\u001b[0m \u001b[0mrange\u001b[0m\u001b[1;33m(\u001b[0m\u001b[0mM\u001b[0m\u001b[1;33m)\u001b[0m\u001b[1;33m:\u001b[0m\u001b[1;33m\u001b[0m\u001b[1;33m\u001b[0m\u001b[0m\n\u001b[1;32m----> 4\u001b[1;33m     \u001b[0mgraph\u001b[0m\u001b[1;33m.\u001b[0m\u001b[0mappend\u001b[0m\u001b[1;33m(\u001b[0m\u001b[0mlist\u001b[0m\u001b[1;33m(\u001b[0m\u001b[0mmap\u001b[0m\u001b[1;33m(\u001b[0m\u001b[0mint\u001b[0m\u001b[1;33m,\u001b[0m\u001b[0msys\u001b[0m\u001b[1;33m.\u001b[0m\u001b[0mstdin\u001b[0m\u001b[1;33m.\u001b[0m\u001b[0mreadline\u001b[0m\u001b[1;33m(\u001b[0m\u001b[1;33m)\u001b[0m\u001b[1;33m.\u001b[0m\u001b[0msplit\u001b[0m\u001b[1;33m(\u001b[0m\u001b[1;34m' '\u001b[0m\u001b[1;33m)\u001b[0m\u001b[1;33m)\u001b[0m\u001b[1;33m)\u001b[0m\u001b[1;33m)\u001b[0m\u001b[1;33m\u001b[0m\u001b[1;33m\u001b[0m\u001b[0m\n\u001b[0m",
      "\u001b[1;31mValueError\u001b[0m: invalid literal for int() with base 10: ''"
     ]
    }
   ],
   "source": [
    "import sys\n",
    "graph=[]\n",
    "for i in range(m):\n",
    "    graph.append(list(map(int,sys.stdin.readline().split(' '))))"
   ]
  },
  {
   "cell_type": "code",
   "execution_count": 10,
   "id": "b58e2d24-3d47-4f40-8673-15f23f17b48e",
   "metadata": {},
   "outputs": [],
   "source": [
    "graph=[[1, 1, 1, 1, 1, 1, 1, 1, 1, 1],\n",
    "       [1, 0, 0, 0, 0, 0, 0, 0, 0, 1],\n",
    "       [1, 0, 0, 0, 1, 1, 1, 1, 0, 1],\n",
    "       [1,1,1]]"
   ]
  },
  {
   "cell_type": "code",
   "execution_count": 11,
   "id": "44714689-3098-41aa-92c1-46e5d8bf6226",
   "metadata": {},
   "outputs": [
    {
     "name": "stdout",
     "output_type": "stream",
     "text": [
      "1 1\n",
      "0\n",
      "1\n",
      "2\n",
      "3\n",
      "0 1\n",
      "0\n",
      "0\n",
      "1\n",
      "2\n",
      "0 0\n",
      "0\n",
      "1\n",
      "2\n",
      "3\n",
      "0 0\n",
      "3\n"
     ]
    }
   ],
   "source": [
    "# X,M, (r,c) ,direc 북 0 \n",
    "dx=[-1,0,1,0]\n",
    "dy=[0,1,0,-1]\n",
    "result=1\n",
    "x,y=r,c\n",
    "breaking=False\n",
    "# break 구문 나올때까지 돌릴 예정\n",
    "while True:\n",
    "    print(x,y)\n",
    "    if breaking==True:\n",
    "        break\n",
    "    # 청소한 위치는 2를 넣어 구분할 예정\n",
    "    graph[x][y]=2\n",
    "    # cnt를 통해서 돈 횟수가 4번일 때 뒤로 이동 혹은 정지를 할 예정\n",
    "    cnt=0\n",
    "    # 첫회의 \n",
    "    for i in range(4):\n",
    "        print(cnt)\n",
    "        # 왼쪽의 상태 확인 작업\n",
    "        if direc==0:\n",
    "            direc2=3\n",
    "        else:\n",
    "            direc2-=1\n",
    "        nx=x+dx[direc2]\n",
    "        ny=y+dy[direc2]\n",
    "        direc=direc2\n",
    "        \n",
    "        # 상태가 청소되어 있거나 벽이면 회전 후 for문으로\n",
    "        if nx<0 or nx>=n or ny<0 or ny>=m or graph[nx][ny]==1 or graph[nx][ny]==2:\n",
    "            if cnt==3:\n",
    "                if graph[x-dx[direc]][y-dy[direc]]==1:\n",
    "                    breaking=True\n",
    "                    break\n",
    "                else:\n",
    "                    x-=dx[direc]\n",
    "                    y-=dy[direc]\n",
    "            cnt+=1\n",
    "            continue\n",
    "        # 청소안된 0 상태이면 청소한 결과 +1 및 해당 위치로 이동\n",
    "        else:\n",
    "            result+=1\n",
    "            x=nx\n",
    "            y=ny\n",
    "print(result)"
   ]
  },
  {
   "cell_type": "code",
   "execution_count": 9,
   "id": "6b12430d-878d-49e4-a7ee-ca47e4404fdf",
   "metadata": {},
   "outputs": [
    {
     "data": {
      "text/plain": [
       "[[2, 2, 0], [1, 2, 1], [1, 1, 1]]"
      ]
     },
     "execution_count": 9,
     "metadata": {},
     "output_type": "execute_result"
    }
   ],
   "source": [
    "graph"
   ]
  },
  {
   "cell_type": "code",
   "execution_count": null,
   "id": "feac76e6-9d2b-480b-aeb7-16fd10e42f85",
   "metadata": {},
   "outputs": [],
   "source": []
  }
 ],
 "metadata": {
  "kernelspec": {
   "display_name": "Python 3",
   "language": "python",
   "name": "python3"
  },
  "language_info": {
   "codemirror_mode": {
    "name": "ipython",
    "version": 3
   },
   "file_extension": ".py",
   "mimetype": "text/x-python",
   "name": "python",
   "nbconvert_exporter": "python",
   "pygments_lexer": "ipython3",
   "version": "3.8.8"
  }
 },
 "nbformat": 4,
 "nbformat_minor": 5
}
