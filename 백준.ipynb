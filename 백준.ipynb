{
 "cells": [
  {
   "cell_type": "code",
   "execution_count": 1,
   "id": "4704d3b0-f497-42f3-85b0-982f24d3abff",
   "metadata": {},
   "outputs": [
    {
     "name": "stdin",
     "output_type": "stream",
     "text": [
      " 18\n"
     ]
    },
    {
     "name": "stdout",
     "output_type": "stream",
     "text": [
      "4\n"
     ]
    }
   ],
   "source": [
    "# 설탕배달\n",
    "# 배달할 설탕 총 무게 N\n",
    "# 배달할 설탕 3,5kg이고 최소 봉지로 가져가고 싶음\n",
    "N=int(input())\n",
    "bag=0\n",
    "# 5로 나눠 떨어지면 무조건 5선택 아닐경우 3으로 나누면서 5의 배수가될때까지 실행\n",
    "while N>=0:\n",
    "    if N%5==0:\n",
    "        bag+=N//5\n",
    "        # 5의 배수가 나온 경우\n",
    "        print(bag)\n",
    "        break\n",
    "    N-=3\n",
    "    bag+=1\n",
    "# 5의 배수가 안나온 경우\n",
    "else:\n",
    "    print(-1)"
   ]
  },
  {
   "cell_type": "code",
   "execution_count": 130,
   "id": "2c0e13d2-3fb6-4961-baf9-a096999048d3",
   "metadata": {},
   "outputs": [
    {
     "name": "stdin",
     "output_type": "stream",
     "text": [
      " 4\n"
     ]
    }
   ],
   "source": [
    "N=int(input())"
   ]
  },
  {
   "cell_type": "code",
   "execution_count": 131,
   "id": "c73847b0-7b21-435a-bed5-d3db60b500f6",
   "metadata": {},
   "outputs": [
    {
     "name": "stdin",
     "output_type": "stream",
     "text": [
      " A\n",
      " Z\n",
      " D\n",
      " AA\n"
     ]
    }
   ],
   "source": [
    "### string_list=[]\n",
    "for i in range(N):\n",
    "    string_list.append(input())"
   ]
  },
  {
   "cell_type": "code",
   "execution_count": 132,
   "id": "0a3b9629-2d69-4ebc-9b95-6692b730b8ab",
   "metadata": {},
   "outputs": [],
   "source": [
    "# 알파벳의 최대갯수는 \n",
    "dict1={'A':0,'B':0,'C':0,'D':0,'E':0,'F':0,'G':0,'H':0,'I':0,'J':0,'K':0,'L':0,'N':0,'M':0,'O':0,'P':0,'Q':0,'R':0,'S':0,'T':0,'U':0,'V':0,'W':0, 'X':0,'Y':0,'Z':0}"
   ]
  },
  {
   "cell_type": "code",
   "execution_count": 133,
   "id": "dba6f864-a1d7-4c2f-adbf-dbe75902bcc4",
   "metadata": {},
   "outputs": [],
   "source": [
    "for string in string_list:\n",
    "    for idx,alpha in enumerate(string):\n",
    "        dict1[alpha]+=10**(len(string)-idx-1)"
   ]
  },
  {
   "cell_type": "code",
   "execution_count": 134,
   "id": "3c90cc70-2b24-41f3-bc25-da62def90090",
   "metadata": {},
   "outputs": [
    {
     "data": {
      "text/plain": [
       "{'A': 12,\n",
       " 'B': 0,\n",
       " 'C': 0,\n",
       " 'D': 2,\n",
       " 'E': 0,\n",
       " 'F': 0,\n",
       " 'G': 0,\n",
       " 'H': 0,\n",
       " 'I': 0,\n",
       " 'J': 0,\n",
       " 'K': 0,\n",
       " 'L': 0,\n",
       " 'N': 0,\n",
       " 'M': 0,\n",
       " 'O': 0,\n",
       " 'P': 0,\n",
       " 'Q': 0,\n",
       " 'R': 0,\n",
       " 'S': 0,\n",
       " 'T': 0,\n",
       " 'U': 0,\n",
       " 'V': 0,\n",
       " 'W': 0,\n",
       " 'X': 0,\n",
       " 'Y': 0,\n",
       " 'Z': 1}"
      ]
     },
     "execution_count": 134,
     "metadata": {},
     "output_type": "execute_result"
    }
   ],
   "source": [
    "dict1"
   ]
  },
  {
   "cell_type": "code",
   "execution_count": 135,
   "id": "4cea770d-3867-4454-a7d3-dbab4a529862",
   "metadata": {},
   "outputs": [
    {
     "name": "stdout",
     "output_type": "stream",
     "text": [
      "A 0\n",
      "D 108\n",
      "Z 124\n",
      "B 131\n",
      "C 131\n",
      "E 131\n",
      "F 131\n",
      "G 131\n",
      "H 131\n",
      "I 131\n"
     ]
    }
   ],
   "source": [
    "cnt=9\n",
    "result=0\n",
    "for i,j in sorted(dict1.items(), key=lambda item:item[1],reverse=True)[0:10]:\n",
    "    print(i, result)\n",
    "    result+=dict1[i]*cnt\n",
    "    cnt-=1"
   ]
  },
  {
   "cell_type": "code",
   "execution_count": 136,
   "id": "ffaac709-8e1a-468d-a794-44e2465d3764",
   "metadata": {},
   "outputs": [
    {
     "data": {
      "text/plain": [
       "131"
      ]
     },
     "execution_count": 136,
     "metadata": {},
     "output_type": "execute_result"
    }
   ],
   "source": [
    "result"
   ]
  },
  {
   "cell_type": "code",
   "execution_count": 127,
   "id": "04e01dd1-efc4-4995-969b-37f5d7b43dfd",
   "metadata": {},
   "outputs": [
    {
     "data": {
      "text/plain": [
       "[('A', 1),\n",
       " ('D', 1),\n",
       " ('B', 0),\n",
       " ('C', 0),\n",
       " ('E', 0),\n",
       " ('F', 0),\n",
       " ('G', 0),\n",
       " ('H', 0),\n",
       " ('I', 0),\n",
       " ('J', 0)]"
      ]
     },
     "execution_count": 127,
     "metadata": {},
     "output_type": "execute_result"
    }
   ],
   "source": [
    "sorted(dict1.items(), key=lambda item:item[1],reverse=True)[0:10]"
   ]
  },
  {
   "cell_type": "code",
   "execution_count": 15,
   "id": "c9be48a8-3ece-47df-962b-704b5feab593",
   "metadata": {},
   "outputs": [
    {
     "name": "stdin",
     "output_type": "stream",
     "text": [
      " 3\n"
     ]
    }
   ],
   "source": [
    "import sys\n",
    "N= int(input())"
   ]
  },
  {
   "cell_type": "code",
   "execution_count": 22,
   "id": "0f557c35-80aa-429e-9784-08aefa706b1d",
   "metadata": {},
   "outputs": [
    {
     "ename": "ValueError",
     "evalue": "invalid literal for int() with base 10: ''",
     "output_type": "error",
     "traceback": [
      "\u001b[1;31m---------------------------------------------------------------------------\u001b[0m",
      "\u001b[1;31mValueError\u001b[0m                                Traceback (most recent call last)",
      "\u001b[1;32m<ipython-input-22-6b0db8b16668>\u001b[0m in \u001b[0;36m<module>\u001b[1;34m\u001b[0m\n\u001b[0;32m      2\u001b[0m \u001b[1;32mfor\u001b[0m \u001b[0mi\u001b[0m \u001b[1;32min\u001b[0m \u001b[0mrange\u001b[0m\u001b[1;33m(\u001b[0m\u001b[0mN\u001b[0m\u001b[1;33m)\u001b[0m\u001b[1;33m:\u001b[0m\u001b[1;33m\u001b[0m\u001b[1;33m\u001b[0m\u001b[0m\n\u001b[0;32m      3\u001b[0m     \u001b[1;31m#card_list.append(int(input()))\u001b[0m\u001b[1;33m\u001b[0m\u001b[1;33m\u001b[0m\u001b[1;33m\u001b[0m\u001b[0m\n\u001b[1;32m----> 4\u001b[1;33m     \u001b[0mcard_list\u001b[0m\u001b[1;33m.\u001b[0m\u001b[0mappend\u001b[0m\u001b[1;33m(\u001b[0m\u001b[0mint\u001b[0m\u001b[1;33m(\u001b[0m\u001b[0msys\u001b[0m\u001b[1;33m.\u001b[0m\u001b[0mstdin\u001b[0m\u001b[1;33m.\u001b[0m\u001b[0mreadline\u001b[0m\u001b[1;33m(\u001b[0m\u001b[1;33m)\u001b[0m\u001b[1;33m)\u001b[0m\u001b[1;33m)\u001b[0m\u001b[1;33m\u001b[0m\u001b[1;33m\u001b[0m\u001b[0m\n\u001b[0m",
      "\u001b[1;31mValueError\u001b[0m: invalid literal for int() with base 10: ''"
     ]
    }
   ],
   "source": [
    "card_list=[]\n",
    "for i in range(N):\n",
    "    #card_list.append(int(input()))\n",
    "    card_list.append(int(sys.stdin.readline()))"
   ]
  },
  {
   "cell_type": "code",
   "execution_count": 17,
   "id": "6599f67e-2999-4963-afb3-062d853748fa",
   "metadata": {},
   "outputs": [],
   "source": [
    "import heapq\n",
    "heapq.heapify(card_list)"
   ]
  },
  {
   "cell_type": "code",
   "execution_count": 18,
   "id": "ae3e89ad-6a2c-476e-aa3c-d41606741ee0",
   "metadata": {},
   "outputs": [
    {
     "name": "stdout",
     "output_type": "stream",
     "text": [
      "[10, 20, 40]\n"
     ]
    }
   ],
   "source": [
    "print(card_list)"
   ]
  },
  {
   "cell_type": "code",
   "execution_count": 19,
   "id": "b01b9653-beb3-4365-abe8-bc0636ead972",
   "metadata": {},
   "outputs": [],
   "source": [
    "result=0\n",
    "while len(card_list)!=1:\n",
    "    temp=heapq.heappop(card_list)+heapq.heappop(card_list)\n",
    "    heapq.heappush(card_list,temp)\n",
    "    result+=temp\n",
    "    temp=0"
   ]
  },
  {
   "cell_type": "code",
   "execution_count": 21,
   "id": "1d921fc6-f3ac-4221-b940-77562551f52b",
   "metadata": {},
   "outputs": [
    {
     "name": "stdout",
     "output_type": "stream",
     "text": [
      "100\n"
     ]
    }
   ],
   "source": [
    "print(result)"
   ]
  },
  {
   "cell_type": "code",
   "execution_count": 35,
   "id": "158fc016-3b65-4a34-b71c-83968fdb6f5a",
   "metadata": {},
   "outputs": [
    {
     "name": "stdin",
     "output_type": "stream",
     "text": [
      " 0 0 0\n"
     ]
    }
   ],
   "source": [
    "L, P, V =map(int,input().split(' ')) "
   ]
  },
  {
   "cell_type": "code",
   "execution_count": 24,
   "id": "d719194a-c5f0-4deb-b893-676e0002882a",
   "metadata": {},
   "outputs": [
    {
     "data": {
      "text/plain": [
       "5"
      ]
     },
     "execution_count": 24,
     "metadata": {},
     "output_type": "execute_result"
    }
   ],
   "source": [
    "L"
   ]
  },
  {
   "cell_type": "code",
   "execution_count": 36,
   "id": "b33d429c-2a44-4db9-b60c-1b92c3626d07",
   "metadata": {},
   "outputs": [
    {
     "name": "stdin",
     "output_type": "stream",
     "text": [
      " 5 8 20\n",
      " 5 8 17\n",
      " 0 0 0\n"
     ]
    },
    {
     "name": "stdout",
     "output_type": "stream",
     "text": [
      "Case 1: 14\n",
      "Case 1: 11\n"
     ]
    }
   ],
   "source": [
    "cnt=1\n",
    "temp_list=[]\n",
    "L,P,V=1,0,0\n",
    "while (L,P,V)!=(0,0,0):\n",
    "    L, P, V =map(int,input().split(' ')) \n",
    "    temp_list.append([L,P,V])\n",
    "\n",
    "for i in temp_list:\n",
    "    if i==[0,0,0]:\n",
    "        break\n",
    "    print(f'Case {cnt}:',(i[2]//i[1])*i[0]+min(i[0],i[2]%i[1]))\n",
    "    cnt+=1"
   ]
  },
  {
   "cell_type": "code",
   "execution_count": 55,
   "id": "e3516235-d0cc-4c7e-aeac-512cb993b875",
   "metadata": {},
   "outputs": [
    {
     "name": "stdout",
     "output_type": "stream",
     "text": [
      "2 1\n",
      "1\n"
     ]
    }
   ],
   "source": [
    "S='0001100'\n",
    "one_cnt=0\n",
    "zero_cnt=0\n",
    "if S[0]=='1':\n",
    "    one_cnt+=1\n",
    "else:\n",
    "    zero_cnt+=1\n",
    "    \n",
    "cur=S[0]\n",
    "\n",
    "for i in S:\n",
    "    if i==cur:\n",
    "        pass\n",
    "    else:\n",
    "        if i=='1':\n",
    "            one_cnt+=1\n",
    "            cur=i\n",
    "        else:\n",
    "            zero_cnt+=1\n",
    "            cur=i\n",
    "if zero_cnt==0 |one_cnt==0:\n",
    "    print(0)\n",
    "else:\n",
    "    print(min(zero_cnt,one_cnt))"
   ]
  },
  {
   "cell_type": "code",
   "execution_count": 1,
   "id": "7219813d-a57b-44a4-825d-e2788b599177",
   "metadata": {},
   "outputs": [
    {
     "name": "stdin",
     "output_type": "stream",
     "text": [
      " 4\n"
     ]
    }
   ],
   "source": [
    "N= int(input())"
   ]
  },
  {
   "cell_type": "code",
   "execution_count": 2,
   "id": "aa38719b-323f-475b-b055-7deffac5a1b6",
   "metadata": {},
   "outputs": [],
   "source": [
    "import sys\n",
    "temp_list=[]\n",
    "for i in range(N):\n",
    "    temp_list.append(sys.stdin.readline())\n",
    "    "
   ]
  },
  {
   "cell_type": "code",
   "execution_count": 66,
   "id": "e7c2d40d-594c-46ae-93e1-b1f174763d82",
   "metadata": {},
   "outputs": [],
   "source": [
    "temp_list=[-1,2,1,3]\n",
    "temp_list2=[0,1,2,4,3,5]"
   ]
  },
  {
   "cell_type": "code",
   "execution_count": 58,
   "id": "50c1ab1f-a394-4219-96d2-7fdbec27bff9",
   "metadata": {},
   "outputs": [],
   "source": [
    "temp_list2.sort()"
   ]
  },
  {
   "cell_type": "code",
   "execution_count": 59,
   "id": "b26499e8-2e34-4477-a364-b3e66b09386b",
   "metadata": {},
   "outputs": [
    {
     "data": {
      "text/plain": [
       "[0, 1, 2, 3, 4, 5]"
      ]
     },
     "execution_count": 59,
     "metadata": {},
     "output_type": "execute_result"
    }
   ],
   "source": [
    "temp_list2"
   ]
  },
  {
   "cell_type": "code",
   "execution_count": 56,
   "id": "967a6ec2-80db-4aea-9161-7346cfc8c339",
   "metadata": {},
   "outputs": [
    {
     "name": "stdout",
     "output_type": "stream",
     "text": [
      "3 1\n",
      "2 -1\n"
     ]
    }
   ],
   "source": [
    "#마이너스 마이너스면 다음거와 묶기\n",
    "# "
   ]
  },
  {
   "cell_type": "code",
   "execution_count": null,
   "id": "37b7c89f-58a8-4da6-814c-df973fe479eb",
   "metadata": {},
   "outputs": [],
   "source": [
    "#[0,1] 3개일 경우 0은 남은 마이너스중 가장 작은 거랑 합치는게 이득 1은 그냥 더하기 "
   ]
  },
  {
   "cell_type": "code",
   "execution_count": 71,
   "id": "af3164ef-5b9f-489d-a19d-a737058b0217",
   "metadata": {},
   "outputs": [
    {
     "name": "stdout",
     "output_type": "stream",
     "text": [
      "False True\n"
     ]
    }
   ],
   "source": [
    "# 음수끼리 곱하다가 1,양수 나오면 중지\n",
    "# 이제 뒤에서부터 곱하기"
   ]
  },
  {
   "cell_type": "code",
   "execution_count": null,
   "id": "7398094e-563a-4a7f-a954-2f16d02c1bad",
   "metadata": {},
   "outputs": [],
   "source": []
  }
 ],
 "metadata": {
  "kernelspec": {
   "display_name": "Python 3",
   "language": "python",
   "name": "python3"
  },
  "language_info": {
   "codemirror_mode": {
    "name": "ipython",
    "version": 3
   },
   "file_extension": ".py",
   "mimetype": "text/x-python",
   "name": "python",
   "nbconvert_exporter": "python",
   "pygments_lexer": "ipython3",
   "version": "3.8.8"
  }
 },
 "nbformat": 4,
 "nbformat_minor": 5
}
