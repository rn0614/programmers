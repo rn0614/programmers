{
 "cells": [
  {
   "cell_type": "markdown",
   "id": "e9f443e2-01a5-4b82-8b7b-6345a072caef",
   "metadata": {},
   "source": [
    "# 1700번 멀티탭 스케줄링"
   ]
  },
  {
   "cell_type": "code",
   "execution_count": 2,
   "id": "24a26589-76cf-416f-a90b-cd803d14e643",
   "metadata": {},
   "outputs": [
    {
     "name": "stdin",
     "output_type": "stream",
     "text": [
      " 2 7\n"
     ]
    }
   ],
   "source": [
    "N,K= map(int,input().split())"
   ]
  },
  {
   "cell_type": "code",
   "execution_count": 9,
   "id": "b6e707c9-2f94-499c-bdca-ae9091ee5771",
   "metadata": {},
   "outputs": [
    {
     "name": "stdin",
     "output_type": "stream",
     "text": [
      " 2 3 2 3 1 2 7\n"
     ]
    }
   ],
   "source": [
    "items=list(map(int,input().split()))"
   ]
  },
  {
   "cell_type": "code",
   "execution_count": null,
   "id": "cdf19c31-b316-4525-8734-e61f1311c928",
   "metadata": {},
   "outputs": [],
   "source": [
    "# 1. items에서 N 만큼 미리 heap에다가 넣어놓기\n",
    "# 2. 만약 다음 사용하는 것이 heap 에 없을 때 heap 에 있는 것을 빼고 다음거 넣기,\n",
    "# 단, 다음번 숫자까지 고려하여 다음 번에 안나올 것을 빼기 예를 들어 2 3 4 2 1 1 일 경우 3 에서 4로 넘어갈 때 2ㅇ를 뽑는 것이 아닌 3을 뽑아야 함.\n",
    "# 즉 N 의 수만큼 다음 것을 고려해야한다는 점 위에서는 N이 2이므로 4,2 까지 고려하였음.\n",
    "# 왜냐면 4 2 3 일경우 2만 고려되고 3은 고려 안됨."
   ]
  },
  {
   "cell_type": "code",
   "execution_count": 4,
   "id": "b17df32b-1235-4262-8bf4-4cbcebe39be5",
   "metadata": {},
   "outputs": [],
   "source": [
    "import heapq"
   ]
  },
  {
   "cell_type": "code",
   "execution_count": 6,
   "id": "8bd55117-5ca9-4c8f-a92a-5fbd6f2d637a",
   "metadata": {},
   "outputs": [],
   "source": [
    "heaps=[]"
   ]
  },
  {
   "cell_type": "code",
   "execution_count": 10,
   "id": "599ffe69-6afc-4967-aa7a-72618cc89570",
   "metadata": {},
   "outputs": [],
   "source": [
    "for i in range(N):\n",
    "    heapq.heappush(heaps,items[i])"
   ]
  },
  {
   "cell_type": "code",
   "execution_count": 11,
   "id": "abfe7780-b481-4221-8758-59f2c1a58b19",
   "metadata": {},
   "outputs": [
    {
     "data": {
      "text/plain": [
       "[2, 3]"
      ]
     },
     "execution_count": 11,
     "metadata": {},
     "output_type": "execute_result"
    }
   ],
   "source": [
    "heaps"
   ]
  },
  {
   "cell_type": "code",
   "execution_count": 13,
   "id": "9f42a250-6a46-43ed-ae39-673ee1d679e5",
   "metadata": {},
   "outputs": [],
   "source": [
    "from collections import deque # 최소 최대 문제가 아닌 순서관련 문제이므로 선입선출인 deque가 맞다고 판단"
   ]
  },
  {
   "cell_type": "code",
   "execution_count": 21,
   "id": "efb6258f-4b62-45c7-9a6c-ad1388949d8c",
   "metadata": {},
   "outputs": [],
   "source": [
    "q=[]\n",
    "queue=deque(q)"
   ]
  },
  {
   "cell_type": "code",
   "execution_count": 22,
   "id": "4c3af73f-3095-4b56-901e-42cb9ecf5b8b",
   "metadata": {},
   "outputs": [],
   "source": [
    "plug=[]"
   ]
  },
  {
   "cell_type": "code",
   "execution_count": 26,
   "id": "eca5551a-a1df-4287-8308-fb9a7185ae11",
   "metadata": {},
   "outputs": [],
   "source": [
    "for i in range(N):\n",
    "    plug.append(items.pop())"
   ]
  },
  {
   "cell_type": "code",
   "execution_count": 86,
   "id": "312bda58-0ed2-4dc7-b4a5-f123fcd4e58b",
   "metadata": {},
   "outputs": [
    {
     "name": "stdin",
     "output_type": "stream",
     "text": [
      " \n"
     ]
    },
    {
     "ename": "ValueError",
     "evalue": "not enough values to unpack (expected 2, got 0)",
     "output_type": "error",
     "traceback": [
      "\u001b[1;31m---------------------------------------------------------------------------\u001b[0m",
      "\u001b[1;31mValueError\u001b[0m                                Traceback (most recent call last)",
      "\u001b[1;32m<ipython-input-86-625eca84e71d>\u001b[0m in \u001b[0;36m<module>\u001b[1;34m\u001b[0m\n\u001b[0;32m      1\u001b[0m \u001b[1;31m################################33\u001b[0m\u001b[1;33m\u001b[0m\u001b[1;33m\u001b[0m\u001b[1;33m\u001b[0m\u001b[0m\n\u001b[1;32m----> 2\u001b[1;33m \u001b[0mN\u001b[0m\u001b[1;33m,\u001b[0m\u001b[0mK\u001b[0m\u001b[1;33m=\u001b[0m \u001b[0mmap\u001b[0m\u001b[1;33m(\u001b[0m\u001b[0mint\u001b[0m\u001b[1;33m,\u001b[0m\u001b[0minput\u001b[0m\u001b[1;33m(\u001b[0m\u001b[1;33m)\u001b[0m\u001b[1;33m.\u001b[0m\u001b[0msplit\u001b[0m\u001b[1;33m(\u001b[0m\u001b[1;33m)\u001b[0m\u001b[1;33m)\u001b[0m\u001b[1;33m\u001b[0m\u001b[1;33m\u001b[0m\u001b[0m\n\u001b[0m\u001b[0;32m      3\u001b[0m \u001b[0mitems\u001b[0m\u001b[1;33m=\u001b[0m\u001b[0mlist\u001b[0m\u001b[1;33m(\u001b[0m\u001b[0mmap\u001b[0m\u001b[1;33m(\u001b[0m\u001b[0mint\u001b[0m\u001b[1;33m,\u001b[0m\u001b[0minput\u001b[0m\u001b[1;33m(\u001b[0m\u001b[1;33m)\u001b[0m\u001b[1;33m.\u001b[0m\u001b[0msplit\u001b[0m\u001b[1;33m(\u001b[0m\u001b[1;33m)\u001b[0m\u001b[1;33m)\u001b[0m\u001b[1;33m)\u001b[0m\u001b[1;33m\u001b[0m\u001b[1;33m\u001b[0m\u001b[0m\n\u001b[0;32m      4\u001b[0m \u001b[0mplug\u001b[0m\u001b[1;33m=\u001b[0m\u001b[0mitems\u001b[0m\u001b[1;33m[\u001b[0m\u001b[1;33m:\u001b[0m\u001b[0mN\u001b[0m\u001b[1;33m]\u001b[0m\u001b[1;33m\u001b[0m\u001b[1;33m\u001b[0m\u001b[0m\n\u001b[0;32m      5\u001b[0m \u001b[0mitems\u001b[0m\u001b[1;33m=\u001b[0m\u001b[0mitems\u001b[0m\u001b[1;33m[\u001b[0m\u001b[0mN\u001b[0m\u001b[1;33m:\u001b[0m\u001b[1;33m]\u001b[0m\u001b[1;33m\u001b[0m\u001b[1;33m\u001b[0m\u001b[0m\n",
      "\u001b[1;31mValueError\u001b[0m: not enough values to unpack (expected 2, got 0)"
     ]
    }
   ],
   "source": [
    "################################33\n",
    "N,K= map(int,input().split())\n",
    "items=list(map(int,input().split()))\n",
    "plug=items[:N]\n",
    "items=items[N:]"
   ]
  },
  {
   "cell_type": "code",
   "execution_count": 142,
   "id": "ecb7ebd2-042f-40a5-89da-2f54f5e3f0fa",
   "metadata": {},
   "outputs": [],
   "source": [
    "items=[2,3,4,1,7,1,3,4,2]\n",
    "N=3\n",
    "plug=[]"
   ]
  },
  {
   "cell_type": "code",
   "execution_count": 143,
   "id": "25be9e36-6b16-4c6a-b7ea-127bad08f13e",
   "metadata": {},
   "outputs": [
    {
     "data": {
      "text/plain": [
       "[]"
      ]
     },
     "execution_count": 143,
     "metadata": {},
     "output_type": "execute_result"
    }
   ],
   "source": [
    "plug"
   ]
  },
  {
   "cell_type": "code",
   "execution_count": 144,
   "id": "f70c0d44-a69e-4fca-88cb-4cf8b5ec5e17",
   "metadata": {},
   "outputs": [
    {
     "data": {
      "text/plain": [
       "[2, 3, 4, 1, 7, 1, 3, 4, 2]"
      ]
     },
     "execution_count": 144,
     "metadata": {},
     "output_type": "execute_result"
    }
   ],
   "source": [
    "items[0:]"
   ]
  },
  {
   "cell_type": "code",
   "execution_count": 145,
   "id": "d04cd279-49f5-4611-978a-fd33687c5484",
   "metadata": {},
   "outputs": [
    {
     "name": "stdout",
     "output_type": "stream",
     "text": [
      "[]\n",
      "[2]\n",
      "[2, 3]\n",
      "[2, 3, 4]\n",
      "temp [2, 3, 4]\n",
      "결과 [2]\n",
      "[3, 4, 1]\n",
      "temp [3, 4, 1]\n",
      "결과 [4]\n",
      "[3, 1, 7]\n",
      "[3, 1, 7]\n",
      "[3, 1, 7]\n",
      "temp [3, 1, 7]\n",
      "결과 [3, 1, 7]\n",
      "[1, 7, 4]\n",
      "temp [1, 7, 4]\n",
      "결과 [1, 7, 4]\n",
      "[7, 4, 2]\n"
     ]
    }
   ],
   "source": [
    "temp=[]\n",
    "cnt=0\n",
    "for i in range(len(items)):\n",
    "    print(plug)\n",
    "    if items[i] in plug:\n",
    "        continue\n",
    "    if len(plug)<N:\n",
    "        plug.append(items[i])\n",
    "        continue\n",
    "    temp=plug.copy()\n",
    "    for j in items[i:]:\n",
    "        if len(temp)==1:\n",
    "            break\n",
    "        if j in temp:\n",
    "            temp.remove(j)\n",
    "    plug.remove(temp[0])\n",
    "    plug.append(items[i])\n",
    "    cnt+=1\n",
    "print(plug)"
   ]
  },
  {
   "cell_type": "code",
   "execution_count": 146,
   "id": "0298aeb8-cdff-4f64-9880-5ccaebe8bd51",
   "metadata": {},
   "outputs": [
    {
     "data": {
      "text/plain": [
       "[7, 4, 2]"
      ]
     },
     "execution_count": 146,
     "metadata": {},
     "output_type": "execute_result"
    }
   ],
   "source": [
    "plug"
   ]
  },
  {
   "cell_type": "code",
   "execution_count": 147,
   "id": "ceb15f4a-fc48-42ff-ad5f-574a35992bba",
   "metadata": {},
   "outputs": [
    {
     "data": {
      "text/plain": [
       "4"
      ]
     },
     "execution_count": 147,
     "metadata": {},
     "output_type": "execute_result"
    }
   ],
   "source": [
    "cnt"
   ]
  },
  {
   "cell_type": "code",
   "execution_count": 149,
   "id": "12e675ac-7559-4381-b670-f51b8764b399",
   "metadata": {},
   "outputs": [
    {
     "name": "stdin",
     "output_type": "stream",
     "text": [
      " 2 7\n",
      " 2 3 2 3 1 2 7\n"
     ]
    },
    {
     "name": "stdout",
     "output_type": "stream",
     "text": [
      "2\n"
     ]
    }
   ],
   "source": [
    "N,K= map(int,input().split())\n",
    "items=list(map(int,input().split()))\n",
    "plug=[]\n",
    "temp=[]\n",
    "cnt=0\n",
    "for i in range(len(items)):\n",
    "    if items[i] in plug:\n",
    "        continue\n",
    "    if len(plug)<N:\n",
    "        plug.append(items[i])\n",
    "        continue\n",
    "    temp=plug.copy()\n",
    "    for j in items[i:]:\n",
    "        if len(temp)==1:\n",
    "            break\n",
    "        if j in temp:\n",
    "            temp.remove(j)\n",
    "    plug.remove(temp[0])\n",
    "    plug.append(items[i])\n",
    "    cnt+=1\n",
    "print(cnt)"
   ]
  },
  {
   "cell_type": "markdown",
   "id": "579a5633-fd7d-4ad6-8962-e3cbfadbe459",
   "metadata": {},
   "source": [
    "## 접근 리뷰\n",
    "처음에는 무지성 heapq를 써야 하나 했지만 최소, 최대값도 아니고 쓸 필요 없는 것을 알았다.\n",
    "현재 있는 plug 와 아직 비교 안한 plug를 구분하는 방식과 \n",
    "리스트에서 특정 원소를 value 값으로 뺄 때 remove를 쓰는 것을 다시금 복습.\n",
    "\n",
    "## 오류 리뷰\n",
    "반례 [1,1,1,1,2,1,2,1,2,1] 같은 경우 내가 처음 1,1을 플러그에 다 꼽으면서 문제가 생겼다.\n"
   ]
  },
  {
   "cell_type": "code",
   "execution_count": null,
   "id": "d29ecee5-a28f-447d-a153-224b09581434",
   "metadata": {},
   "outputs": [],
   "source": []
  },
  {
   "cell_type": "markdown",
   "id": "b5d778e3-35d3-4f37-a3ee-5a4c750d2219",
   "metadata": {},
   "source": [
    "# 2720번 세탁소 사장 동혁"
   ]
  },
  {
   "cell_type": "code",
   "execution_count": 155,
   "id": "9bdb0594-fd65-41ae-a95a-96fe48773e5b",
   "metadata": {},
   "outputs": [
    {
     "name": "stdin",
     "output_type": "stream",
     "text": [
      " 3\n",
      " 124\n"
     ]
    },
    {
     "name": "stdout",
     "output_type": "stream",
     "text": [
      "4 2 0 4\n"
     ]
    },
    {
     "name": "stdin",
     "output_type": "stream",
     "text": [
      " ㄴ\n"
     ]
    },
    {
     "ename": "ValueError",
     "evalue": "invalid literal for int() with base 10: 'ㄴ'",
     "output_type": "error",
     "traceback": [
      "\u001b[1;31m---------------------------------------------------------------------------\u001b[0m",
      "\u001b[1;31mValueError\u001b[0m                                Traceback (most recent call last)",
      "\u001b[1;32m<ipython-input-155-48a7852c71e1>\u001b[0m in \u001b[0;36m<module>\u001b[1;34m\u001b[0m\n\u001b[0;32m      3\u001b[0m \u001b[1;32mfor\u001b[0m \u001b[0mi\u001b[0m \u001b[1;32min\u001b[0m \u001b[0mrange\u001b[0m\u001b[1;33m(\u001b[0m\u001b[0mT\u001b[0m\u001b[1;33m)\u001b[0m\u001b[1;33m:\u001b[0m\u001b[1;33m\u001b[0m\u001b[1;33m\u001b[0m\u001b[0m\n\u001b[0;32m      4\u001b[0m     \u001b[0mtemp_list\u001b[0m\u001b[1;33m=\u001b[0m\u001b[1;33m[\u001b[0m\u001b[1;33m]\u001b[0m\u001b[1;33m\u001b[0m\u001b[1;33m\u001b[0m\u001b[0m\n\u001b[1;32m----> 5\u001b[1;33m     \u001b[0mC\u001b[0m\u001b[1;33m=\u001b[0m\u001b[0mint\u001b[0m\u001b[1;33m(\u001b[0m\u001b[0minput\u001b[0m\u001b[1;33m(\u001b[0m\u001b[1;33m)\u001b[0m\u001b[1;33m)\u001b[0m\u001b[1;33m\u001b[0m\u001b[1;33m\u001b[0m\u001b[0m\n\u001b[0m\u001b[0;32m      6\u001b[0m     \u001b[0mtemp_list\u001b[0m\u001b[1;33m.\u001b[0m\u001b[0mappend\u001b[0m\u001b[1;33m(\u001b[0m\u001b[0mC\u001b[0m\u001b[1;33m//\u001b[0m\u001b[1;36m25\u001b[0m\u001b[1;33m)\u001b[0m\u001b[1;33m\u001b[0m\u001b[1;33m\u001b[0m\u001b[0m\n\u001b[0;32m      7\u001b[0m     \u001b[0mtemp_list\u001b[0m\u001b[1;33m.\u001b[0m\u001b[0mappend\u001b[0m\u001b[1;33m(\u001b[0m\u001b[1;33m(\u001b[0m\u001b[0mC\u001b[0m\u001b[1;33m%\u001b[0m\u001b[1;36m25\u001b[0m\u001b[1;33m)\u001b[0m\u001b[1;33m//\u001b[0m\u001b[1;36m10\u001b[0m\u001b[1;33m)\u001b[0m\u001b[1;33m\u001b[0m\u001b[1;33m\u001b[0m\u001b[0m\n",
      "\u001b[1;31mValueError\u001b[0m: invalid literal for int() with base 10: 'ㄴ'"
     ]
    }
   ],
   "source": [
    "T=int(input())\n",
    "temp_list=[]\n",
    "for i in range(T):\n",
    "    temp_list=[]\n",
    "    C=int(input())\n",
    "    temp_list.append(C//25)\n",
    "    temp_list.append((C%25)//10)\n",
    "    temp_list.append(((C%25)%10)//5)\n",
    "    temp_list.append((((C%25)%10)%5))\n",
    "    print(' '.join(map(str, temp_list)))"
   ]
  },
  {
   "cell_type": "markdown",
   "id": "a0105eee-a141-4aef-90a6-aca93045531e",
   "metadata": {},
   "source": [
    "## 코드리뷰\n",
    "잘 알려진 그리디 문제. 1의 배수로 25,10,5 가 있는걸 먼저 확인 해야한다.\n",
    "join을 통해 결합하고\n",
    "반복적인 계산이 싫다면 a=[25,10,5,1]을 이용하여 반복구문을 생성하자"
   ]
  },
  {
   "cell_type": "code",
   "execution_count": null,
   "id": "39a0e25b-cd2b-46e4-ab82-e9cf5cbcc7a9",
   "metadata": {},
   "outputs": [],
   "source": []
  },
  {
   "cell_type": "markdown",
   "id": "28fc7735-3242-43e6-8381-a54f337ffe27",
   "metadata": {},
   "source": [
    "# 3109 빵집"
   ]
  },
  {
   "cell_type": "code",
   "execution_count": 156,
   "id": "b4a4f5a9-b81e-40a8-8d64-0e81f7228353",
   "metadata": {},
   "outputs": [],
   "source": [
    "# 제일 위의 경로는 제일 위의 경로를 이용하도록 한다. 그래야 밑이 지나갈 수 있는 길이 더 많아ㅣㅈㅁ\n",
    "# 따라서 제일 위에 거부터 아래로 순서대로 진행 길찾기에서 제일 오른쪽 위-> 오른쪽 중간 -> 오른쪽 아래 순서대로 우선순위\n",
    "# 트랜잭션으로 만약 길이 연결되지 않으면 해당 과정을 전부 취소할 수 있어야 한다. "
   ]
  },
  {
   "cell_type": "code",
   "execution_count": 162,
   "id": "02c40e1a-392a-408b-b017-8ff3d01ddd64",
   "metadata": {},
   "outputs": [
    {
     "name": "stdin",
     "output_type": "stream",
     "text": [
      " 5 5\n",
      " .xx..\n",
      " ..x..\n",
      " .....\n",
      " ...x.\n",
      " ...x.\n"
     ]
    }
   ],
   "source": [
    "R, C = map(int, input().split())\n",
    "table=[list(input()) for _ in range(R)]"
   ]
  },
  {
   "cell_type": "code",
   "execution_count": 187,
   "id": "4d7b0bd7-5cf0-4de3-92ec-a81d210f7cfa",
   "metadata": {},
   "outputs": [],
   "source": [
    "def dfs(i,table):\n",
    "    moving=[-1,0,1]\n",
    "    y,x=i,0\n",
    "    temp=[]\n",
    "    while True:\n",
    "        clear=False\n",
    "        for j in range(3):\n",
    "            if x==C-1:\n",
    "                for ry,rx in temp:\n",
    "                    table[ry][rx]='x'\n",
    "                return 1\n",
    "            print(x,y)\n",
    "            ny=y+moving[j]\n",
    "            nx=x+1\n",
    "            if ny<0 or ny>=R:\n",
    "                continue\n",
    "            if table[ny][nx]=='x':\n",
    "                continue\n",
    "            temp.append([y,x])\n",
    "            x=nx\n",
    "            y=ny\n",
    "            clear=True\n",
    "        if clear ==False:\n",
    "            return 0"
   ]
  },
  {
   "cell_type": "code",
   "execution_count": 188,
   "id": "6e8c96eb-9aa0-4bde-9990-1e5f66c15ae1",
   "metadata": {
    "collapsed": true,
    "jupyter": {
     "outputs_hidden": true
    },
    "tags": []
   },
   "outputs": [
    {
     "name": "stdout",
     "output_type": "stream",
     "text": [
      "0 0\n",
      "0 0\n",
      "0 0\n",
      "0 1\n",
      "0 1\n",
      "0 1\n",
      "0 2\n",
      "0 2\n",
      "0 2\n",
      "1 3\n",
      "1 3\n",
      "1 3\n",
      "2 4\n",
      "2 4\n",
      "2 4\n",
      "0 3\n",
      "0 3\n",
      "1 3\n",
      "2 4\n",
      "2 4\n",
      "2 4\n",
      "0 4\n",
      "1 3\n",
      "1 3\n",
      "2 4\n",
      "2 4\n",
      "2 4\n",
      "0\n"
     ]
    }
   ],
   "source": [
    "result=0\n",
    "for i in range(R):\n",
    "    result+=dfs(i,table)\n",
    "print(result)"
   ]
  },
  {
   "cell_type": "code",
   "execution_count": 189,
   "id": "7e8a4c00-c84b-42a9-9913-f9f179818c42",
   "metadata": {},
   "outputs": [
    {
     "data": {
      "text/plain": [
       "[['x', 'x', 'x', '.', '.'],\n",
       " ['x', 'x', 'x', 'x', '.'],\n",
       " ['.', 'x', 'x', 'x', '.'],\n",
       " ['.', '.', 'x', 'x', '.'],\n",
       " ['.', '.', '.', 'x', '.']]"
      ]
     },
     "execution_count": 189,
     "metadata": {},
     "output_type": "execute_result"
    }
   ],
   "source": [
    "table"
   ]
  },
  {
   "cell_type": "code",
   "execution_count": 12,
   "id": "bca93cd4-e3bf-4350-bfb3-9a60ac6eae8e",
   "metadata": {},
   "outputs": [
    {
     "name": "stdin",
     "output_type": "stream",
     "text": [
      " 5 5\n",
      " .....\n",
      " .....\n",
      " ..x..\n",
      " .....\n",
      " .....\n"
     ]
    },
    {
     "name": "stdout",
     "output_type": "stream",
     "text": [
      "4\n"
     ]
    }
   ],
   "source": [
    "R, C = map(int, input().split())\n",
    "table=[list(input()) for _ in range(R)]\n",
    "\n",
    "def dfs(i,table):\n",
    "    moving=[-1,0,1]\n",
    "    y,x=i,0\n",
    "    while True:\n",
    "        if x==C-1:\n",
    "            return 1\n",
    "        clear=False\n",
    "        table[y][x]='x'\n",
    "        for j in range(3):\n",
    "            ny=y+moving[j]\n",
    "            nx=x+1\n",
    "            if (ny<0) or (ny>=R):\n",
    "                continue\n",
    "            if table[ny][nx]=='x':\n",
    "                continue\n",
    "            x=nx\n",
    "            y=ny\n",
    "            clear=True\n",
    "            break\n",
    "            \n",
    "        if clear ==False:\n",
    "            return 0\n",
    "\n",
    "result=0\n",
    "for i in range(R):\n",
    "    result+=dfs(i,table)\n",
    "print(result)"
   ]
  },
  {
   "cell_type": "code",
   "execution_count": 13,
   "id": "7128b216-b939-458a-99db-19d2de26b3f5",
   "metadata": {},
   "outputs": [
    {
     "data": {
      "text/plain": [
       "[['x', 'x', 'x', 'x', '.'],\n",
       " ['x', 'x', 'x', 'x', '.'],\n",
       " ['x', 'x', 'x', 'x', '.'],\n",
       " ['x', 'x', 'x', 'x', '.'],\n",
       " ['x', 'x', 'x', '.', '.']]"
      ]
     },
     "execution_count": 13,
     "metadata": {},
     "output_type": "execute_result"
    }
   ],
   "source": [
    "table"
   ]
  },
  {
   "cell_type": "code",
   "execution_count": null,
   "id": "e9221a26-b02d-4d5b-85e4-da3ba16ddd20",
   "metadata": {},
   "outputs": [],
   "source": []
  },
  {
   "cell_type": "code",
   "execution_count": 226,
   "id": "0df9465e-c1a5-46bb-94ba-663afddeca19",
   "metadata": {},
   "outputs": [
    {
     "name": "stdin",
     "output_type": "stream",
     "text": [
      " 6 10\n",
      " ..x.......\n",
      " .....x....\n",
      " .x....x...\n",
      " ...x...xx.\n",
      " ..........\n",
      " ....x.....\n"
     ]
    }
   ],
   "source": [
    "R, C = map(int, input().split())\n",
    "table=[list(input()) for _ in range(R)]\n",
    "# ..x.......\n",
    "# .....x....\n",
    "# .x....x...\n",
    "# ...x...xx.\n",
    "# ..........\n",
    "# ....x....."
   ]
  },
  {
   "cell_type": "code",
   "execution_count": 231,
   "id": "2f4c6d63-176f-4401-8503-58992cd818ac",
   "metadata": {},
   "outputs": [],
   "source": [
    "table=table1"
   ]
  },
  {
   "cell_type": "code",
   "execution_count": 228,
   "id": "c0e2ba2f-93b9-40d0-a4b0-618f25142765",
   "metadata": {},
   "outputs": [],
   "source": [
    "def dfs(i,table):\n",
    "    moving=[-1,0,1]\n",
    "    y,x=i,0\n",
    "    while True:\n",
    "        if x==C-1:\n",
    "            return 1\n",
    "        clear=False\n",
    "        for j in range(3):\n",
    "            ny=y+moving[j]\n",
    "            nx=x+1\n",
    "            if ny<0 or ny>=R:\n",
    "                continue\n",
    "            if table[ny][nx]=='x':\n",
    "                continue\n",
    "            x=nx\n",
    "            y=ny\n",
    "            clear=True\n",
    "            break\n",
    "            \n",
    "        if clear ==False:\n",
    "            return 0\n",
    "result=0\n",
    "for i in range(R):\n",
    "    result+=dfs(i,table)\n",
    "print(result)"
   ]
  },
  {
   "cell_type": "code",
   "execution_count": 229,
   "id": "34c19e36-270a-4a03-92c4-5fe987b53b0b",
   "metadata": {
    "tags": []
   },
   "outputs": [
    {
     "name": "stdout",
     "output_type": "stream",
     "text": [
      "[['x', 'x', 'x', 'x', 'x', 'x', 'x', 'x', 'x', '.'], ['.', '.', 'x', '.', '.', 'x', '.', '.', '.', '.'], ['.', 'x', '.', '.', '.', '.', 'x', '.', '.', '.'], ['.', '.', '.', 'x', '.', '.', '.', 'x', 'x', '.'], ['.', '.', '.', '.', '.', '.', '.', '.', '.', '.'], ['.', '.', '.', '.', 'x', '.', '.', '.', '.', '.']]\n",
      "[['x', 'x', 'x', 'x', 'x', 'x', 'x', 'x', 'x', '.'], ['x', 'x', 'x', 'x', 'x', 'x', 'x', 'x', 'x', '.'], ['.', 'x', 'x', '.', '.', 'x', 'x', '.', '.', '.'], ['.', '.', '.', 'x', '.', '.', '.', 'x', 'x', '.'], ['.', '.', '.', '.', '.', '.', '.', '.', '.', '.'], ['.', '.', '.', '.', 'x', '.', '.', '.', '.', '.']]\n",
      "[['x', 'x', 'x', 'x', 'x', 'x', 'x', 'x', 'x', '.'], ['x', 'x', 'x', 'x', 'x', 'x', 'x', 'x', 'x', '.'], ['x', 'x', 'x', 'x', 'x', 'x', 'x', 'x', 'x', '.'], ['.', 'x', 'x', 'x', '.', 'x', 'x', 'x', 'x', '.'], ['.', '.', '.', '.', '.', '.', '.', '.', '.', '.'], ['.', '.', '.', '.', 'x', '.', '.', '.', '.', '.']]\n",
      "[['x', 'x', 'x', 'x', 'x', 'x', 'x', 'x', 'x', '.'], ['x', 'x', 'x', 'x', 'x', 'x', 'x', 'x', 'x', '.'], ['x', 'x', 'x', 'x', 'x', 'x', 'x', 'x', 'x', '.'], ['x', 'x', 'x', 'x', 'x', 'x', 'x', 'x', 'x', '.'], ['.', 'x', 'x', 'x', '.', 'x', 'x', 'x', 'x', '.'], ['.', '.', '.', '.', 'x', '.', '.', '.', '.', '.']]\n",
      "[['x', 'x', 'x', 'x', 'x', 'x', 'x', 'x', 'x', '.'], ['x', 'x', 'x', 'x', 'x', 'x', 'x', 'x', 'x', '.'], ['x', 'x', 'x', 'x', 'x', 'x', 'x', 'x', 'x', '.'], ['x', 'x', 'x', 'x', 'x', 'x', 'x', 'x', 'x', '.'], ['x', 'x', 'x', 'x', 'x', 'x', 'x', 'x', 'x', '.'], ['.', 'x', 'x', 'x', 'x', 'x', 'x', 'x', 'x', '.']]\n",
      "[['x', 'x', 'x', 'x', 'x', 'x', 'x', 'x', 'x', '.'], ['x', 'x', 'x', 'x', 'x', 'x', 'x', 'x', 'x', '.'], ['x', 'x', 'x', 'x', 'x', 'x', 'x', 'x', 'x', '.'], ['x', 'x', 'x', 'x', 'x', 'x', 'x', 'x', 'x', '.'], ['x', 'x', 'x', 'x', 'x', 'x', 'x', 'x', 'x', '.'], ['.', 'x', 'x', 'x', 'x', 'x', 'x', 'x', 'x', '.']]\n",
      "5\n"
     ]
    }
   ],
   "source": [
    "result=0\n",
    "for i in range(R):\n",
    "    result+=dfs(i,table)\n",
    "print(result)"
   ]
  },
  {
   "cell_type": "code",
   "execution_count": 232,
   "id": "dced15ed-5f8d-4bce-8237-5f6ee6160db7",
   "metadata": {},
   "outputs": [
    {
     "data": {
      "text/plain": [
       "[['x', 'x', 'x', 'x', 'x', 'x', 'x', 'x', 'x', '.'],\n",
       " ['x', 'x', 'x', 'x', 'x', 'x', 'x', 'x', 'x', '.'],\n",
       " ['x', 'x', 'x', 'x', 'x', 'x', 'x', 'x', 'x', '.'],\n",
       " ['x', 'x', 'x', 'x', 'x', 'x', 'x', 'x', 'x', '.'],\n",
       " ['x', 'x', 'x', 'x', 'x', 'x', 'x', 'x', 'x', '.'],\n",
       " ['.', 'x', 'x', 'x', 'x', 'x', 'x', 'x', 'x', '.']]"
      ]
     },
     "execution_count": 232,
     "metadata": {},
     "output_type": "execute_result"
    }
   ],
   "source": [
    "table"
   ]
  },
  {
   "cell_type": "markdown",
   "id": "9d2e69bc-16f9-4e25-ad8e-77ef00eea50e",
   "metadata": {},
   "source": [
    "## 코드리뷰 : 맞왜틀\n",
    "맞게 쓴거같은데 자꾸틀리단다... 반례가 필요한데 반례를 못찾겠다"
   ]
  },
  {
   "cell_type": "code",
   "execution_count": null,
   "id": "93cb8560-908e-4926-ad7f-cade1c29d0c0",
   "metadata": {},
   "outputs": [],
   "source": []
  },
  {
   "cell_type": "markdown",
   "id": "f1f8857c-0d06-40ca-b41a-207659e2377a",
   "metadata": {},
   "source": [
    "# 1213 팰린드롬 만들기"
   ]
  },
  {
   "cell_type": "code",
   "execution_count": 62,
   "id": "39000126-9b89-4a49-af2b-45047da1463c",
   "metadata": {},
   "outputs": [
    {
     "name": "stdin",
     "output_type": "stream",
     "text": [
      " ABAB\n"
     ]
    },
    {
     "name": "stdout",
     "output_type": "stream",
     "text": [
      "ABBA\n"
     ]
    }
   ],
   "source": [
    "from collections import Counter\n",
    "s=input()\n",
    "a=Counter(s)\n",
    "temp=''\n",
    "result=[]\n",
    "\n",
    "for i,j in a.items():\n",
    "    if j%2==1:\n",
    "        if temp!='':\n",
    "            temp=\"I'm Sorry Hansoo\"\n",
    "            result=[]\n",
    "            break\n",
    "        temp=i\n",
    "    for _ in range(j//2):\n",
    "        result.append(i)\n",
    "\n",
    "# 리스트를 사전에서 가장 먼저인 것으로 정렬하고 넣는 문구\n",
    "result.sort()\n",
    "result=''.join(result)\n",
    "k=result+temp+result[::-1]\n",
    "print(k)\n",
    "\n",
    "# 이미 팰린드롬인 상태를 넣으면 출력하는 구문(필요없음)\n",
    "if k!=s:\n",
    "    print(k)\n",
    "else:\n",
    "    print(\"I'm Sorry Hansoo\")"
   ]
  },
  {
   "cell_type": "markdown",
   "id": "4c2b6fbc-3c5b-45c6-a5f2-51c49b960e97",
   "metadata": {},
   "source": [
    "## 코드리뷰\n",
    "그냥 쉬운 문제엿는데. 펠린드롬이 뭔지도 안알려주고 사전 선순 출력도 안알려주고 조건이 없음"
   ]
  },
  {
   "cell_type": "code",
   "execution_count": 23,
   "id": "f1405223-0cf6-4965-aa24-abe4913f95d1",
   "metadata": {},
   "outputs": [],
   "source": []
  },
  {
   "cell_type": "markdown",
   "id": "7ce364d3-30e9-4da7-b633-e9d10d42ead4",
   "metadata": {},
   "source": [
    "# 10775 공항"
   ]
  },
  {
   "cell_type": "code",
   "execution_count": 2,
   "id": "20b2366e-d57c-48ec-bebb-3571813e8d59",
   "metadata": {},
   "outputs": [
    {
     "name": "stdin",
     "output_type": "stream",
     "text": [
      " 1\n",
      " 1\n"
     ]
    }
   ],
   "source": [
    "G= int(input())\n",
    "P= int(input())\n",
    "import sys\n",
    "g=list(map(int, sys.stdin.readline()))"
   ]
  },
  {
   "cell_type": "code",
   "execution_count": 12,
   "id": "a963f6df-79bc-4ff8-bfb5-b3ffdfb075b3",
   "metadata": {},
   "outputs": [],
   "source": [
    "G,P=4,6\n",
    "g=[2,2,3,3,4,4]"
   ]
  },
  {
   "cell_type": "code",
   "execution_count": 13,
   "id": "0aaf9e53-4c14-47dc-abc3-e78fd443d5ad",
   "metadata": {},
   "outputs": [
    {
     "name": "stdout",
     "output_type": "stream",
     "text": [
      "1\n"
     ]
    }
   ],
   "source": [
    "g_list=[0 for _ in range(G)]\n",
    "result=0\n",
    "for air in g:\n",
    "    if air in g_list:\n",
    "        continue\n",
    "    cnt=air\n",
    "    for i in range(air):\n",
    "        if g_list[cnt]!=0:\n",
    "            cnt-=1\n",
    "            continue\n",
    "        g_list[cnt]=air\n",
    "        result+=1\n",
    "        break\n",
    "    if len(g_list)==G:\n",
    "        break\n",
    "print(result)"
   ]
  },
  {
   "cell_type": "code",
   "execution_count": 21,
   "id": "a9c6a1be-6890-4836-ac9d-829e3700f6a0",
   "metadata": {},
   "outputs": [
    {
     "name": "stdout",
     "output_type": "stream",
     "text": [
      "2 2 [0, 0, 0, 0]\n",
      "3 3 [0, 2, 0, 0]\n",
      "4 4 [0, 2, 3, 0]\n",
      "3\n"
     ]
    }
   ],
   "source": [
    "air_list=[0 for _ in range(G)]\n",
    "cnt=0\n",
    "for air in g:\n",
    "    if air in air_list:\n",
    "        continue\n",
    "    temp=air\n",
    "    for i in range(air):\n",
    "        print(air, temp, air_list)\n",
    "        if air_list[temp-1]==0:\n",
    "            air_list[temp-1]=air\n",
    "            cnt+=1\n",
    "            break\n",
    "        temp-=1\n",
    "    if 0 not in air_list:\n",
    "        break\n",
    "print(cnt)"
   ]
  },
  {
   "cell_type": "code",
   "execution_count": 2,
   "id": "abf046e5-f0e6-4916-ba50-26012d94e8e1",
   "metadata": {},
   "outputs": [
    {
     "name": "stdin",
     "output_type": "stream",
     "text": [
      " 4\n",
      " 3\n",
      " 4\n",
      " 1\n",
      " 1\n"
     ]
    },
    {
     "name": "stdout",
     "output_type": "stream",
     "text": [
      "2\n"
     ]
    }
   ],
   "source": [
    "import sys\n",
    "G= int(sys.stdin.readline())\n",
    "P= int(sys.stdin.readline())\n",
    "g=[]\n",
    "for _ in range(P):\n",
    "    g.append(int(sys.stdin.readline()))\n",
    "air_list=[0 for _ in range(G)]\n",
    "cnt=0\n",
    "for air in g:\n",
    "    if air in air_list:\n",
    "        continue\n",
    "    temp=air\n",
    "    for i in range(air):\n",
    "        if air_list[temp-1]==0:\n",
    "            air_list[temp-1]=air\n",
    "            cnt+=1\n",
    "            break\n",
    "        temp-=1\n",
    "    if 0 not in air_list:\n",
    "        break\n",
    "print(cnt)"
   ]
  },
  {
   "cell_type": "code",
   "execution_count": 3,
   "id": "ee262c94-7ea9-4246-bd0a-1fae28b15b1b",
   "metadata": {},
   "outputs": [
    {
     "name": "stdout",
     "output_type": "stream",
     "text": [
      "[1, 0, 0, 4]\n"
     ]
    }
   ],
   "source": [
    "print(air_list)"
   ]
  },
  {
   "cell_type": "code",
   "execution_count": null,
   "id": "7e570458-4c43-41bb-9bd4-883762bda1cb",
   "metadata": {},
   "outputs": [],
   "source": []
  }
 ],
 "metadata": {
  "kernelspec": {
   "display_name": "Python 3",
   "language": "python",
   "name": "python3"
  },
  "language_info": {
   "codemirror_mode": {
    "name": "ipython",
    "version": 3
   },
   "file_extension": ".py",
   "mimetype": "text/x-python",
   "name": "python",
   "nbconvert_exporter": "python",
   "pygments_lexer": "ipython3",
   "version": "3.8.8"
  }
 },
 "nbformat": 4,
 "nbformat_minor": 5
}
