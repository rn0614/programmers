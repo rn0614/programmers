{
 "cells": [
  {
   "cell_type": "markdown",
   "id": "e9f443e2-01a5-4b82-8b7b-6345a072caef",
   "metadata": {},
   "source": [
    "# 1700번 멀티탭 스케줄링"
   ]
  },
  {
   "cell_type": "code",
   "execution_count": 2,
   "id": "24a26589-76cf-416f-a90b-cd803d14e643",
   "metadata": {},
   "outputs": [
    {
     "name": "stdin",
     "output_type": "stream",
     "text": [
      " 2 7\n"
     ]
    }
   ],
   "source": [
    "N,K= map(int,input().split())"
   ]
  },
  {
   "cell_type": "code",
   "execution_count": 9,
   "id": "b6e707c9-2f94-499c-bdca-ae9091ee5771",
   "metadata": {},
   "outputs": [
    {
     "name": "stdin",
     "output_type": "stream",
     "text": [
      " 2 3 2 3 1 2 7\n"
     ]
    }
   ],
   "source": [
    "items=list(map(int,input().split()))"
   ]
  },
  {
   "cell_type": "code",
   "execution_count": null,
   "id": "cdf19c31-b316-4525-8734-e61f1311c928",
   "metadata": {},
   "outputs": [],
   "source": [
    "# 1. items에서 N 만큼 미리 heap에다가 넣어놓기\n",
    "# 2. 만약 다음 사용하는 것이 heap 에 없을 때 heap 에 있는 것을 빼고 다음거 넣기,\n",
    "# 단, 다음번 숫자까지 고려하여 다음 번에 안나올 것을 빼기 예를 들어 2 3 4 2 1 1 일 경우 3 에서 4로 넘어갈 때 2ㅇ를 뽑는 것이 아닌 3을 뽑아야 함.\n",
    "# 즉 N 의 수만큼 다음 것을 고려해야한다는 점 위에서는 N이 2이므로 4,2 까지 고려하였음.\n",
    "# 왜냐면 4 2 3 일경우 2만 고려되고 3은 고려 안됨."
   ]
  },
  {
   "cell_type": "code",
   "execution_count": 4,
   "id": "b17df32b-1235-4262-8bf4-4cbcebe39be5",
   "metadata": {},
   "outputs": [],
   "source": [
    "import heapq"
   ]
  },
  {
   "cell_type": "code",
   "execution_count": 6,
   "id": "8bd55117-5ca9-4c8f-a92a-5fbd6f2d637a",
   "metadata": {},
   "outputs": [],
   "source": [
    "heaps=[]"
   ]
  },
  {
   "cell_type": "code",
   "execution_count": 10,
   "id": "599ffe69-6afc-4967-aa7a-72618cc89570",
   "metadata": {},
   "outputs": [],
   "source": [
    "for i in range(N):\n",
    "    heapq.heappush(heaps,items[i])"
   ]
  },
  {
   "cell_type": "code",
   "execution_count": 11,
   "id": "abfe7780-b481-4221-8758-59f2c1a58b19",
   "metadata": {},
   "outputs": [
    {
     "data": {
      "text/plain": [
       "[2, 3]"
      ]
     },
     "execution_count": 11,
     "metadata": {},
     "output_type": "execute_result"
    }
   ],
   "source": [
    "heaps"
   ]
  },
  {
   "cell_type": "code",
   "execution_count": 13,
   "id": "9f42a250-6a46-43ed-ae39-673ee1d679e5",
   "metadata": {},
   "outputs": [],
   "source": [
    "from collections import deque # 최소 최대 문제가 아닌 순서관련 문제이므로 선입선출인 deque가 맞다고 판단"
   ]
  },
  {
   "cell_type": "code",
   "execution_count": 21,
   "id": "efb6258f-4b62-45c7-9a6c-ad1388949d8c",
   "metadata": {},
   "outputs": [],
   "source": [
    "q=[]\n",
    "queue=deque(q)"
   ]
  },
  {
   "cell_type": "code",
   "execution_count": 22,
   "id": "4c3af73f-3095-4b56-901e-42cb9ecf5b8b",
   "metadata": {},
   "outputs": [],
   "source": [
    "plug=[]"
   ]
  },
  {
   "cell_type": "code",
   "execution_count": 26,
   "id": "eca5551a-a1df-4287-8308-fb9a7185ae11",
   "metadata": {},
   "outputs": [],
   "source": [
    "for i in range(N):\n",
    "    plug.append(items.pop())"
   ]
  },
  {
   "cell_type": "code",
   "execution_count": 86,
   "id": "312bda58-0ed2-4dc7-b4a5-f123fcd4e58b",
   "metadata": {},
   "outputs": [
    {
     "name": "stdin",
     "output_type": "stream",
     "text": [
      " \n"
     ]
    },
    {
     "ename": "ValueError",
     "evalue": "not enough values to unpack (expected 2, got 0)",
     "output_type": "error",
     "traceback": [
      "\u001b[1;31m---------------------------------------------------------------------------\u001b[0m",
      "\u001b[1;31mValueError\u001b[0m                                Traceback (most recent call last)",
      "\u001b[1;32m<ipython-input-86-625eca84e71d>\u001b[0m in \u001b[0;36m<module>\u001b[1;34m\u001b[0m\n\u001b[0;32m      1\u001b[0m \u001b[1;31m################################33\u001b[0m\u001b[1;33m\u001b[0m\u001b[1;33m\u001b[0m\u001b[1;33m\u001b[0m\u001b[0m\n\u001b[1;32m----> 2\u001b[1;33m \u001b[0mN\u001b[0m\u001b[1;33m,\u001b[0m\u001b[0mK\u001b[0m\u001b[1;33m=\u001b[0m \u001b[0mmap\u001b[0m\u001b[1;33m(\u001b[0m\u001b[0mint\u001b[0m\u001b[1;33m,\u001b[0m\u001b[0minput\u001b[0m\u001b[1;33m(\u001b[0m\u001b[1;33m)\u001b[0m\u001b[1;33m.\u001b[0m\u001b[0msplit\u001b[0m\u001b[1;33m(\u001b[0m\u001b[1;33m)\u001b[0m\u001b[1;33m)\u001b[0m\u001b[1;33m\u001b[0m\u001b[1;33m\u001b[0m\u001b[0m\n\u001b[0m\u001b[0;32m      3\u001b[0m \u001b[0mitems\u001b[0m\u001b[1;33m=\u001b[0m\u001b[0mlist\u001b[0m\u001b[1;33m(\u001b[0m\u001b[0mmap\u001b[0m\u001b[1;33m(\u001b[0m\u001b[0mint\u001b[0m\u001b[1;33m,\u001b[0m\u001b[0minput\u001b[0m\u001b[1;33m(\u001b[0m\u001b[1;33m)\u001b[0m\u001b[1;33m.\u001b[0m\u001b[0msplit\u001b[0m\u001b[1;33m(\u001b[0m\u001b[1;33m)\u001b[0m\u001b[1;33m)\u001b[0m\u001b[1;33m)\u001b[0m\u001b[1;33m\u001b[0m\u001b[1;33m\u001b[0m\u001b[0m\n\u001b[0;32m      4\u001b[0m \u001b[0mplug\u001b[0m\u001b[1;33m=\u001b[0m\u001b[0mitems\u001b[0m\u001b[1;33m[\u001b[0m\u001b[1;33m:\u001b[0m\u001b[0mN\u001b[0m\u001b[1;33m]\u001b[0m\u001b[1;33m\u001b[0m\u001b[1;33m\u001b[0m\u001b[0m\n\u001b[0;32m      5\u001b[0m \u001b[0mitems\u001b[0m\u001b[1;33m=\u001b[0m\u001b[0mitems\u001b[0m\u001b[1;33m[\u001b[0m\u001b[0mN\u001b[0m\u001b[1;33m:\u001b[0m\u001b[1;33m]\u001b[0m\u001b[1;33m\u001b[0m\u001b[1;33m\u001b[0m\u001b[0m\n",
      "\u001b[1;31mValueError\u001b[0m: not enough values to unpack (expected 2, got 0)"
     ]
    }
   ],
   "source": [
    "################################33\n",
    "N,K= map(int,input().split())\n",
    "items=list(map(int,input().split()))\n",
    "plug=items[:N]\n",
    "items=items[N:]"
   ]
  },
  {
   "cell_type": "code",
   "execution_count": 142,
   "id": "ecb7ebd2-042f-40a5-89da-2f54f5e3f0fa",
   "metadata": {},
   "outputs": [],
   "source": [
    "items=[2,3,4,1,7,1,3,4,2]\n",
    "N=3\n",
    "plug=[]"
   ]
  },
  {
   "cell_type": "code",
   "execution_count": 143,
   "id": "25be9e36-6b16-4c6a-b7ea-127bad08f13e",
   "metadata": {},
   "outputs": [
    {
     "data": {
      "text/plain": [
       "[]"
      ]
     },
     "execution_count": 143,
     "metadata": {},
     "output_type": "execute_result"
    }
   ],
   "source": [
    "plug"
   ]
  },
  {
   "cell_type": "code",
   "execution_count": 144,
   "id": "f70c0d44-a69e-4fca-88cb-4cf8b5ec5e17",
   "metadata": {},
   "outputs": [
    {
     "data": {
      "text/plain": [
       "[2, 3, 4, 1, 7, 1, 3, 4, 2]"
      ]
     },
     "execution_count": 144,
     "metadata": {},
     "output_type": "execute_result"
    }
   ],
   "source": [
    "items[0:]"
   ]
  },
  {
   "cell_type": "code",
   "execution_count": 145,
   "id": "d04cd279-49f5-4611-978a-fd33687c5484",
   "metadata": {},
   "outputs": [
    {
     "name": "stdout",
     "output_type": "stream",
     "text": [
      "[]\n",
      "[2]\n",
      "[2, 3]\n",
      "[2, 3, 4]\n",
      "temp [2, 3, 4]\n",
      "결과 [2]\n",
      "[3, 4, 1]\n",
      "temp [3, 4, 1]\n",
      "결과 [4]\n",
      "[3, 1, 7]\n",
      "[3, 1, 7]\n",
      "[3, 1, 7]\n",
      "temp [3, 1, 7]\n",
      "결과 [3, 1, 7]\n",
      "[1, 7, 4]\n",
      "temp [1, 7, 4]\n",
      "결과 [1, 7, 4]\n",
      "[7, 4, 2]\n"
     ]
    }
   ],
   "source": [
    "temp=[]\n",
    "cnt=0\n",
    "for i in range(len(items)):\n",
    "    print(plug)\n",
    "    if items[i] in plug:\n",
    "        continue\n",
    "    if len(plug)<N:\n",
    "        plug.append(items[i])\n",
    "        continue\n",
    "    temp=plug.copy()\n",
    "    for j in items[i:]:\n",
    "        if len(temp)==1:\n",
    "            break\n",
    "        if j in temp:\n",
    "            temp.remove(j)\n",
    "    plug.remove(temp[0])\n",
    "    plug.append(items[i])\n",
    "    cnt+=1\n",
    "print(plug)"
   ]
  },
  {
   "cell_type": "code",
   "execution_count": 146,
   "id": "0298aeb8-cdff-4f64-9880-5ccaebe8bd51",
   "metadata": {},
   "outputs": [
    {
     "data": {
      "text/plain": [
       "[7, 4, 2]"
      ]
     },
     "execution_count": 146,
     "metadata": {},
     "output_type": "execute_result"
    }
   ],
   "source": [
    "plug"
   ]
  },
  {
   "cell_type": "code",
   "execution_count": 147,
   "id": "ceb15f4a-fc48-42ff-ad5f-574a35992bba",
   "metadata": {},
   "outputs": [
    {
     "data": {
      "text/plain": [
       "4"
      ]
     },
     "execution_count": 147,
     "metadata": {},
     "output_type": "execute_result"
    }
   ],
   "source": [
    "cnt"
   ]
  },
  {
   "cell_type": "code",
   "execution_count": 149,
   "id": "12e675ac-7559-4381-b670-f51b8764b399",
   "metadata": {},
   "outputs": [
    {
     "name": "stdin",
     "output_type": "stream",
     "text": [
      " 2 7\n",
      " 2 3 2 3 1 2 7\n"
     ]
    },
    {
     "name": "stdout",
     "output_type": "stream",
     "text": [
      "2\n"
     ]
    }
   ],
   "source": [
    "N,K= map(int,input().split())\n",
    "items=list(map(int,input().split()))\n",
    "plug=[]\n",
    "temp=[]\n",
    "cnt=0\n",
    "for i in range(len(items)):\n",
    "    if items[i] in plug:\n",
    "        continue\n",
    "    if len(plug)<N:\n",
    "        plug.append(items[i])\n",
    "        continue\n",
    "    temp=plug.copy()\n",
    "    for j in items[i:]:\n",
    "        if len(temp)==1:\n",
    "            break\n",
    "        if j in temp:\n",
    "            temp.remove(j)\n",
    "    plug.remove(temp[0])\n",
    "    plug.append(items[i])\n",
    "    cnt+=1\n",
    "print(cnt)"
   ]
  },
  {
   "cell_type": "markdown",
   "id": "579a5633-fd7d-4ad6-8962-e3cbfadbe459",
   "metadata": {},
   "source": [
    "## 접근 리뷰\n",
    "처음에는 무지성 heapq를 써야 하나 했지만 최소, 최대값도 아니고 쓸 필요 없는 것을 알았다.\n",
    "현재 있는 plug 와 아직 비교 안한 plug를 구분하는 방식과 \n",
    "리스트에서 특정 원소를 value 값으로 뺄 때 remove를 쓰는 것을 다시금 복습.\n",
    "(12-17 추가) 여기서는 중복이되지 않으므로 remove를 사용했지만 중복이 될 경우를 대비하여  items에서 뽑을 때 index를 뽑고 `del 리스트[index]` 형태도 고려해 볼것\n",
    "\n",
    "## 오류 리뷰\n",
    "반례 [1,1,1,1,2,1,2,1,2,1] 같은 경우 내가 처음 1,1을 플러그에 다 꼽으면서 문제가 생겼다.\n",
    "\n"
   ]
  },
  {
   "cell_type": "code",
   "execution_count": null,
   "id": "d29ecee5-a28f-447d-a153-224b09581434",
   "metadata": {},
   "outputs": [],
   "source": []
  },
  {
   "cell_type": "markdown",
   "id": "b5d778e3-35d3-4f37-a3ee-5a4c750d2219",
   "metadata": {},
   "source": [
    "# 2720번 세탁소 사장 동혁"
   ]
  },
  {
   "cell_type": "code",
   "execution_count": 155,
   "id": "9bdb0594-fd65-41ae-a95a-96fe48773e5b",
   "metadata": {},
   "outputs": [
    {
     "name": "stdin",
     "output_type": "stream",
     "text": [
      " 3\n",
      " 124\n"
     ]
    },
    {
     "name": "stdout",
     "output_type": "stream",
     "text": [
      "4 2 0 4\n"
     ]
    },
    {
     "name": "stdin",
     "output_type": "stream",
     "text": [
      " ㄴ\n"
     ]
    },
    {
     "ename": "ValueError",
     "evalue": "invalid literal for int() with base 10: 'ㄴ'",
     "output_type": "error",
     "traceback": [
      "\u001b[1;31m---------------------------------------------------------------------------\u001b[0m",
      "\u001b[1;31mValueError\u001b[0m                                Traceback (most recent call last)",
      "\u001b[1;32m<ipython-input-155-48a7852c71e1>\u001b[0m in \u001b[0;36m<module>\u001b[1;34m\u001b[0m\n\u001b[0;32m      3\u001b[0m \u001b[1;32mfor\u001b[0m \u001b[0mi\u001b[0m \u001b[1;32min\u001b[0m \u001b[0mrange\u001b[0m\u001b[1;33m(\u001b[0m\u001b[0mT\u001b[0m\u001b[1;33m)\u001b[0m\u001b[1;33m:\u001b[0m\u001b[1;33m\u001b[0m\u001b[1;33m\u001b[0m\u001b[0m\n\u001b[0;32m      4\u001b[0m     \u001b[0mtemp_list\u001b[0m\u001b[1;33m=\u001b[0m\u001b[1;33m[\u001b[0m\u001b[1;33m]\u001b[0m\u001b[1;33m\u001b[0m\u001b[1;33m\u001b[0m\u001b[0m\n\u001b[1;32m----> 5\u001b[1;33m     \u001b[0mC\u001b[0m\u001b[1;33m=\u001b[0m\u001b[0mint\u001b[0m\u001b[1;33m(\u001b[0m\u001b[0minput\u001b[0m\u001b[1;33m(\u001b[0m\u001b[1;33m)\u001b[0m\u001b[1;33m)\u001b[0m\u001b[1;33m\u001b[0m\u001b[1;33m\u001b[0m\u001b[0m\n\u001b[0m\u001b[0;32m      6\u001b[0m     \u001b[0mtemp_list\u001b[0m\u001b[1;33m.\u001b[0m\u001b[0mappend\u001b[0m\u001b[1;33m(\u001b[0m\u001b[0mC\u001b[0m\u001b[1;33m//\u001b[0m\u001b[1;36m25\u001b[0m\u001b[1;33m)\u001b[0m\u001b[1;33m\u001b[0m\u001b[1;33m\u001b[0m\u001b[0m\n\u001b[0;32m      7\u001b[0m     \u001b[0mtemp_list\u001b[0m\u001b[1;33m.\u001b[0m\u001b[0mappend\u001b[0m\u001b[1;33m(\u001b[0m\u001b[1;33m(\u001b[0m\u001b[0mC\u001b[0m\u001b[1;33m%\u001b[0m\u001b[1;36m25\u001b[0m\u001b[1;33m)\u001b[0m\u001b[1;33m//\u001b[0m\u001b[1;36m10\u001b[0m\u001b[1;33m)\u001b[0m\u001b[1;33m\u001b[0m\u001b[1;33m\u001b[0m\u001b[0m\n",
      "\u001b[1;31mValueError\u001b[0m: invalid literal for int() with base 10: 'ㄴ'"
     ]
    }
   ],
   "source": [
    "T=int(input())\n",
    "temp_list=[]\n",
    "for i in range(T):\n",
    "    temp_list=[]\n",
    "    C=int(input())\n",
    "    temp_list.append(C//25)\n",
    "    temp_list.append((C%25)//10)\n",
    "    temp_list.append(((C%25)%10)//5)\n",
    "    temp_list.append((((C%25)%10)%5))\n",
    "    print(' '.join(map(str, temp_list)))"
   ]
  },
  {
   "cell_type": "markdown",
   "id": "a0105eee-a141-4aef-90a6-aca93045531e",
   "metadata": {},
   "source": [
    "## 코드리뷰\n",
    "잘 알려진 그리디 문제. 1의 배수로 25,10,5 가 있는걸 먼저 확인 해야한다.\n",
    "join을 통해 결합하고\n",
    "반복적인 계산이 싫다면 a=[25,10,5,1]을 이용하여 반복구문을 생성하자"
   ]
  },
  {
   "cell_type": "code",
   "execution_count": null,
   "id": "39a0e25b-cd2b-46e4-ab82-e9cf5cbcc7a9",
   "metadata": {},
   "outputs": [],
   "source": []
  },
  {
   "cell_type": "markdown",
   "id": "28fc7735-3242-43e6-8381-a54f337ffe27",
   "metadata": {},
   "source": [
    "# 3109 빵집"
   ]
  },
  {
   "cell_type": "code",
   "execution_count": 156,
   "id": "b4a4f5a9-b81e-40a8-8d64-0e81f7228353",
   "metadata": {},
   "outputs": [],
   "source": [
    "# 제일 위의 경로는 제일 위의 경로를 이용하도록 한다. 그래야 밑이 지나갈 수 있는 길이 더 많아ㅣㅈㅁ\n",
    "# 따라서 제일 위에 거부터 아래로 순서대로 진행 길찾기에서 제일 오른쪽 위-> 오른쪽 중간 -> 오른쪽 아래 순서대로 우선순위\n",
    "# 트랜잭션으로 만약 길이 연결되지 않으면 해당 과정을 전부 취소할 수 있어야 한다. "
   ]
  },
  {
   "cell_type": "code",
   "execution_count": 162,
   "id": "02c40e1a-392a-408b-b017-8ff3d01ddd64",
   "metadata": {},
   "outputs": [
    {
     "name": "stdin",
     "output_type": "stream",
     "text": [
      " 5 5\n",
      " .xx..\n",
      " ..x..\n",
      " .....\n",
      " ...x.\n",
      " ...x.\n"
     ]
    }
   ],
   "source": [
    "R, C = map(int, input().split())\n",
    "table=[list(input()) for _ in range(R)]"
   ]
  },
  {
   "cell_type": "code",
   "execution_count": 187,
   "id": "4d7b0bd7-5cf0-4de3-92ec-a81d210f7cfa",
   "metadata": {},
   "outputs": [],
   "source": [
    "def dfs(i,table):\n",
    "    moving=[-1,0,1]\n",
    "    y,x=i,0\n",
    "    temp=[]\n",
    "    while True:\n",
    "        clear=False\n",
    "        for j in range(3):\n",
    "            if x==C-1:\n",
    "                for ry,rx in temp:\n",
    "                    table[ry][rx]='x'\n",
    "                return 1\n",
    "            print(x,y)\n",
    "            ny=y+moving[j]\n",
    "            nx=x+1\n",
    "            if ny<0 or ny>=R:\n",
    "                continue\n",
    "            if table[ny][nx]=='x':\n",
    "                continue\n",
    "            temp.append([y,x])\n",
    "            x=nx\n",
    "            y=ny\n",
    "            clear=True\n",
    "        if clear ==False:\n",
    "            return 0"
   ]
  },
  {
   "cell_type": "code",
   "execution_count": 188,
   "id": "6e8c96eb-9aa0-4bde-9990-1e5f66c15ae1",
   "metadata": {
    "collapsed": true,
    "jupyter": {
     "outputs_hidden": true
    },
    "tags": []
   },
   "outputs": [
    {
     "name": "stdout",
     "output_type": "stream",
     "text": [
      "0 0\n",
      "0 0\n",
      "0 0\n",
      "0 1\n",
      "0 1\n",
      "0 1\n",
      "0 2\n",
      "0 2\n",
      "0 2\n",
      "1 3\n",
      "1 3\n",
      "1 3\n",
      "2 4\n",
      "2 4\n",
      "2 4\n",
      "0 3\n",
      "0 3\n",
      "1 3\n",
      "2 4\n",
      "2 4\n",
      "2 4\n",
      "0 4\n",
      "1 3\n",
      "1 3\n",
      "2 4\n",
      "2 4\n",
      "2 4\n",
      "0\n"
     ]
    }
   ],
   "source": [
    "result=0\n",
    "for i in range(R):\n",
    "    result+=dfs(i,table)\n",
    "print(result)"
   ]
  },
  {
   "cell_type": "code",
   "execution_count": 189,
   "id": "7e8a4c00-c84b-42a9-9913-f9f179818c42",
   "metadata": {},
   "outputs": [
    {
     "data": {
      "text/plain": [
       "[['x', 'x', 'x', '.', '.'],\n",
       " ['x', 'x', 'x', 'x', '.'],\n",
       " ['.', 'x', 'x', 'x', '.'],\n",
       " ['.', '.', 'x', 'x', '.'],\n",
       " ['.', '.', '.', 'x', '.']]"
      ]
     },
     "execution_count": 189,
     "metadata": {},
     "output_type": "execute_result"
    }
   ],
   "source": [
    "table"
   ]
  },
  {
   "cell_type": "code",
   "execution_count": 12,
   "id": "bca93cd4-e3bf-4350-bfb3-9a60ac6eae8e",
   "metadata": {},
   "outputs": [
    {
     "name": "stdin",
     "output_type": "stream",
     "text": [
      " 5 5\n",
      " .....\n",
      " .....\n",
      " ..x..\n",
      " .....\n",
      " .....\n"
     ]
    },
    {
     "name": "stdout",
     "output_type": "stream",
     "text": [
      "4\n"
     ]
    }
   ],
   "source": [
    "R, C = map(int, input().split())\n",
    "table=[list(input()) for _ in range(R)]\n",
    "\n",
    "def dfs(i,table):\n",
    "    moving=[-1,0,1]\n",
    "    y,x=i,0\n",
    "    while True:\n",
    "        if x==C-1:\n",
    "            return 1\n",
    "        clear=False\n",
    "        table[y][x]='x'\n",
    "        for j in range(3):\n",
    "            ny=y+moving[j]\n",
    "            nx=x+1\n",
    "            if (ny<0) or (ny>=R):\n",
    "                continue\n",
    "            if table[ny][nx]=='x':\n",
    "                continue\n",
    "            x=nx\n",
    "            y=ny\n",
    "            clear=True\n",
    "            break\n",
    "            \n",
    "        if clear ==False:\n",
    "            return 0\n",
    "\n",
    "result=0\n",
    "for i in range(R):\n",
    "    result+=dfs(i,table)\n",
    "print(result)"
   ]
  },
  {
   "cell_type": "code",
   "execution_count": 13,
   "id": "7128b216-b939-458a-99db-19d2de26b3f5",
   "metadata": {},
   "outputs": [
    {
     "data": {
      "text/plain": [
       "[['x', 'x', 'x', 'x', '.'],\n",
       " ['x', 'x', 'x', 'x', '.'],\n",
       " ['x', 'x', 'x', 'x', '.'],\n",
       " ['x', 'x', 'x', 'x', '.'],\n",
       " ['x', 'x', 'x', '.', '.']]"
      ]
     },
     "execution_count": 13,
     "metadata": {},
     "output_type": "execute_result"
    }
   ],
   "source": [
    "table"
   ]
  },
  {
   "cell_type": "code",
   "execution_count": null,
   "id": "e9221a26-b02d-4d5b-85e4-da3ba16ddd20",
   "metadata": {},
   "outputs": [],
   "source": []
  },
  {
   "cell_type": "code",
   "execution_count": 226,
   "id": "0df9465e-c1a5-46bb-94ba-663afddeca19",
   "metadata": {},
   "outputs": [
    {
     "name": "stdin",
     "output_type": "stream",
     "text": [
      " 6 10\n",
      " ..x.......\n",
      " .....x....\n",
      " .x....x...\n",
      " ...x...xx.\n",
      " ..........\n",
      " ....x.....\n"
     ]
    }
   ],
   "source": [
    "R, C = map(int, input().split())\n",
    "table=[list(input()) for _ in range(R)]\n",
    "# ..x.......\n",
    "# .....x....\n",
    "# .x....x...\n",
    "# ...x...xx.\n",
    "# ..........\n",
    "# ....x....."
   ]
  },
  {
   "cell_type": "code",
   "execution_count": 231,
   "id": "2f4c6d63-176f-4401-8503-58992cd818ac",
   "metadata": {},
   "outputs": [],
   "source": [
    "table=table1"
   ]
  },
  {
   "cell_type": "code",
   "execution_count": 228,
   "id": "c0e2ba2f-93b9-40d0-a4b0-618f25142765",
   "metadata": {},
   "outputs": [],
   "source": [
    "def dfs(i,table):\n",
    "    moving=[-1,0,1]\n",
    "    y,x=i,0\n",
    "    while True:\n",
    "        if x==C-1:\n",
    "            return 1\n",
    "        clear=False\n",
    "        for j in range(3):\n",
    "            ny=y+moving[j]\n",
    "            nx=x+1\n",
    "            if ny<0 or ny>=R:\n",
    "                continue\n",
    "            if table[ny][nx]=='x':\n",
    "                continue\n",
    "            x=nx\n",
    "            y=ny\n",
    "            clear=True\n",
    "            break\n",
    "            \n",
    "        if clear ==False:\n",
    "            return 0\n",
    "result=0\n",
    "for i in range(R):\n",
    "    result+=dfs(i,table)\n",
    "print(result)"
   ]
  },
  {
   "cell_type": "code",
   "execution_count": 229,
   "id": "34c19e36-270a-4a03-92c4-5fe987b53b0b",
   "metadata": {
    "tags": []
   },
   "outputs": [
    {
     "name": "stdout",
     "output_type": "stream",
     "text": [
      "[['x', 'x', 'x', 'x', 'x', 'x', 'x', 'x', 'x', '.'], ['.', '.', 'x', '.', '.', 'x', '.', '.', '.', '.'], ['.', 'x', '.', '.', '.', '.', 'x', '.', '.', '.'], ['.', '.', '.', 'x', '.', '.', '.', 'x', 'x', '.'], ['.', '.', '.', '.', '.', '.', '.', '.', '.', '.'], ['.', '.', '.', '.', 'x', '.', '.', '.', '.', '.']]\n",
      "[['x', 'x', 'x', 'x', 'x', 'x', 'x', 'x', 'x', '.'], ['x', 'x', 'x', 'x', 'x', 'x', 'x', 'x', 'x', '.'], ['.', 'x', 'x', '.', '.', 'x', 'x', '.', '.', '.'], ['.', '.', '.', 'x', '.', '.', '.', 'x', 'x', '.'], ['.', '.', '.', '.', '.', '.', '.', '.', '.', '.'], ['.', '.', '.', '.', 'x', '.', '.', '.', '.', '.']]\n",
      "[['x', 'x', 'x', 'x', 'x', 'x', 'x', 'x', 'x', '.'], ['x', 'x', 'x', 'x', 'x', 'x', 'x', 'x', 'x', '.'], ['x', 'x', 'x', 'x', 'x', 'x', 'x', 'x', 'x', '.'], ['.', 'x', 'x', 'x', '.', 'x', 'x', 'x', 'x', '.'], ['.', '.', '.', '.', '.', '.', '.', '.', '.', '.'], ['.', '.', '.', '.', 'x', '.', '.', '.', '.', '.']]\n",
      "[['x', 'x', 'x', 'x', 'x', 'x', 'x', 'x', 'x', '.'], ['x', 'x', 'x', 'x', 'x', 'x', 'x', 'x', 'x', '.'], ['x', 'x', 'x', 'x', 'x', 'x', 'x', 'x', 'x', '.'], ['x', 'x', 'x', 'x', 'x', 'x', 'x', 'x', 'x', '.'], ['.', 'x', 'x', 'x', '.', 'x', 'x', 'x', 'x', '.'], ['.', '.', '.', '.', 'x', '.', '.', '.', '.', '.']]\n",
      "[['x', 'x', 'x', 'x', 'x', 'x', 'x', 'x', 'x', '.'], ['x', 'x', 'x', 'x', 'x', 'x', 'x', 'x', 'x', '.'], ['x', 'x', 'x', 'x', 'x', 'x', 'x', 'x', 'x', '.'], ['x', 'x', 'x', 'x', 'x', 'x', 'x', 'x', 'x', '.'], ['x', 'x', 'x', 'x', 'x', 'x', 'x', 'x', 'x', '.'], ['.', 'x', 'x', 'x', 'x', 'x', 'x', 'x', 'x', '.']]\n",
      "[['x', 'x', 'x', 'x', 'x', 'x', 'x', 'x', 'x', '.'], ['x', 'x', 'x', 'x', 'x', 'x', 'x', 'x', 'x', '.'], ['x', 'x', 'x', 'x', 'x', 'x', 'x', 'x', 'x', '.'], ['x', 'x', 'x', 'x', 'x', 'x', 'x', 'x', 'x', '.'], ['x', 'x', 'x', 'x', 'x', 'x', 'x', 'x', 'x', '.'], ['.', 'x', 'x', 'x', 'x', 'x', 'x', 'x', 'x', '.']]\n",
      "5\n"
     ]
    }
   ],
   "source": [
    "result=0\n",
    "for i in range(R):\n",
    "    result+=dfs(i,table)\n",
    "print(result)"
   ]
  },
  {
   "cell_type": "code",
   "execution_count": 232,
   "id": "dced15ed-5f8d-4bce-8237-5f6ee6160db7",
   "metadata": {},
   "outputs": [
    {
     "data": {
      "text/plain": [
       "[['x', 'x', 'x', 'x', 'x', 'x', 'x', 'x', 'x', '.'],\n",
       " ['x', 'x', 'x', 'x', 'x', 'x', 'x', 'x', 'x', '.'],\n",
       " ['x', 'x', 'x', 'x', 'x', 'x', 'x', 'x', 'x', '.'],\n",
       " ['x', 'x', 'x', 'x', 'x', 'x', 'x', 'x', 'x', '.'],\n",
       " ['x', 'x', 'x', 'x', 'x', 'x', 'x', 'x', 'x', '.'],\n",
       " ['.', 'x', 'x', 'x', 'x', 'x', 'x', 'x', 'x', '.']]"
      ]
     },
     "execution_count": 232,
     "metadata": {},
     "output_type": "execute_result"
    }
   ],
   "source": [
    "table"
   ]
  },
  {
   "cell_type": "markdown",
   "id": "9d2e69bc-16f9-4e25-ad8e-77ef00eea50e",
   "metadata": {},
   "source": [
    "## 코드리뷰 : 맞왜틀\n",
    "맞게 쓴거같은데 자꾸틀리단다... 반례가 필요한데 반례를 못찾겠다"
   ]
  },
  {
   "cell_type": "code",
   "execution_count": null,
   "id": "93cb8560-908e-4926-ad7f-cade1c29d0c0",
   "metadata": {},
   "outputs": [],
   "source": []
  },
  {
   "cell_type": "markdown",
   "id": "f1f8857c-0d06-40ca-b41a-207659e2377a",
   "metadata": {},
   "source": [
    "# 1213 팰린드롬 만들기"
   ]
  },
  {
   "cell_type": "code",
   "execution_count": 62,
   "id": "39000126-9b89-4a49-af2b-45047da1463c",
   "metadata": {},
   "outputs": [
    {
     "name": "stdin",
     "output_type": "stream",
     "text": [
      " ABAB\n"
     ]
    },
    {
     "name": "stdout",
     "output_type": "stream",
     "text": [
      "ABBA\n"
     ]
    }
   ],
   "source": [
    "from collections import Counter\n",
    "s=input()\n",
    "a=Counter(s)\n",
    "temp=''\n",
    "result=[]\n",
    "\n",
    "for i,j in a.items():\n",
    "    if j%2==1:\n",
    "        if temp!='':\n",
    "            temp=\"I'm Sorry Hansoo\"\n",
    "            result=[]\n",
    "            break\n",
    "        temp=i\n",
    "    for _ in range(j//2):\n",
    "        result.append(i)\n",
    "\n",
    "# 리스트를 사전에서 가장 먼저인 것으로 정렬하고 넣는 문구\n",
    "result.sort()\n",
    "result=''.join(result)\n",
    "k=result+temp+result[::-1]\n",
    "print(k)\n",
    "\n",
    "# 이미 팰린드롬인 상태를 넣으면 출력하는 구문(필요없음)\n",
    "if k!=s:\n",
    "    print(k)\n",
    "else:\n",
    "    print(\"I'm Sorry Hansoo\")"
   ]
  },
  {
   "cell_type": "markdown",
   "id": "4c2b6fbc-3c5b-45c6-a5f2-51c49b960e97",
   "metadata": {},
   "source": [
    "## 코드리뷰\n",
    "그냥 쉬운 문제엿는데. 펠린드롬이 뭔지도 안알려주고 사전 선순 출력도 안알려주고 조건이 없음"
   ]
  },
  {
   "cell_type": "code",
   "execution_count": 23,
   "id": "f1405223-0cf6-4965-aa24-abe4913f95d1",
   "metadata": {},
   "outputs": [],
   "source": []
  },
  {
   "cell_type": "markdown",
   "id": "7ce364d3-30e9-4da7-b633-e9d10d42ead4",
   "metadata": {},
   "source": [
    "# 10775 공항"
   ]
  },
  {
   "cell_type": "code",
   "execution_count": 2,
   "id": "20b2366e-d57c-48ec-bebb-3571813e8d59",
   "metadata": {},
   "outputs": [
    {
     "name": "stdin",
     "output_type": "stream",
     "text": [
      " 1\n",
      " 1\n"
     ]
    }
   ],
   "source": [
    "G= int(input())\n",
    "P= int(input())\n",
    "import sys\n",
    "g=list(map(int, sys.stdin.readline()))"
   ]
  },
  {
   "cell_type": "code",
   "execution_count": 12,
   "id": "a963f6df-79bc-4ff8-bfb5-b3ffdfb075b3",
   "metadata": {},
   "outputs": [],
   "source": [
    "G,P=4,6\n",
    "g=[2,2,3,3,4,4]"
   ]
  },
  {
   "cell_type": "code",
   "execution_count": 13,
   "id": "0aaf9e53-4c14-47dc-abc3-e78fd443d5ad",
   "metadata": {},
   "outputs": [
    {
     "name": "stdout",
     "output_type": "stream",
     "text": [
      "1\n"
     ]
    }
   ],
   "source": [
    "g_list=[0 for _ in range(G)]\n",
    "result=0\n",
    "for air in g:\n",
    "    if air in g_list:\n",
    "        continue\n",
    "    cnt=air\n",
    "    for i in range(air):\n",
    "        if g_list[cnt]!=0:\n",
    "            cnt-=1\n",
    "            continue\n",
    "        g_list[cnt]=air\n",
    "        result+=1\n",
    "        break\n",
    "    if len(g_list)==G:\n",
    "        break\n",
    "print(result)"
   ]
  },
  {
   "cell_type": "code",
   "execution_count": 21,
   "id": "a9c6a1be-6890-4836-ac9d-829e3700f6a0",
   "metadata": {},
   "outputs": [
    {
     "name": "stdout",
     "output_type": "stream",
     "text": [
      "2 2 [0, 0, 0, 0]\n",
      "3 3 [0, 2, 0, 0]\n",
      "4 4 [0, 2, 3, 0]\n",
      "3\n"
     ]
    }
   ],
   "source": [
    "air_list=[0 for _ in range(G)]\n",
    "cnt=0\n",
    "for air in g:\n",
    "    if air in air_list:\n",
    "        continue\n",
    "    temp=air\n",
    "    for i in range(air):\n",
    "        print(air, temp, air_list)\n",
    "        if air_list[temp-1]==0:\n",
    "            air_list[temp-1]=air\n",
    "            cnt+=1\n",
    "            break\n",
    "        temp-=1\n",
    "    if 0 not in air_list:\n",
    "        break\n",
    "print(cnt)"
   ]
  },
  {
   "cell_type": "code",
   "execution_count": 2,
   "id": "abf046e5-f0e6-4916-ba50-26012d94e8e1",
   "metadata": {},
   "outputs": [
    {
     "name": "stdin",
     "output_type": "stream",
     "text": [
      " 4\n",
      " 3\n",
      " 4\n",
      " 1\n",
      " 1\n"
     ]
    },
    {
     "name": "stdout",
     "output_type": "stream",
     "text": [
      "2\n"
     ]
    }
   ],
   "source": [
    "import sys\n",
    "G= int(sys.stdin.readline())\n",
    "P= int(sys.stdin.readline())\n",
    "g=[]\n",
    "for _ in range(P):\n",
    "    g.append(int(sys.stdin.readline()))\n",
    "air_list=[0 for _ in range(G)]\n",
    "cnt=0\n",
    "for air in g:\n",
    "    if air in air_list:\n",
    "        continue\n",
    "    temp=air\n",
    "    for i in range(air):\n",
    "        if air_list[temp-1]==0:\n",
    "            air_list[temp-1]=air\n",
    "            cnt+=1\n",
    "            break\n",
    "        temp-=1\n",
    "    if 0 not in air_list:\n",
    "        break\n",
    "print(cnt)"
   ]
  },
  {
   "cell_type": "code",
   "execution_count": 3,
   "id": "ee262c94-7ea9-4246-bd0a-1fae28b15b1b",
   "metadata": {},
   "outputs": [
    {
     "name": "stdout",
     "output_type": "stream",
     "text": [
      "[1, 0, 0, 4]\n"
     ]
    }
   ],
   "source": [
    "print(air_list)"
   ]
  },
  {
   "cell_type": "markdown",
   "id": "aa49a223-da8f-410b-8cf7-f2e926eb8d29",
   "metadata": {},
   "source": [
    "# 2812 크게만들기"
   ]
  },
  {
   "cell_type": "code",
   "execution_count": 2,
   "id": "1ee230ae-f39e-4b81-960f-2bd77968bdbd",
   "metadata": {},
   "outputs": [
    {
     "name": "stdin",
     "output_type": "stream",
     "text": [
      " 4 2\n",
      " 1924\n"
     ]
    }
   ],
   "source": [
    "N,K = map(int, input().split())\n",
    "number= input()"
   ]
  },
  {
   "cell_type": "code",
   "execution_count": 3,
   "id": "9519134e-2eb0-43da-8a26-bb3925855efa",
   "metadata": {},
   "outputs": [
    {
     "name": "stdout",
     "output_type": "stream",
     "text": [
      "1924\n"
     ]
    }
   ],
   "source": [
    "print(number)"
   ]
  },
  {
   "cell_type": "code",
   "execution_count": 7,
   "id": "af59f2e8-c280-4ae1-a937-ce3405127558",
   "metadata": {},
   "outputs": [
    {
     "name": "stdout",
     "output_type": "stream",
     "text": [
      "192\n",
      "1\n"
     ]
    }
   ],
   "source": [
    "print(number[:K+1])\n",
    "print(number.index(max(number[:K+1])))"
   ]
  },
  {
   "cell_type": "code",
   "execution_count": 5,
   "id": "cd733510-b36f-4b56-bfc8-700f4d3cba90",
   "metadata": {
    "tags": []
   },
   "outputs": [
    {
     "name": "stdin",
     "output_type": "stream",
     "text": [
      " 10 4\n",
      " 4177252841\n"
     ]
    },
    {
     "name": "stdout",
     "output_type": "stream",
     "text": [
      "775841\n"
     ]
    }
   ],
   "source": [
    "N,K = map(int, input().split())\n",
    "number= input()\n",
    "result=''\n",
    "while True:\n",
    "    temp=number.index(max(number[:K+1]))\n",
    "    result+=number[temp]\n",
    "    if temp==K:\n",
    "        result+=number[K+1:]\n",
    "        break\n",
    "    K-=temp\n",
    "    number=number[temp+1:]\n",
    "print(result)"
   ]
  },
  {
   "cell_type": "code",
   "execution_count": 46,
   "id": "00729f89-0a9f-4107-bc6d-bcaf01667791",
   "metadata": {},
   "outputs": [],
   "source": [
    "N,K=7,3\n",
    "number='1231234'\n",
    "result=''\n",
    "temp= number.index(max(number[:K+1]))"
   ]
  },
  {
   "cell_type": "code",
   "execution_count": 47,
   "id": "4eb345f8-23bf-45e6-ac26-918c514ab8c0",
   "metadata": {},
   "outputs": [
    {
     "name": "stdout",
     "output_type": "stream",
     "text": [
      "1234\n"
     ]
    }
   ],
   "source": [
    "print(number[K:])\n",
    "if temp==K:\n",
    "    result+=number[K:]\n",
    "K-=temp\n",
    "number=number[temp+1:]"
   ]
  },
  {
   "cell_type": "code",
   "execution_count": 48,
   "id": "fabcb33d-74b2-451a-ab67-395527f8bbbd",
   "metadata": {},
   "outputs": [
    {
     "data": {
      "text/plain": [
       "'1234'"
      ]
     },
     "execution_count": 48,
     "metadata": {},
     "output_type": "execute_result"
    }
   ],
   "source": [
    "number"
   ]
  },
  {
   "cell_type": "code",
   "execution_count": 9,
   "id": "ac8adf9f-3c9f-4d71-ac4c-49c8d284a2f1",
   "metadata": {},
   "outputs": [
    {
     "name": "stdin",
     "output_type": "stream",
     "text": [
      " 4 2\n",
      " 1924\n"
     ]
    }
   ],
   "source": [
    "N,K = map(int, input().split())\n",
    "numbers=list(input())\n",
    "stack=[]\n",
    "k=K"
   ]
  },
  {
   "cell_type": "code",
   "execution_count": 10,
   "id": "ce1c0568-c762-4fed-a850-037112b16871",
   "metadata": {},
   "outputs": [
    {
     "name": "stdout",
     "output_type": "stream",
     "text": [
      "94\n"
     ]
    }
   ],
   "source": [
    "for i in range(N):\n",
    "    while k>0 and stack and stack[-1]<numbers[i]:\n",
    "        stack.pop()\n",
    "        k-=1\n",
    "    stack.append(numbers[i])\n",
    "print(''.join(stack[:N-K]))"
   ]
  },
  {
   "cell_type": "markdown",
   "id": "66c9cba9-5a70-451b-9c0c-fe2b8c91c680",
   "metadata": {},
   "source": [
    "## 코드리뷰\n",
    "처음에는 K+1 안에서 max 찾고 대입하는 식으로 했는데 시간 초과로 안됐다.\n",
    "stack 구조를 사용하면 전에 넣은 것이 지금 비교하는 값보다 작으면 빼는 식으로 하면 됐다.\n"
   ]
  },
  {
   "cell_type": "code",
   "execution_count": null,
   "id": "098be4c9-3ba1-4951-935d-f4dc614249bc",
   "metadata": {},
   "outputs": [],
   "source": []
  },
  {
   "cell_type": "markdown",
   "id": "746b533d-89a3-424a-a6f6-196246df1018",
   "metadata": {},
   "source": [
    "# 2810 컵홀더"
   ]
  },
  {
   "cell_type": "code",
   "execution_count": 16,
   "id": "77319743-b6cc-443b-bb80-17ff52d7ec7f",
   "metadata": {},
   "outputs": [
    {
     "name": "stdin",
     "output_type": "stream",
     "text": [
      " 6\n",
      " SLLSLL\n"
     ]
    },
    {
     "name": "stdout",
     "output_type": "stream",
     "text": [
      "5\n"
     ]
    }
   ],
   "source": [
    "N= int(input())\n",
    "line=input()\n",
    "print(min(N-line.count('L')//2+1,N))"
   ]
  },
  {
   "cell_type": "code",
   "execution_count": 14,
   "id": "e15ea05c-ed66-401f-ba03-27d4be685a01",
   "metadata": {},
   "outputs": [],
   "source": []
  },
  {
   "cell_type": "markdown",
   "id": "ebfc90db-852b-472a-af95-147f5630cb76",
   "metadata": {},
   "source": [
    "# 15903 카드합체놀이"
   ]
  },
  {
   "cell_type": "code",
   "execution_count": 17,
   "id": "c1f31c7c-0e27-42b8-941c-d088599b5432",
   "metadata": {},
   "outputs": [],
   "source": [
    "# 카드 n 장 에서 x번카드 + y번카드\n",
    "#x=x+y\n",
    "#y=x+y\n",
    "#m번 수행 n장의 카드의 모든 수를 더하기\n",
    "# 가장작은 수는 무엇?"
   ]
  },
  {
   "cell_type": "code",
   "execution_count": 18,
   "id": "e1a99a61-06d4-44fb-9892-4b1adfc9f906",
   "metadata": {},
   "outputs": [
    {
     "name": "stdin",
     "output_type": "stream",
     "text": [
      " 3 1\n",
      " 3 2 6\n"
     ]
    }
   ],
   "source": [
    "n,m = map(int, input().split())\n",
    "a= list(map(int, input().split()))"
   ]
  },
  {
   "cell_type": "code",
   "execution_count": 21,
   "id": "e8f4372f-db08-440b-89c1-861eb7c77cb4",
   "metadata": {},
   "outputs": [],
   "source": [
    "import heapq\n",
    "heapq.heapify(a)"
   ]
  },
  {
   "cell_type": "code",
   "execution_count": 22,
   "id": "1c5069a4-8031-45af-ae46-e2f5f136545b",
   "metadata": {},
   "outputs": [
    {
     "name": "stdout",
     "output_type": "stream",
     "text": [
      "16\n"
     ]
    }
   ],
   "source": [
    "for _ in range(m):\n",
    "    temp=heapq.heappop(a)+heapq.heappop(a)\n",
    "    heapq.heappush(a, temp)\n",
    "    heapq.heappush(a, temp)\n",
    "print(sum(a))"
   ]
  },
  {
   "cell_type": "markdown",
   "id": "98379385-a195-4041-a825-849d40723a9e",
   "metadata": {},
   "source": [
    "## 코드리뷰\n",
    "쉬운 문제였다. 최소값 2개를 선택한는 문제여서 heapq 사용"
   ]
  },
  {
   "cell_type": "markdown",
   "id": "01e3e770-0919-40dc-894a-618bd6399ccb",
   "metadata": {},
   "source": [
    "# 2212 센서"
   ]
  },
  {
   "cell_type": "code",
   "execution_count": 23,
   "id": "49847ff3-e00e-42a0-afd5-a9d6d21230d4",
   "metadata": {},
   "outputs": [
    {
     "name": "stdin",
     "output_type": "stream",
     "text": [
      " 6\n",
      " 2\n",
      " 1 6 9 3 6 7\n"
     ]
    }
   ],
   "source": [
    "N= int(input())\n",
    "K= int(input())\n",
    "position=list(map(int,input().split()))"
   ]
  },
  {
   "cell_type": "code",
   "execution_count": 36,
   "id": "af034974-cfb0-4241-b3d8-66db4267a0f7",
   "metadata": {},
   "outputs": [
    {
     "data": {
      "text/plain": [
       "[1, 3, 6, 6, 7, 9]"
      ]
     },
     "execution_count": 36,
     "metadata": {},
     "output_type": "execute_result"
    }
   ],
   "source": [
    "#136679\n",
    "#2개 설치\n",
    "#2 7에 설치하면 길이 1+ 2 총 3으로 커버 가능??\n",
    "#5가 왜 정답이야? 1에 설치시 2 _ 6에 설치시 3 그래서 5? 말이 안됨.\n",
    "#수신 가능 길이가 1-3 6-7 2+3 해서 5라고\n",
    "position"
   ]
  },
  {
   "cell_type": "code",
   "execution_count": 37,
   "id": "2da338f6-3bb6-4d27-9093-bf13897870b3",
   "metadata": {},
   "outputs": [],
   "source": [
    "# position을 sort는 하는데 최소개수 2개로 모든 선을 연결해야함.\n",
    "import heapq\n",
    "heapq.heapify(position)"
   ]
  },
  {
   "cell_type": "code",
   "execution_count": 39,
   "id": "580b59e6-86ad-4a71-9a08-96eec5a9bdbc",
   "metadata": {},
   "outputs": [
    {
     "name": "stdout",
     "output_type": "stream",
     "text": [
      "[-3, -2, 0, -1, -2]\n",
      "5\n"
     ]
    }
   ],
   "source": [
    "position.sort()\n",
    "temp1=[]\n",
    "heapq.heapify(temp)\n",
    "for i in range(1,N):\n",
    "    heapq.heappush(temp,-(position[i]-position[i-1]))\n",
    "print(temp)\n",
    "for j in range(K-1):\n",
    "    heapq.heappop(temp)\n",
    "\n",
    "print(-sum(temp))"
   ]
  },
  {
   "cell_type": "code",
   "execution_count": 7,
   "id": "6937be65-3d8f-4c1f-bc1d-5c98b1725ea3",
   "metadata": {},
   "outputs": [
    {
     "name": "stdin",
     "output_type": "stream",
     "text": [
      " 6\n",
      " 2\n",
      " 1 6 9 3 6 7\n"
     ]
    },
    {
     "name": "stdout",
     "output_type": "stream",
     "text": [
      "5\n"
     ]
    }
   ],
   "source": [
    "N= int(input())\n",
    "K= int(input())\n",
    "position=list(map(int,input().split()))\n",
    "\n",
    "import heapq\n",
    "heapq.heapify(position)\n",
    "if N>K:\n",
    "    position.sort()\n",
    "    temp=[]\n",
    "    heapq.heapify(temp)\n",
    "    for i in range(1,N):\n",
    "        heapq.heappush(temp,-(position[i]-position[i-1]))\n",
    "    for j in range(K-1):\n",
    "        heapq.heappop(temp)\n",
    "\n",
    "    print(-sum(temp))\n",
    "else:\n",
    "    print(0)"
   ]
  },
  {
   "cell_type": "markdown",
   "id": "79489615-d7d0-4ba4-b1ec-5582eb0781e2",
   "metadata": {},
   "source": [
    "## 코드리뷰\n",
    "index 오류가 뜨길래 뭘 잘못했나 확인했더니 K가 N 보다 작다라는 예외상황이 없었다. 이를 if문으로 구현했는데 문제를 좀더 자세히 봐야겠다\n"
   ]
  },
  {
   "cell_type": "code",
   "execution_count": null,
   "id": "9d3763f2-3e38-4078-b5fd-667c4de8ac23",
   "metadata": {},
   "outputs": [],
   "source": []
  },
  {
   "cell_type": "markdown",
   "id": "90fe789d-2516-48ab-9daf-fe608ccb7de4",
   "metadata": {},
   "source": [
    "# 11497 통나무 건너뛰기"
   ]
  },
  {
   "cell_type": "code",
   "execution_count": 15,
   "id": "a02f9d0a-c1fc-4ef3-a4c1-8ba2efa417d4",
   "metadata": {
    "collapsed": true,
    "jupyter": {
     "outputs_hidden": true
    },
    "tags": []
   },
   "outputs": [
    {
     "name": "stdin",
     "output_type": "stream",
     "text": [
      " 1\n",
      " 5\n"
     ]
    },
    {
     "ename": "IndexError",
     "evalue": "list index out of range",
     "output_type": "error",
     "traceback": [
      "\u001b[1;31m---------------------------------------------------------------------------\u001b[0m",
      "\u001b[1;31mIndexError\u001b[0m                                Traceback (most recent call last)",
      "\u001b[1;32m<ipython-input-15-01053355f26c>\u001b[0m in \u001b[0;36m<module>\u001b[1;34m\u001b[0m\n\u001b[0;32m     10\u001b[0m     \u001b[1;32mfor\u001b[0m \u001b[0mi\u001b[0m \u001b[1;32min\u001b[0m \u001b[0mrange\u001b[0m\u001b[1;33m(\u001b[0m\u001b[0mN\u001b[0m\u001b[1;33m)\u001b[0m\u001b[1;33m:\u001b[0m\u001b[1;33m\u001b[0m\u001b[1;33m\u001b[0m\u001b[0m\n\u001b[0;32m     11\u001b[0m         \u001b[1;32mif\u001b[0m \u001b[0mi\u001b[0m\u001b[1;33m%\u001b[0m\u001b[1;36m2\u001b[0m\u001b[1;33m==\u001b[0m\u001b[1;36m0\u001b[0m\u001b[1;33m:\u001b[0m\u001b[1;33m\u001b[0m\u001b[1;33m\u001b[0m\u001b[0m\n\u001b[1;32m---> 12\u001b[1;33m             \u001b[0mtemp1\u001b[0m\u001b[1;33m.\u001b[0m\u001b[0mappend\u001b[0m\u001b[1;33m(\u001b[0m\u001b[0mtong\u001b[0m\u001b[1;33m[\u001b[0m\u001b[0mi\u001b[0m\u001b[1;33m]\u001b[0m\u001b[1;33m)\u001b[0m\u001b[1;33m\u001b[0m\u001b[1;33m\u001b[0m\u001b[0m\n\u001b[0m\u001b[0;32m     13\u001b[0m         \u001b[1;32melse\u001b[0m\u001b[1;33m:\u001b[0m\u001b[1;33m\u001b[0m\u001b[1;33m\u001b[0m\u001b[0m\n\u001b[0;32m     14\u001b[0m             \u001b[0mtemp2\u001b[0m\u001b[1;33m.\u001b[0m\u001b[0mappend\u001b[0m\u001b[1;33m(\u001b[0m\u001b[0mtong\u001b[0m\u001b[1;33m[\u001b[0m\u001b[0mi\u001b[0m\u001b[1;33m]\u001b[0m\u001b[1;33m)\u001b[0m\u001b[1;33m\u001b[0m\u001b[1;33m\u001b[0m\u001b[0m\n",
      "\u001b[1;31mIndexError\u001b[0m: list index out of range"
     ]
    }
   ],
   "source": [
    "import sys\n",
    "\n",
    "T= int(input())\n",
    "for _ in range(T):\n",
    "    N= int(input())\n",
    "    tong=list(map(int,sys.stdin.readline().split()))\n",
    "    tong.sort()\n",
    "    temp1=[]\n",
    "    temp2=[]\n",
    "    for i in range(N):\n",
    "        if i%2==0:\n",
    "            temp1.append(tong[i])\n",
    "        else:\n",
    "            temp2.append(tong[i])\n",
    "    temp2.reverse()\n",
    "    tong=temp1+temp2\n",
    "    temp=[abs(tong[0]-tong[-1])]\n",
    "    for i in range(2,N):\n",
    "        temp.append(abs(tong[i]-tong[i-1]))\n",
    "    print(max(temp))"
   ]
  },
  {
   "cell_type": "code",
   "execution_count": 17,
   "id": "8d75482a-2f7b-41c5-94c8-eeaebde08f81",
   "metadata": {},
   "outputs": [
    {
     "name": "stdin",
     "output_type": "stream",
     "text": [
      " 1\n",
      " 5\n",
      " 2 4 6 7 9\n"
     ]
    },
    {
     "name": "stdout",
     "output_type": "stream",
     "text": [
      "4\n"
     ]
    }
   ],
   "source": [
    "import sys\n",
    "\n",
    "T= int(input())\n",
    "for _ in range(T):\n",
    "    N= int(input())\n",
    "    tong=list(map(int,input().split()))\n",
    "    tong.sort()\n",
    "    temp=[abs(tong[0]-tong[1]), abs(tong[N-1]-tong[N-2])]\n",
    "    for i in range(2,N):\n",
    "        temp.append(abs(tong[i]-tong[i-2]))\n",
    "    print(max(temp))"
   ]
  },
  {
   "cell_type": "markdown",
   "id": "dcd8d648-1d2b-4f1b-bc9d-b4a559c8cf7f",
   "metadata": {},
   "source": [
    "## 코드리뷰\n",
    "산모양이므로 sort 진행후 홀수번째에는 앞에서 짝수번째에서는 뒤에 것을 수집 \n",
    "이후 합치기"
   ]
  },
  {
   "cell_type": "code",
   "execution_count": null,
   "id": "95fbbf09-6ddb-4b64-a6cb-2739695584b2",
   "metadata": {},
   "outputs": [],
   "source": []
  },
  {
   "cell_type": "markdown",
   "id": "3b25043c-23bc-4b01-9d9c-93dd930c0915",
   "metadata": {},
   "source": [
    "# 15904 ucpc"
   ]
  },
  {
   "cell_type": "code",
   "execution_count": 19,
   "id": "c15fe2dd-59d9-4802-97d3-419831017e93",
   "metadata": {},
   "outputs": [
    {
     "name": "stdin",
     "output_type": "stream",
     "text": [
      " Union of Computer Programming Contest club contest\n"
     ]
    }
   ],
   "source": [
    "string=input()"
   ]
  },
  {
   "cell_type": "code",
   "execution_count": 24,
   "id": "1805061e-3fcb-45c2-a5cf-74b02cb6ad36",
   "metadata": {},
   "outputs": [
    {
     "name": "stdout",
     "output_type": "stream",
     "text": [
      "I love UCPC\n"
     ]
    }
   ],
   "source": [
    "ucpc=['U','C','P','C']\n",
    "cnt=0\n",
    "for i in string:\n",
    "    if cnt==4:\n",
    "        break\n",
    "    if ucpc[cnt]==i:\n",
    "        cnt+=1\n",
    "if cnt==4:\n",
    "    print('I love UCPC')\n",
    "else:\n",
    "    print('I hate UCPC')"
   ]
  },
  {
   "cell_type": "code",
   "execution_count": null,
   "id": "24291a22-c908-4965-8412-d2dc3a0b79bc",
   "metadata": {},
   "outputs": [],
   "source": []
  },
  {
   "cell_type": "markdown",
   "id": "eb949428-18c5-45b6-92f0-adae918328e8",
   "metadata": {},
   "source": [
    "# 1041 주사위"
   ]
  },
  {
   "cell_type": "code",
   "execution_count": 3,
   "id": "9b0adaa9-7776-4fb8-9f59-68841a040db0",
   "metadata": {},
   "outputs": [
    {
     "name": "stdin",
     "output_type": "stream",
     "text": [
      " 5\n",
      " 1 2 3 4 5 6\n"
     ]
    }
   ],
   "source": [
    "N=int(input())\n",
    "dice=list(map(int,input().split()))"
   ]
  },
  {
   "cell_type": "code",
   "execution_count": 8,
   "id": "dd86f663-e26c-4acc-ae90-eb53e79b0435",
   "metadata": {},
   "outputs": [
    {
     "data": {
      "text/plain": [
       "2"
      ]
     },
     "execution_count": 8,
     "metadata": {},
     "output_type": "execute_result"
    }
   ],
   "source": [
    "dice[1]"
   ]
  },
  {
   "cell_type": "code",
   "execution_count": 12,
   "id": "7d838c36-9a3d-40a3-b4d8-8dbf55bba037",
   "metadata": {},
   "outputs": [
    {
     "name": "stdout",
     "output_type": "stream",
     "text": [
      "165\n"
     ]
    }
   ],
   "source": [
    "sum_dice=[]\n",
    "sum_dice.append(min(dice))\n",
    "sum_dice.append(min((min(dice[0],dice[5])+min(dice[1],dice[4])),(min(dice[0],dice[5])+min(dice[2],dice[3])),(min(dice[1],dice[4])+min(dice[2],dice[3]))))\n",
    "sum_dice.append(min(dice[0],dice[5])+min(dice[1],dice[4])+min(dice[2],dice[3]))\n",
    "if N==1:\n",
    "    dice.sort()\n",
    "    print(sum(dice[:5]))\n",
    "else:\n",
    "    print(4*sum_dice[2]+((N-2)*8+4)*sum_dice[1]+((5*((N-2)**2))+(N-2)*4)*sum_dice[0])"
   ]
  },
  {
   "cell_type": "markdown",
   "id": "c8a0a8be-34ef-43a3-8e70-5e70c3429d69",
   "metadata": {},
   "source": [
    "## 코드리뷰\n",
    "보이는 면의 수에 따른 주사위가 주 알고리즘인줄 알았으나, 실제로는 주사위에서 2면, 3면이 보일 때 최소인 곳을 선정하는 문제였다. 마주보는 면끼리 중 최소값을 선정하여 서로 더하면 보이는 면수에 따른 최소값을 알 수 있다. 즉, 합의 min 값이 마주보는 서로를 포함하지 않으면 된다."
   ]
  },
  {
   "cell_type": "code",
   "execution_count": null,
   "id": "49cae657-7460-4a1c-955c-cb25fa0fff36",
   "metadata": {},
   "outputs": [],
   "source": []
  },
  {
   "cell_type": "markdown",
   "id": "00030d0d-e015-4543-bd28-d91390e81f97",
   "metadata": {},
   "source": [
    "# 14659 한조서열정리하고옴"
   ]
  },
  {
   "cell_type": "code",
   "execution_count": 21,
   "id": "afc10c9c-7f21-4a65-bc9d-7c13c438f545",
   "metadata": {},
   "outputs": [
    {
     "name": "stdin",
     "output_type": "stream",
     "text": [
      " 7\n",
      " 1 7 1 2 2 2 2\n"
     ]
    }
   ],
   "source": [
    "N= int(input())\n",
    "arrow=list(map(int,input().split()))"
   ]
  },
  {
   "cell_type": "code",
   "execution_count": 23,
   "id": "00a34486-c324-40dd-98b8-a63419df971f",
   "metadata": {
    "tags": []
   },
   "outputs": [
    {
     "name": "stdout",
     "output_type": "stream",
     "text": [
      "5\n"
     ]
    }
   ],
   "source": [
    "cnt=0\n",
    "temp=[]\n",
    "for i in range(N):\n",
    "    for j in range(i+1,N):\n",
    "        if arrow[i]-arrow[j]>=0:\n",
    "            cnt+=1\n",
    "        else:\n",
    "            temp.append(cnt)\n",
    "            cnt=0\n",
    "            break\n",
    "print(max(temp))"
   ]
  },
  {
   "cell_type": "code",
   "execution_count": null,
   "id": "b88dd15f-d5a0-4a61-bdb6-ea7155f29297",
   "metadata": {},
   "outputs": [],
   "source": [
    "N= int(input())\n",
    "arrow=list(map(int,input().split()))\n",
    "\n",
    "max_height=0\n",
    "ans=0\n",
    "for i in range(N):\n",
    "    if arrow[i] > max_height:\n",
    "        cnt=0\n",
    "        max_height = arrow[i]\n",
    "    else:\n",
    "        cnt+=1\n",
    "    ans = max(ans, cnt)\n",
    "print(ans)"
   ]
  },
  {
   "cell_type": "markdown",
   "id": "ca90ffd7-6103-4f06-a846-6a33b82afb52",
   "metadata": {},
   "source": [
    "## 코드리뷰\n",
    "처음엔 2중 for 문을 사용하려고 했으나 시간과 오류때문에 실패, for - if로 변경"
   ]
  },
  {
   "cell_type": "code",
   "execution_count": null,
   "id": "cd267313-5efc-40df-8919-e89e91298fc7",
   "metadata": {},
   "outputs": [],
   "source": []
  },
  {
   "cell_type": "markdown",
   "id": "8d26e212-bc93-4cf9-8bf6-95b34355b62c",
   "metadata": {},
   "source": [
    "# 10775 공항 공부 (실패)"
   ]
  },
  {
   "cell_type": "markdown",
   "id": "93d0dc09-5867-47d8-b437-d48039f046be",
   "metadata": {},
   "source": [
    "- union-find : index와 key의 값이 같도록 하고\n",
    "- 이후에 재귀함수를 통해서 원래것으로 돌아가도록 함"
   ]
  },
  {
   "cell_type": "code",
   "execution_count": null,
   "id": "02781ad3-617e-4c6c-991c-929e0b8e3dc0",
   "metadata": {},
   "outputs": [],
   "source": [
    "import sys\n",
    "\n",
    "def find_parent(x):\n",
    "    if parent[x] == x:\n",
    "        return x\n",
    "    P = find_parent(parent[x])\n",
    "    parent[x] = P\n",
    "    return parent[x]\n",
    "\n",
    "def union(x, y):\n",
    "    x = find_parent(x)\n",
    "    y = find_parent(y)\n",
    "    if x < y:\n",
    "        parent[y] = x\n",
    "    else:\n",
    "        parent[x] = y\n",
    "\n",
    "read = sys.stdin.readline\n",
    "G = int(read().strip(\"\\n\"))\n",
    "P = int(read().strip(\"\\n\"))\n",
    "\n",
    "# union - find의 핵심\n",
    "# {0:0, 1:1, 2:2, 3:3, 4:4}\n",
    "parent = {i: i for i in range(0, G+1)}\n",
    "planes = []\n",
    "count = 0\n",
    "\n",
    "for _ in range(P):\n",
    "    planes.append(int(read().strip(\"\\n\")))\n",
    "\n",
    "for plane in planes:\n",
    "    x = find_parent(plane)\n",
    "\n",
    "    if x == 0:\n",
    "        break\n",
    "    union(x, x-1)\n",
    "    count += 1\n",
    "\n",
    "print(count)\n"
   ]
  },
  {
   "cell_type": "code",
   "execution_count": null,
   "id": "47bedb13-40a1-444a-ba17-50ac66402ac7",
   "metadata": {},
   "outputs": [],
   "source": []
  },
  {
   "cell_type": "markdown",
   "id": "1972fb85-6055-467f-a41e-11d792f9d4f5",
   "metadata": {},
   "source": [
    "# 1092 배"
   ]
  },
  {
   "cell_type": "code",
   "execution_count": null,
   "id": "30eab637-5e44-4f1e-b45b-738f2f294740",
   "metadata": {},
   "outputs": [],
   "source": [
    "import sys\n",
    "N=int(sys.stdin.readline())\n",
    "crain=list(map(int,sys.stdin.readline().split()))\n",
    "M=int(input())\n",
    "weight=list(map(int,sys.stdin.readline().split()))"
   ]
  },
  {
   "cell_type": "code",
   "execution_count": 1,
   "id": "0b26844a-6dc7-4c45-b1da-528de24168a0",
   "metadata": {},
   "outputs": [
    {
     "name": "stdin",
     "output_type": "stream",
     "text": [
      " 3\n",
      " 6 8 9\n",
      " 5\n",
      " 2 5 2 4 7\n"
     ]
    }
   ],
   "source": [
    "import sys\n",
    "N=int(input())\n",
    "crain=list(map(int,input().split()))\n",
    "M=int(input())\n",
    "weight=list(map(int,input().split()))"
   ]
  },
  {
   "cell_type": "code",
   "execution_count": 2,
   "id": "09e92888-560b-4af6-b7e5-cd7edb2625a4",
   "metadata": {},
   "outputs": [],
   "source": [
    "# 1. max(weight)>max(crain) -> -1 출력\n",
    "# 2. \n",
    "\n",
    "# 각 crain이 남은 weight 중에서 자기가 들수 있는 가장 최대의 무게를 들면 됨.\n",
    "# 한바퀴 돌때마다 result +=1\n",
    "# 가장 큰 크레인이 자기보다 작은 weight 하나를 뺌 \n",
    "# 다음 순서 크레인이 반복\n",
    "# \n",
    "# weight 이 비면 break"
   ]
  },
  {
   "cell_type": "code",
   "execution_count": 4,
   "id": "4f1dec82-e9b4-4798-a784-05a2fdeebde6",
   "metadata": {},
   "outputs": [
    {
     "data": {
      "text/plain": [
       "[]"
      ]
     },
     "execution_count": 4,
     "metadata": {},
     "output_type": "execute_result"
    }
   ],
   "source": [
    "list1=[1]\n",
    "list1.remove(1)\n",
    "list1"
   ]
  },
  {
   "cell_type": "code",
   "execution_count": 41,
   "id": "e52f6b9b-1b09-4e82-94a4-8ea1ce4c680e",
   "metadata": {},
   "outputs": [
    {
     "ename": "IndexError",
     "evalue": "list index out of range",
     "output_type": "error",
     "traceback": [
      "\u001b[1;31m---------------------------------------------------------------------------\u001b[0m",
      "\u001b[1;31mIndexError\u001b[0m                                Traceback (most recent call last)",
      "\u001b[1;32m<ipython-input-41-8ce2dbfbe728>\u001b[0m in \u001b[0;36m<module>\u001b[1;34m\u001b[0m\n\u001b[0;32m      3\u001b[0m \u001b[0mcrain\u001b[0m\u001b[1;33m.\u001b[0m\u001b[0msort\u001b[0m\u001b[1;33m(\u001b[0m\u001b[0mreverse\u001b[0m\u001b[1;33m=\u001b[0m\u001b[1;32mTrue\u001b[0m\u001b[1;33m)\u001b[0m\u001b[1;33m\u001b[0m\u001b[1;33m\u001b[0m\u001b[0m\n\u001b[0;32m      4\u001b[0m \u001b[0mresult\u001b[0m\u001b[1;33m=\u001b[0m\u001b[1;36m0\u001b[0m\u001b[1;33m\u001b[0m\u001b[1;33m\u001b[0m\u001b[0m\n\u001b[1;32m----> 5\u001b[1;33m \u001b[1;32mif\u001b[0m \u001b[0mweight\u001b[0m\u001b[1;33m[\u001b[0m\u001b[1;36m0\u001b[0m\u001b[1;33m]\u001b[0m \u001b[1;33m>\u001b[0m \u001b[0mcrain\u001b[0m\u001b[1;33m[\u001b[0m\u001b[1;36m0\u001b[0m\u001b[1;33m]\u001b[0m\u001b[1;33m:\u001b[0m\u001b[1;33m\u001b[0m\u001b[1;33m\u001b[0m\u001b[0m\n\u001b[0m\u001b[0;32m      6\u001b[0m     \u001b[0mprint\u001b[0m\u001b[1;33m(\u001b[0m\u001b[1;33m-\u001b[0m\u001b[1;36m1\u001b[0m\u001b[1;33m)\u001b[0m\u001b[1;33m\u001b[0m\u001b[1;33m\u001b[0m\u001b[0m\n\u001b[0;32m      7\u001b[0m \u001b[1;32melse\u001b[0m\u001b[1;33m:\u001b[0m\u001b[1;33m\u001b[0m\u001b[1;33m\u001b[0m\u001b[0m\n",
      "\u001b[1;31mIndexError\u001b[0m: list index out of range"
     ]
    }
   ],
   "source": [
    "# 해당과정에서 최대값을 계속 요구하게 됨. 따라서 \n",
    "weight.sort(reverse=True)\n",
    "crain.sort(reverse=True)\n",
    "result=-1\n",
    "if max(crain) max(weight)\n",
    "while weight:\n",
    "    result+=1\n",
    "    for c in crain:\n",
    "        for w in weight:\n",
    "            if c > w:\n",
    "                weight.remove(w)\n",
    "                break\n",
    "        "
   ]
  },
  {
   "cell_type": "code",
   "execution_count": 65,
   "id": "301302ae-bdbd-4002-9e77-d01dd0ed6a9b",
   "metadata": {},
   "outputs": [
    {
     "name": "stdin",
     "output_type": "stream",
     "text": [
      " 3\n",
      " 6 8 9\n",
      " 5\n",
      " 2 2 4 5 7\n"
     ]
    },
    {
     "name": "stdout",
     "output_type": "stream",
     "text": [
      "2\n"
     ]
    }
   ],
   "source": [
    "## 시간 초과이므로 더 효율적인 방법 생각\n",
    "# deque 이용하여 선입 선출 방식으로 crain 숫자만큼 새로운 것을 집어넣기?\n",
    "# 만약 작은 크레인이 안움직이면?\n",
    "# weight heap 형태로 하고\n",
    "# 크레인을 돌려가면서 가장 큰 크레인을 하나 뽑고 그 크레인과 w 와 같으면 제거\n",
    "\n",
    "import sys\n",
    "N=int(input())\n",
    "crain=list(map(int,input().split()))\n",
    "M=int(input())\n",
    "weight=list(map(int,input().split()))\n",
    "import heapq\n",
    "heapq.heapify(weight)\n",
    "def crain_weight(N,crain,M,weight):\n",
    "    crain.sort()\n",
    "    temp_list=[]\n",
    "    if max(crain)< max(weight):\n",
    "        return(-1)\n",
    "    temp=0\n",
    "    for c in crain:\n",
    "        while weight:\n",
    "            w=heapq.heappop(weight)\n",
    "            if c>=w:\n",
    "                temp+=1\n",
    "            else:\n",
    "                heapq.heappush(weight,w)\n",
    "                break\n",
    "        temp_list.append(temp)\n",
    "        temp=0\n",
    "    temp_list.reverse()\n",
    "    temp_sum=0\n",
    "    temp_list2=[]\n",
    "    for i in range(len(temp_list)):\n",
    "        temp_sum+=temp_list[i]\n",
    "        temp_list2.append(abs(-temp_sum//(i+1)))\n",
    "    return(max(temp_list2))\n",
    "print(crain_weight(N,crain,M,weight))\n"
   ]
  },
  {
   "cell_type": "markdown",
   "id": "8faf65a9-4291-4ee9-88a9-db27756e4733",
   "metadata": {},
   "source": [
    "## 코드리뷰\n",
    "꽤 어려웠던 문제. 처음에는 그냥 sort로 해서 풀면 되나 했는데 역시나 3중 for문으로 시간초과\n",
    "crain 마다 앞거와 뒤 crain 사이의 weight 개수를 세고 최고 것에서부터 합/ 번수의 올림값의 max를 출력하는 형식으로 해결함.\n",
    "빡구현."
   ]
  },
  {
   "cell_type": "code",
   "execution_count": null,
   "id": "3ed690d8-56ae-4fef-aa3d-65a776d921b6",
   "metadata": {},
   "outputs": [],
   "source": []
  },
  {
   "cell_type": "markdown",
   "id": "88e38d89-b74d-4791-942b-bf52415f4cb9",
   "metadata": {},
   "source": [
    "# 1343 폴리오미노"
   ]
  },
  {
   "cell_type": "code",
   "execution_count": 5,
   "id": "7ea6b3c4-1633-45a0-9783-d20b324908d9",
   "metadata": {},
   "outputs": [
    {
     "name": "stdin",
     "output_type": "stream",
     "text": [
      " XXXXXX\n"
     ]
    }
   ],
   "source": [
    "board=input()"
   ]
  },
  {
   "cell_type": "code",
   "execution_count": 7,
   "id": "8b3ed50e-8e78-4be8-b858-d9296e06f340",
   "metadata": {},
   "outputs": [
    {
     "data": {
      "text/plain": [
       "'AAAABB'"
      ]
     },
     "execution_count": 7,
     "metadata": {},
     "output_type": "execute_result"
    }
   ],
   "source": [
    "def poliomino(board):\n",
    "    result=''\n",
    "    for i in range(0,len(board),4):\n",
    "        if (board[i:i+4]=='XXXX'):\n",
    "            result+='AAAA'\n",
    "        elif (board[i:i+4]=='..XX'):\n",
    "            result+='..BB'\n",
    "        elif (board[i:i+4]=='XX..'):\n",
    "            result+='BB..'\n",
    "        elif (board[i:i+4]=='..'):\n",
    "            result+='..'\n",
    "        elif (board[i:i+4]=='XX'):\n",
    "            result+='BB'\n",
    "        else:\n",
    "            return -1\n",
    "    return result\n",
    "\n",
    "poliomino(board)"
   ]
  },
  {
   "cell_type": "code",
   "execution_count": 22,
   "id": "5722679f-4169-4ed5-98ea-6ae98fd3d4ec",
   "metadata": {
    "tags": []
   },
   "outputs": [
    {
     "name": "stdin",
     "output_type": "stream",
     "text": [
      " XXXX....XXX.....XX\n"
     ]
    },
    {
     "name": "stdout",
     "output_type": "stream",
     "text": [
      "-1\n"
     ]
    }
   ],
   "source": [
    "board=input()\n",
    "while board.find('XXXX')!=-1:\n",
    "    board=board.replace('XXXX','AAAA')\n",
    "while board.find('XX')!=-1:\n",
    "    board=board.replace('XX','BB')\n",
    "\n",
    "if board.find('X')==-1:\n",
    "    print(board)\n",
    "else:\n",
    "    print(-1)"
   ]
  },
  {
   "cell_type": "markdown",
   "id": "652922ee-28ad-4d7e-b6af-a3970f4ec067",
   "metadata": {},
   "source": [
    "## 코드리뷰\n",
    "단순하게 모든 경우가 얼마 없다고 생각했고 위와같이 풀려고 했으나 실패.\n",
    "4개씩 끊어서도 도전해봤지만 2개. 4개의 경우도 있는 것을 확인\n",
    "그냥 while 문 쓰고 find 실패시 -1 나오고 다 했는데도 X가 하나라도 남아있으면 실패라서 -1 씀"
   ]
  },
  {
   "cell_type": "code",
   "execution_count": null,
   "id": "fe643f7d-fc1d-46e6-9d9e-e120e8788e41",
   "metadata": {},
   "outputs": [],
   "source": []
  },
  {
   "cell_type": "markdown",
   "id": "92ad5762-47d6-441f-9df6-c3125693ff1f",
   "metadata": {},
   "source": [
    "# 9576 책 나눠주기"
   ]
  },
  {
   "cell_type": "code",
   "execution_count": 2,
   "id": "06524799-2e6a-4345-b47b-732bca678b4a",
   "metadata": {},
   "outputs": [
    {
     "name": "stdin",
     "output_type": "stream",
     "text": [
      " 1\n",
      " 3 3\n",
      " 1 2\n",
      " 2 2\n",
      " 1 3\n"
     ]
    },
    {
     "name": "stdout",
     "output_type": "stream",
     "text": [
      "3\n"
     ]
    }
   ],
   "source": [
    "import sys\n",
    "case=int(sys.stdin.readline())\n",
    "for _ in range(case):\n",
    "    N,M= map(int,sys.stdin.readline())\n",
    "    book_want=[]\n",
    "    for _ in range(M):\n",
    "        book_want.append(list(map(int,input().split())))\n",
    "    book_want.sort(key=lambda x : [x[1],x[0]])\n",
    "    N_set=set(range(1,N+1))\n",
    "    for a,b in book_want:\n",
    "        for i in range(a,b+1):\n",
    "            if i in N_set:\n",
    "                N_set-={i}\n",
    "                break\n",
    "    print(N-len(N_set))"
   ]
  },
  {
   "cell_type": "code",
   "execution_count": 23,
   "id": "bbdb6d48-21b7-4002-a501-62a5903ae2a2",
   "metadata": {},
   "outputs": [
    {
     "data": {
      "text/plain": [
       "({2, 6, 7}, [[1, 3], [3, 4], [3, 4], [3, 6], [4, 5]])"
      ]
     },
     "execution_count": 23,
     "metadata": {},
     "output_type": "execute_result"
    }
   ],
   "source": [
    "N_set, book_want"
   ]
  },
  {
   "cell_type": "code",
   "execution_count": 25,
   "id": "fb1fd35a-b475-41c0-b3ce-5f6c383406d2",
   "metadata": {},
   "outputs": [
    {
     "data": {
      "text/plain": [
       "[[3, 4], [3, 4], [4, 5], [1, 3], [3, 6]]"
      ]
     },
     "execution_count": 25,
     "metadata": {},
     "output_type": "execute_result"
    }
   ],
   "source": [
    "book_want.sort(key=lambda x : [(x[1]-x[0]),x[0]])\n",
    "book_want"
   ]
  },
  {
   "cell_type": "code",
   "execution_count": 27,
   "id": "63eb20cb-011f-4f02-b5ef-b481034fcd81",
   "metadata": {},
   "outputs": [
    {
     "ename": "SyntaxError",
     "evalue": "invalid syntax (<ipython-input-27-87063f098768>, line 1)",
     "output_type": "error",
     "traceback": [
      "\u001b[1;36m  File \u001b[1;32m\"<ipython-input-27-87063f098768>\"\u001b[1;36m, line \u001b[1;32m1\u001b[0m\n\u001b[1;33m    x[0] 기준으로 세우면 앞에 있는 숫자의 선택이 가능해짐.\u001b[0m\n\u001b[1;37m         ^\u001b[0m\n\u001b[1;31mSyntaxError\u001b[0m\u001b[1;31m:\u001b[0m invalid syntax\n"
     ]
    }
   ],
   "source": [
    "x[0] 기준으로 세우면 앞에 있는 숫자의 선택이 가능해짐. \n",
    "다만 전의 경우에서 [4,5], [3,6] 선택의 기준에서  3,6 보다 4,5가 우선 선택, 왜? 더 짧으니까\n",
    "1,4 / 3,4 / 3,4  / 4,5, / 3,6 순으로 선택 의 경우는 3,4가 1,4보다 먼저 선택\n",
    "\n",
    "단 1,10 / 10, 11 의 경우  10,11을 먼저 선택하되 11을 선택해야하는데 기준이 뭘까?\n",
    "# 위의 경우를 다 제외하고 뒤에거 오름차순, 앞에거 오른차순으로 정렬하면 "
   ]
  },
  {
   "cell_type": "markdown",
   "id": "ce7d0c21-ce1b-42de-9f7d-a29b561b6b43",
   "metadata": {},
   "source": [
    "## 코드리뷰\n",
    "이와같이 공간은 한정된 상태에서 안 중첩되게 사람을 선택하는 것은 [x[1],x[0]] 으로 기준을 삼으면 된다.\n",
    "분명 해본거 같은데... 좀더 주의깊게 풀것"
   ]
  },
  {
   "cell_type": "code",
   "execution_count": null,
   "id": "849b180f-5b69-4a76-ae60-dc2264a4fb21",
   "metadata": {},
   "outputs": [],
   "source": []
  },
  {
   "cell_type": "markdown",
   "id": "1055b235-7eba-4edc-ab74-b0f5f9d34968",
   "metadata": {},
   "source": [
    "# 12904 A와B"
   ]
  },
  {
   "cell_type": "code",
   "execution_count": 25,
   "id": "76af697c-8a3a-4b63-81d5-09464d071e57",
   "metadata": {},
   "outputs": [
    {
     "name": "stdin",
     "output_type": "stream",
     "text": [
      " B\n",
      " ABBA\n"
     ]
    },
    {
     "name": "stdout",
     "output_type": "stream",
     "text": [
      "['A', 'B', 'B', 'A'] ['B']\n",
      "['A', 'B', 'B'] ['B']\n",
      "['B', 'A'] ['B']\n",
      "['B'] ['B']\n",
      "1\n"
     ]
    }
   ],
   "source": [
    "S=list(input())\n",
    "T=list(input())\n",
    "check=False\n",
    "while len(T)>=len(S):\n",
    "    print(T,S)\n",
    "    if T==S:\n",
    "        check=True\n",
    "        break\n",
    "    if T.pop()=='A':\n",
    "        continue\n",
    "    else:\n",
    "        T.reverse()\n",
    "if check:\n",
    "    print(1)\n",
    "else:\n",
    "    print(0)"
   ]
  },
  {
   "cell_type": "markdown",
   "id": "387436e6-0d8c-44cf-9d0e-dc23f213dd97",
   "metadata": {},
   "source": [
    "## 코드리뷰\n",
    "결과물이 될 수 있느냐 없느냐 문제이므로 뒤에서부터 실행"
   ]
  },
  {
   "cell_type": "code",
   "execution_count": null,
   "id": "2c6f031a-6d8c-43d6-ab59-ee3e649d89ab",
   "metadata": {},
   "outputs": [],
   "source": []
  },
  {
   "cell_type": "markdown",
   "id": "6862a126-311d-444a-bf00-2c3e248ffd48",
   "metadata": {},
   "source": [
    "# 13904 과제"
   ]
  },
  {
   "cell_type": "code",
   "execution_count": 55,
   "id": "7d60d72b-5269-4c6c-b8d2-84b9ec5d3c2c",
   "metadata": {},
   "outputs": [
    {
     "name": "stdin",
     "output_type": "stream",
     "text": [
      " 7\n",
      " 4 60\n",
      " 4 40\n",
      " 1 20\n",
      " 2 50\n",
      " 3 30\n",
      " 4 10\n",
      " 6 5\n"
     ]
    }
   ],
   "source": [
    "# 하루에 한개 과제 d w / 남은기한 점수\n",
    "N= int(input())\n",
    "dw_list=[]\n",
    "for _ in range(N):\n",
    "    dw_list.append(list(map(int,input().split())))"
   ]
  },
  {
   "cell_type": "code",
   "execution_count": 56,
   "id": "42afd861-34be-48c5-854c-ed10aec2d031",
   "metadata": {},
   "outputs": [],
   "source": [
    "dw_list.sort(key=lambda x : [x[1],x[0]])"
   ]
  },
  {
   "cell_type": "code",
   "execution_count": 57,
   "id": "47fa91b6-6f4d-4fac-a94e-46116fefb354",
   "metadata": {},
   "outputs": [
    {
     "data": {
      "text/plain": [
       "[[6, 5], [4, 10], [1, 20], [3, 30], [4, 40], [2, 50], [4, 60]]"
      ]
     },
     "execution_count": 57,
     "metadata": {},
     "output_type": "execute_result"
    }
   ],
   "source": [
    "dw_list"
   ]
  },
  {
   "cell_type": "code",
   "execution_count": 58,
   "id": "8843100e-3fc0-4581-a5e6-1a42d146e2b4",
   "metadata": {},
   "outputs": [
    {
     "data": {
      "text/plain": [
       "{4: 60, 2: 50, 3: 40, 1: 30, 6: 5}"
      ]
     },
     "execution_count": 58,
     "metadata": {},
     "output_type": "execute_result"
    }
   ],
   "source": [
    "dw_dict={}\n",
    "while dw_list:\n",
    "    x1,x2=dw_list.pop()\n",
    "    for i in range(x1,0,-1):\n",
    "        if x1 not in list(dw_dict.keys()):\n",
    "            dw_dict[x1]=x2\n",
    "            break\n",
    "        else:\n",
    "            x1-=1\n",
    "dw_dict"
   ]
  },
  {
   "cell_type": "code",
   "execution_count": 59,
   "id": "2a6390bc-6885-447e-b2e5-0b0ffe0183c7",
   "metadata": {},
   "outputs": [
    {
     "data": {
      "text/plain": [
       "185"
      ]
     },
     "execution_count": 59,
     "metadata": {},
     "output_type": "execute_result"
    }
   ],
   "source": [
    "print(sum(dw_dict.values()))"
   ]
  },
  {
   "cell_type": "markdown",
   "id": "b3b44b47-5489-4dde-83ee-952c0bde1ec2",
   "metadata": {},
   "source": [
    "## 코드리뷰\n",
    "value 값이 높은 순서로 정렬 후, dict 값에 key 값에 없으면 해당 key 값에 추가 없으면 key 값을 하나 내려서 계속 시행"
   ]
  },
  {
   "cell_type": "code",
   "execution_count": null,
   "id": "b3f8423d-c662-43b7-a2a2-6f19ca98d22a",
   "metadata": {},
   "outputs": [],
   "source": []
  },
  {
   "cell_type": "markdown",
   "id": "82780502-2607-44db-a913-46d8133e9162",
   "metadata": {},
   "source": [
    "# 9237 이장님 초대"
   ]
  },
  {
   "cell_type": "code",
   "execution_count": null,
   "id": "930be117-d8dc-47b5-ad64-33ed3a0f937e",
   "metadata": {},
   "outputs": [],
   "source": [
    "# 나무 묘목 n 개 마지막 나무 자란 다음 이장님 초대\n",
    "1 2 3 4 5 6 7 \n",
    "4\n",
    "  3\n",
    "    3 2 1  초대?\n",
    "      2 1\n",
    "\n",
    "        \n",
    "        \n",
    "3+3+1=7\n",
    "4332 "
   ]
  },
  {
   "cell_type": "code",
   "execution_count": 66,
   "id": "c698a421-8df3-44a7-8ab2-ec3f1d0fc476",
   "metadata": {},
   "outputs": [
    {
     "name": "stdin",
     "output_type": "stream",
     "text": [
      " 6\n",
      " 39 38 9 35 39 20\n"
     ]
    },
    {
     "name": "stdout",
     "output_type": "stream",
     "text": [
      "42\n"
     ]
    }
   ],
   "source": [
    "N= int(input())\n",
    "tree=list(map(int,input().split()))\n",
    "day=[i for i in range(1,N+1)]\n",
    "tree.sort(reverse=True)\n",
    "result_list=[]\n",
    "for t,d in zip(tree,day):\n",
    "    result_list.append(t+d+1)\n",
    "print(max(result_list))"
   ]
  },
  {
   "cell_type": "code",
   "execution_count": 67,
   "id": "8956134a-e8df-4d1e-8ebd-63024bdc81bd",
   "metadata": {},
   "outputs": [
    {
     "name": "stdout",
     "output_type": "stream",
     "text": [
      "[39, 39, 38, 35, 20, 9]\n"
     ]
    }
   ],
   "source": [
    "print(tree)"
   ]
  },
  {
   "cell_type": "code",
   "execution_count": 68,
   "id": "2301d730-4941-4364-94dd-a7c65beb677d",
   "metadata": {},
   "outputs": [
    {
     "name": "stdout",
     "output_type": "stream",
     "text": [
      "[1, 2, 3, 4, 5]\n"
     ]
    }
   ],
   "source": [
    "print(day)"
   ]
  },
  {
   "cell_type": "code",
   "execution_count": 71,
   "id": "9af2b005-d140-442e-8325-7b33d168240d",
   "metadata": {},
   "outputs": [
    {
     "name": "stdout",
     "output_type": "stream",
     "text": [
      "[41, 42, 42, 40, 26]\n"
     ]
    }
   ],
   "source": [
    "print(result_list)"
   ]
  },
  {
   "cell_type": "markdown",
   "id": "4ae9298f-3c6f-43ae-a4af-09e62b766db7",
   "metadata": {},
   "source": [
    "## 코드리뷰\n",
    "단순한 문제. 다만 1~N  값하려면  range(1,N+1)로 N+1 값하는것을 깜빡함"
   ]
  },
  {
   "cell_type": "code",
   "execution_count": null,
   "id": "8806ac52-b8db-47cc-b8a4-52bf70f5d319",
   "metadata": {},
   "outputs": [],
   "source": []
  },
  {
   "cell_type": "markdown",
   "id": "0ed3102b-540b-4030-8287-9bbf26a0d8fb",
   "metadata": {},
   "source": [
    "# 8980 택배"
   ]
  },
  {
   "cell_type": "code",
   "execution_count": 1,
   "id": "94c773e0-095e-4611-85f1-a57b87114ea8",
   "metadata": {},
   "outputs": [],
   "source": [
    "list1=[[3,4,20],[1,2,10],[1,3,20],[1,4,30],[2,3,10],[2,4,20]]"
   ]
  },
  {
   "cell_type": "code",
   "execution_count": 2,
   "id": "8523240f-59f1-480a-b026-4e7646cbb627",
   "metadata": {},
   "outputs": [],
   "source": [
    "list1.sort(key=lambda x : [x[1],x[0]])"
   ]
  },
  {
   "cell_type": "code",
   "execution_count": 3,
   "id": "5a53f324-6265-40ae-bd58-d662114fb94f",
   "metadata": {},
   "outputs": [
    {
     "data": {
      "text/plain": [
       "[[1, 2, 10], [1, 3, 20], [2, 3, 10], [1, 4, 30], [2, 4, 20], [3, 4, 20]]"
      ]
     },
     "execution_count": 3,
     "metadata": {},
     "output_type": "execute_result"
    }
   ],
   "source": [
    "list1"
   ]
  },
  {
   "cell_type": "code",
   "execution_count": null,
   "id": "4ccd2c26-1e1b-4aef-acf4-00ca610d32e5",
   "metadata": {},
   "outputs": [],
   "source": [
    "10,20,10 / 10,20\n",
    "1(10),2(20),4(10), 3(10), 6(20)"
   ]
  },
  {
   "cell_type": "code",
   "execution_count": 76,
   "id": "317597b6-ea76-41c8-944e-8b04f5dfb6e5",
   "metadata": {
    "tags": []
   },
   "outputs": [
    {
     "name": "stdin",
     "output_type": "stream",
     "text": [
      " 4 40\n"
     ]
    }
   ],
   "source": [
    "N,C=map(int,input().split())\n",
    "M=int(input())\n",
    "for i in range(M):\n",
    "    list1.append(list(map(int,sys.stdin.readline().split())))\n",
    "    "
   ]
  },
  {
   "cell_type": "code",
   "execution_count": 4,
   "id": "fb717aee-5fb9-47bb-856d-19c63364ef25",
   "metadata": {},
   "outputs": [],
   "source": [
    "N,C,M=4,40,6"
   ]
  },
  {
   "cell_type": "code",
   "execution_count": 136,
   "id": "d7a7c192-8fcd-4d20-9ff7-832841826517",
   "metadata": {},
   "outputs": [
    {
     "name": "stdout",
     "output_type": "stream",
     "text": [
      "구분 [1, 2, 10]\n",
      "{1: 0, 2: 10, 3: 0, 4: 0} 10 0\n",
      "구분 [1, 3, 20]\n",
      "{1: 0, 2: 10, 3: 20, 4: 0} 30 0\n",
      "구분 [2, 3, 10]\n",
      "{1: 0, 2: 0, 3: 10, 4: 0} 30 10\n",
      "구분 [1, 4, 30]\n",
      "{1: 0, 2: 0, 3: 10, 4: 30} 40 10\n",
      "구분 [2, 4, 20]\n",
      "{1: 0, 2: 0, 3: 10, 4: 30} 40 10\n",
      "구분 [3, 4, 20]\n",
      "{1: 0, 2: 0, 3: 0, 4: 10} 40 20\n"
     ]
    }
   ],
   "source": [
    "truck_dict={}\n",
    "temp_truck_position=1\n",
    "truck_temp=0\n",
    "result=0\n",
    "for i in range(N):\n",
    "    truck_dict[i+1]=0\n",
    "for i in list1:\n",
    "    print('구분',i)\n",
    "    if temp_truck_position<i[0]:\n",
    "        temp_truck_position=i[0]\n",
    "    if truck_dict[i[0]]!=0:\n",
    "        result+=truck_dict[i[0]]\n",
    "        truck_temp-=truck_dict[i[0]]\n",
    "        truck_dict[i[0]]=0\n",
    "    truck_temp=sum(truck_dict.values())\n",
    "    if C>truck_temp:\n",
    "        truck_dict[i[1]]=min(i[2],C-truck_temp)\n",
    "        truck_temp+=min(i[2],C-truck_temp)\n",
    "    print(truck_dict,truck_temp,result)"
   ]
  },
  {
   "cell_type": "code",
   "execution_count": 5,
   "id": "c8c8e11d-04a7-4607-b6a0-71eee5d4d4ff",
   "metadata": {},
   "outputs": [
    {
     "data": {
      "text/plain": [
       "[[1, 2, 10], [1, 3, 20], [2, 3, 10], [1, 4, 30], [2, 4, 20], [3, 4, 20]]"
      ]
     },
     "execution_count": 5,
     "metadata": {},
     "output_type": "execute_result"
    }
   ],
   "source": [
    "list1"
   ]
  },
  {
   "cell_type": "code",
   "execution_count": null,
   "id": "acc43151-3b3a-48dc-8b29-a4c1aff77c9b",
   "metadata": {},
   "outputs": [],
   "source": [
    "# 위 형태에서 각각\n",
    "# [10, 20, 10, 10, 0, 20] 가 실린다. 총합 70\n",
    "# 최대한 많이 싣기 위해서는 도착지가 짧은 것일수록 적극적으로 사용.\n",
    "# 2까지 가는 거에서 10 전체 ok\n",
    "# 3까지 가는 거에서 20 전체 ok\n",
    "# 2_3 까지 가는 거에서 10개 전체 ok\n",
    "# 1_4 까지 가는 거에서 10개 부분 ok\n",
    "# 이 방법으로는 안되는거 같음.\n",
    "\n",
    "# 1에서는 1의 10개의 공간을 차지함\n",
    "# 2에서는 1,2 20개 공간을 차지함\n",
    "# 3에서는 2의 10개의 공간을 차지함.\n"
   ]
  },
  {
   "cell_type": "code",
   "execution_count": 6,
   "id": "3b81faaf-49f2-4d4d-aa76-c72642700d42",
   "metadata": {},
   "outputs": [],
   "source": [
    "truck_temp, truck_position= 0,1"
   ]
  },
  {
   "cell_type": "code",
   "execution_count": 6,
   "id": "30aec6f5-b646-4cf6-87ac-e429b042049c",
   "metadata": {
    "collapsed": true,
    "jupyter": {
     "outputs_hidden": true
    },
    "tags": []
   },
   "outputs": [
    {
     "ename": "KeyboardInterrupt",
     "evalue": "Interrupted by user",
     "output_type": "error",
     "traceback": [
      "\u001b[1;31m---------------------------------------------------------------------------\u001b[0m",
      "\u001b[1;31mKeyboardInterrupt\u001b[0m                         Traceback (most recent call last)",
      "\u001b[1;32m<ipython-input-6-6289d4be3a94>\u001b[0m in \u001b[0;36m<module>\u001b[1;34m\u001b[0m\n\u001b[0;32m      1\u001b[0m \u001b[1;31m### import sys\u001b[0m\u001b[1;33m\u001b[0m\u001b[1;33m\u001b[0m\u001b[1;33m\u001b[0m\u001b[0m\n\u001b[1;32m----> 2\u001b[1;33m \u001b[0mN\u001b[0m\u001b[1;33m,\u001b[0m\u001b[0mC\u001b[0m\u001b[1;33m=\u001b[0m\u001b[0mmap\u001b[0m\u001b[1;33m(\u001b[0m\u001b[0mint\u001b[0m\u001b[1;33m,\u001b[0m\u001b[0minput\u001b[0m\u001b[1;33m(\u001b[0m\u001b[1;33m)\u001b[0m\u001b[1;33m.\u001b[0m\u001b[0msplit\u001b[0m\u001b[1;33m(\u001b[0m\u001b[1;33m)\u001b[0m\u001b[1;33m)\u001b[0m\u001b[1;33m\u001b[0m\u001b[1;33m\u001b[0m\u001b[0m\n\u001b[0m\u001b[0;32m      3\u001b[0m \u001b[0mM\u001b[0m\u001b[1;33m=\u001b[0m\u001b[0mint\u001b[0m\u001b[1;33m(\u001b[0m\u001b[0minput\u001b[0m\u001b[1;33m(\u001b[0m\u001b[1;33m)\u001b[0m\u001b[1;33m)\u001b[0m\u001b[1;33m\u001b[0m\u001b[1;33m\u001b[0m\u001b[0m\n\u001b[0;32m      4\u001b[0m \u001b[0mlist1\u001b[0m\u001b[1;33m=\u001b[0m\u001b[1;33m[\u001b[0m\u001b[1;33m]\u001b[0m\u001b[1;33m\u001b[0m\u001b[1;33m\u001b[0m\u001b[0m\n\u001b[0;32m      5\u001b[0m \u001b[1;32mfor\u001b[0m \u001b[0mi\u001b[0m \u001b[1;32min\u001b[0m \u001b[0mrange\u001b[0m\u001b[1;33m(\u001b[0m\u001b[0mM\u001b[0m\u001b[1;33m)\u001b[0m\u001b[1;33m:\u001b[0m\u001b[1;33m\u001b[0m\u001b[1;33m\u001b[0m\u001b[0m\n",
      "\u001b[1;32m~\\anaconda3\\lib\\site-packages\\ipykernel\\kernelbase.py\u001b[0m in \u001b[0;36mraw_input\u001b[1;34m(self, prompt)\u001b[0m\n\u001b[0;32m    858\u001b[0m                 \u001b[1;34m\"raw_input was called, but this frontend does not support input requests.\"\u001b[0m\u001b[1;33m\u001b[0m\u001b[1;33m\u001b[0m\u001b[0m\n\u001b[0;32m    859\u001b[0m             )\n\u001b[1;32m--> 860\u001b[1;33m         return self._input_request(str(prompt),\n\u001b[0m\u001b[0;32m    861\u001b[0m             \u001b[0mself\u001b[0m\u001b[1;33m.\u001b[0m\u001b[0m_parent_ident\u001b[0m\u001b[1;33m,\u001b[0m\u001b[1;33m\u001b[0m\u001b[1;33m\u001b[0m\u001b[0m\n\u001b[0;32m    862\u001b[0m             \u001b[0mself\u001b[0m\u001b[1;33m.\u001b[0m\u001b[0m_parent_header\u001b[0m\u001b[1;33m,\u001b[0m\u001b[1;33m\u001b[0m\u001b[1;33m\u001b[0m\u001b[0m\n",
      "\u001b[1;32m~\\anaconda3\\lib\\site-packages\\ipykernel\\kernelbase.py\u001b[0m in \u001b[0;36m_input_request\u001b[1;34m(self, prompt, ident, parent, password)\u001b[0m\n\u001b[0;32m    902\u001b[0m             \u001b[1;32mexcept\u001b[0m \u001b[0mKeyboardInterrupt\u001b[0m\u001b[1;33m:\u001b[0m\u001b[1;33m\u001b[0m\u001b[1;33m\u001b[0m\u001b[0m\n\u001b[0;32m    903\u001b[0m                 \u001b[1;31m# re-raise KeyboardInterrupt, to truncate traceback\u001b[0m\u001b[1;33m\u001b[0m\u001b[1;33m\u001b[0m\u001b[1;33m\u001b[0m\u001b[0m\n\u001b[1;32m--> 904\u001b[1;33m                 \u001b[1;32mraise\u001b[0m \u001b[0mKeyboardInterrupt\u001b[0m\u001b[1;33m(\u001b[0m\u001b[1;34m\"Interrupted by user\"\u001b[0m\u001b[1;33m)\u001b[0m \u001b[1;32mfrom\u001b[0m \u001b[1;32mNone\u001b[0m\u001b[1;33m\u001b[0m\u001b[1;33m\u001b[0m\u001b[0m\n\u001b[0m\u001b[0;32m    905\u001b[0m             \u001b[1;32mexcept\u001b[0m \u001b[0mException\u001b[0m \u001b[1;32mas\u001b[0m \u001b[0me\u001b[0m\u001b[1;33m:\u001b[0m\u001b[1;33m\u001b[0m\u001b[1;33m\u001b[0m\u001b[0m\n\u001b[0;32m    906\u001b[0m                 \u001b[0mself\u001b[0m\u001b[1;33m.\u001b[0m\u001b[0mlog\u001b[0m\u001b[1;33m.\u001b[0m\u001b[0mwarning\u001b[0m\u001b[1;33m(\u001b[0m\u001b[1;34m\"Invalid Message:\"\u001b[0m\u001b[1;33m,\u001b[0m \u001b[0mexc_info\u001b[0m\u001b[1;33m=\u001b[0m\u001b[1;32mTrue\u001b[0m\u001b[1;33m)\u001b[0m\u001b[1;33m\u001b[0m\u001b[1;33m\u001b[0m\u001b[0m\n",
      "\u001b[1;31mKeyboardInterrupt\u001b[0m: Interrupted by user"
     ]
    }
   ],
   "source": [
    "### import sys\n",
    "N,C=map(int,input().split())\n",
    "M=int(input())\n",
    "list1=[]\n",
    "for i in range(M):\n",
    "    list1.append(list(map(int,sys.stdin.readline().split())))\n",
    "list1.sort(key=lambda x : [x[1],x[0]])\n",
    "\n",
    "result =[0 for _ in range(N)]\n",
    "ans=0\n",
    "for i in range(len(list1)):\n",
    "    a=min(abs(C-max(result[list1[i][0]:list1[i][1]])),list1[i][2])\n",
    "    ans+=a\n",
    "    \n",
    "    for j in range(list1[i][0],list1[i][1]):\n",
    "        result[j]+=a\n",
    "print(ans)"
   ]
  },
  {
   "cell_type": "code",
   "execution_count": 20,
   "id": "bf7323d5-89f5-4570-a089-ccfa85e23939",
   "metadata": {},
   "outputs": [
    {
     "data": {
      "text/plain": [
       "[100, 60, 20, 0, 0, 0]"
      ]
     },
     "execution_count": 20,
     "metadata": {},
     "output_type": "execute_result"
    }
   ],
   "source": [
    "result"
   ]
  },
  {
   "cell_type": "code",
   "execution_count": 26,
   "id": "590f3da7-db34-4515-a971-6f5f3640ec7e",
   "metadata": {},
   "outputs": [
    {
     "data": {
      "text/plain": [
       "[4, 5, 6, 8]"
      ]
     },
     "execution_count": 26,
     "metadata": {},
     "output_type": "execute_result"
    }
   ],
   "source": [
    "list2=[1,2,3,5]\n",
    "def addition(number,k):\n",
    "    return number+k\n",
    "\n",
    "k=3\n",
    "list(map(addition,list2,[k]*len(list2)))"
   ]
  },
  {
   "cell_type": "code",
   "execution_count": 27,
   "id": "0ede04c7-3a57-4304-834b-4304f3146fc3",
   "metadata": {},
   "outputs": [
    {
     "data": {
      "text/plain": [
       "[1, 2, 3, 5]"
      ]
     },
     "execution_count": 27,
     "metadata": {},
     "output_type": "execute_result"
    }
   ],
   "source": [
    "list2 # 원본에는 영향을 안끼침"
   ]
  },
  {
   "cell_type": "markdown",
   "id": "cc0f7ab0-b751-4309-a69d-c2b220a8bafa",
   "metadata": {},
   "source": [
    "## 코드리뷰\n",
    "sort기준이 도착마을 순인 것은 빠르게 파악됐지만 이후 챙기고 내리고에서 상당히 애를 먹음.\n",
    "각 마을별 최고 이동량을 리스트로 정렬하여 합하는 것으로 해결함."
   ]
  },
  {
   "cell_type": "code",
   "execution_count": null,
   "id": "23dc66c7-64ba-4513-9d58-9d0edc6a33c3",
   "metadata": {},
   "outputs": [],
   "source": []
  },
  {
   "cell_type": "markdown",
   "id": "364ddff7-4c8f-4812-80d9-606661e056db",
   "metadata": {},
   "source": [
    "# 2012 등수 매기기"
   ]
  },
  {
   "cell_type": "code",
   "execution_count": 28,
   "id": "de466a94-dede-4d50-9a45-43af40afa7f8",
   "metadata": {
    "collapsed": true,
    "jupyter": {
     "outputs_hidden": true
    },
    "tags": []
   },
   "outputs": [
    {
     "name": "stdin",
     "output_type": "stream",
     "text": [
      " 5\n",
      " 1\n",
      " 5\n",
      " 3\n",
      " 1\n",
      " 2\n"
     ]
    }
   ],
   "source": [
    "N= int(input())\n",
    "expect=[]\n",
    "for i in range(N):\n",
    "    expect.append(int(input()))"
   ]
  },
  {
   "cell_type": "code",
   "execution_count": 29,
   "id": "a5b8aaa2-67d6-47e1-becf-8b13fde21017",
   "metadata": {},
   "outputs": [],
   "source": [
    "expect.sort()"
   ]
  },
  {
   "cell_type": "code",
   "execution_count": 32,
   "id": "30b9754b-1d79-41a5-aeae-cc562ce6ce0b",
   "metadata": {},
   "outputs": [],
   "source": [
    "real=[i for i in range(1,N+1)]"
   ]
  },
  {
   "cell_type": "code",
   "execution_count": 33,
   "id": "1142f6eb-6b7e-456f-a397-4e1789bec2fd",
   "metadata": {},
   "outputs": [
    {
     "data": {
      "text/plain": [
       "[1, 2, 3, 4, 5]"
      ]
     },
     "execution_count": 33,
     "metadata": {},
     "output_type": "execute_result"
    }
   ],
   "source": [
    "real"
   ]
  },
  {
   "cell_type": "code",
   "execution_count": 34,
   "id": "a6f8c4b0-d4a8-4a38-b2a7-d0a44c6f471c",
   "metadata": {},
   "outputs": [
    {
     "data": {
      "text/plain": [
       "[1, 1, 2, 3, 5]"
      ]
     },
     "execution_count": 34,
     "metadata": {},
     "output_type": "execute_result"
    }
   ],
   "source": [
    "expect"
   ]
  },
  {
   "cell_type": "code",
   "execution_count": 35,
   "id": "b4798b53-2cf0-491d-bc15-79a33686238b",
   "metadata": {},
   "outputs": [],
   "source": [
    "#이 경우 불만도 1+1+1로 3\n",
    "# [1,2,3,1,5]면 불만도 3 동일"
   ]
  },
  {
   "cell_type": "code",
   "execution_count": null,
   "id": "f255b5c1-726d-451c-b891-0f57f2cba8da",
   "metadata": {},
   "outputs": [],
   "source": [
    "ans=0\n",
    "for i,j in zip(real,expect):\n",
    "    ans+=abs(i-j)\n",
    "print(ans)"
   ]
  },
  {
   "cell_type": "code",
   "execution_count": 3,
   "id": "d46530e3-e738-4ccd-9fd7-4cfcd3fcb8e1",
   "metadata": {},
   "outputs": [
    {
     "ename": "ValueError",
     "evalue": "invalid literal for int() with base 10: ''",
     "output_type": "error",
     "traceback": [
      "\u001b[1;31m---------------------------------------------------------------------------\u001b[0m",
      "\u001b[1;31mValueError\u001b[0m                                Traceback (most recent call last)",
      "\u001b[1;32m<ipython-input-3-b1bc90b9c489>\u001b[0m in \u001b[0;36m<module>\u001b[1;34m\u001b[0m\n\u001b[0;32m      1\u001b[0m \u001b[1;32mimport\u001b[0m \u001b[0msys\u001b[0m\u001b[1;33m\u001b[0m\u001b[1;33m\u001b[0m\u001b[0m\n\u001b[1;32m----> 2\u001b[1;33m \u001b[0mN\u001b[0m\u001b[1;33m=\u001b[0m \u001b[0mint\u001b[0m\u001b[1;33m(\u001b[0m\u001b[0msys\u001b[0m\u001b[1;33m.\u001b[0m\u001b[0mstdin\u001b[0m\u001b[1;33m.\u001b[0m\u001b[0mreadline\u001b[0m\u001b[1;33m(\u001b[0m\u001b[1;33m)\u001b[0m\u001b[1;33m)\u001b[0m\u001b[1;33m\u001b[0m\u001b[1;33m\u001b[0m\u001b[0m\n\u001b[0m\u001b[0;32m      3\u001b[0m \u001b[0mexpect\u001b[0m\u001b[1;33m=\u001b[0m\u001b[1;33m[\u001b[0m\u001b[1;33m]\u001b[0m\u001b[1;33m\u001b[0m\u001b[1;33m\u001b[0m\u001b[0m\n\u001b[0;32m      4\u001b[0m \u001b[1;32mfor\u001b[0m \u001b[0mi\u001b[0m \u001b[1;32min\u001b[0m \u001b[0mrange\u001b[0m\u001b[1;33m(\u001b[0m\u001b[0mN\u001b[0m\u001b[1;33m)\u001b[0m\u001b[1;33m:\u001b[0m\u001b[1;33m\u001b[0m\u001b[1;33m\u001b[0m\u001b[0m\n\u001b[0;32m      5\u001b[0m     \u001b[0mexpect\u001b[0m\u001b[1;33m.\u001b[0m\u001b[0mappend\u001b[0m\u001b[1;33m(\u001b[0m\u001b[0mint\u001b[0m\u001b[1;33m(\u001b[0m\u001b[0msys\u001b[0m\u001b[1;33m.\u001b[0m\u001b[0mstdin\u001b[0m\u001b[1;33m.\u001b[0m\u001b[0mreadline\u001b[0m\u001b[1;33m(\u001b[0m\u001b[1;33m)\u001b[0m\u001b[1;33m)\u001b[0m\u001b[1;33m)\u001b[0m\u001b[1;33m\u001b[0m\u001b[1;33m\u001b[0m\u001b[0m\n",
      "\u001b[1;31mValueError\u001b[0m: invalid literal for int() with base 10: ''"
     ]
    }
   ],
   "source": [
    "import sys\n",
    "N=int(sys.stdin.readline())\n",
    "expect=[]\n",
    "for i in range(N):\n",
    "    expect.append(int(sys.stdin.readline()))\n",
    "real=[i for i in range(1,N+1)]\n",
    "expect.sort()\n",
    "ans=0\n",
    "for i,j in zip(real,expect):\n",
    "    ans+=abs(i-j)\n",
    "print(ans)"
   ]
  },
  {
   "cell_type": "code",
   "execution_count": null,
   "id": "dd22bfba-ff2a-4801-9859-37fe43b48c81",
   "metadata": {},
   "outputs": [],
   "source": []
  },
  {
   "cell_type": "markdown",
   "id": "d6cd2110-b6fb-47e9-9629-6aaebc92fcfe",
   "metadata": {},
   "source": [
    "# 11501 주식(실패)"
   ]
  },
  {
   "cell_type": "code",
   "execution_count": 9,
   "id": "3473ebe0-4780-4486-86a8-b52b9c61848b",
   "metadata": {},
   "outputs": [
    {
     "name": "stdin",
     "output_type": "stream",
     "text": [
      " 1\n",
      " 5\n",
      " 1 2 3 1 2\n"
     ]
    }
   ],
   "source": [
    "T= int(input())\n",
    "list1=[]\n",
    "for _ in range(T):\n",
    "    N= int(input())\n",
    "    list1.append(list(map(int,input().split()))+[0])"
   ]
  },
  {
   "cell_type": "code",
   "execution_count": 8,
   "id": "fa9d5564-c148-4d99-afd1-ae661997a921",
   "metadata": {},
   "outputs": [
    {
     "ename": "ValueError",
     "evalue": "invalid literal for int() with base 10: ''",
     "output_type": "error",
     "traceback": [
      "\u001b[1;31m---------------------------------------------------------------------------\u001b[0m",
      "\u001b[1;31mValueError\u001b[0m                                Traceback (most recent call last)",
      "\u001b[1;32m<ipython-input-8-04536c685014>\u001b[0m in \u001b[0;36m<module>\u001b[1;34m\u001b[0m\n\u001b[0;32m      1\u001b[0m \u001b[1;32mimport\u001b[0m \u001b[0msys\u001b[0m\u001b[1;33m\u001b[0m\u001b[1;33m\u001b[0m\u001b[0m\n\u001b[1;32m----> 2\u001b[1;33m \u001b[0mT\u001b[0m\u001b[1;33m=\u001b[0m \u001b[0mint\u001b[0m\u001b[1;33m(\u001b[0m\u001b[0msys\u001b[0m\u001b[1;33m.\u001b[0m\u001b[0mstdin\u001b[0m\u001b[1;33m.\u001b[0m\u001b[0mreadline\u001b[0m\u001b[1;33m(\u001b[0m\u001b[1;33m)\u001b[0m\u001b[1;33m)\u001b[0m\u001b[1;33m\u001b[0m\u001b[1;33m\u001b[0m\u001b[0m\n\u001b[0m\u001b[0;32m      3\u001b[0m \u001b[0mlist1\u001b[0m\u001b[1;33m=\u001b[0m\u001b[1;33m[\u001b[0m\u001b[1;33m]\u001b[0m\u001b[1;33m\u001b[0m\u001b[1;33m\u001b[0m\u001b[0m\n\u001b[0;32m      4\u001b[0m \u001b[1;32mfor\u001b[0m \u001b[0m_\u001b[0m \u001b[1;32min\u001b[0m \u001b[0mrange\u001b[0m\u001b[1;33m(\u001b[0m\u001b[0mT\u001b[0m\u001b[1;33m)\u001b[0m\u001b[1;33m:\u001b[0m\u001b[1;33m\u001b[0m\u001b[1;33m\u001b[0m\u001b[0m\n\u001b[0;32m      5\u001b[0m     \u001b[0mN\u001b[0m\u001b[1;33m=\u001b[0m \u001b[0mint\u001b[0m\u001b[1;33m(\u001b[0m\u001b[0msys\u001b[0m\u001b[1;33m.\u001b[0m\u001b[0mstdin\u001b[0m\u001b[1;33m.\u001b[0m\u001b[0mreadline\u001b[0m\u001b[1;33m(\u001b[0m\u001b[1;33m)\u001b[0m\u001b[1;33m)\u001b[0m\u001b[1;33m\u001b[0m\u001b[1;33m\u001b[0m\u001b[0m\n",
      "\u001b[1;31mValueError\u001b[0m: invalid literal for int() with base 10: ''"
     ]
    }
   ],
   "source": [
    "import sys\n",
    "T= int(sys.stdin.readline())\n",
    "list1=[]\n",
    "for _ in range(T):\n",
    "    N= int(sys.stdin.readline())\n",
    "    list1.append(list(map(int,sys.stdin.readline().split()))+[0])"
   ]
  },
  {
   "cell_type": "code",
   "execution_count": 10,
   "id": "d4781238-67ea-4bff-93fb-302d5dad123e",
   "metadata": {},
   "outputs": [
    {
     "name": "stdout",
     "output_type": "stream",
     "text": [
      "3\n"
     ]
    }
   ],
   "source": [
    "for i in range(T):\n",
    "    cnt=0\n",
    "    result=0\n",
    "    for j in range(len(list1[i])-1):\n",
    "        if list1[i][j]<=list1[i][j+1]:\n",
    "            cnt+=1\n",
    "            continue\n",
    "        if cnt==1:\n",
    "            continue\n",
    "        result+=list1[i][j]*cnt-sum(list1[i][j-cnt:j])   \n",
    "    print(result)"
   ]
  },
  {
   "cell_type": "code",
   "execution_count": 22,
   "id": "f5062228-533f-4be6-8226-9bf99c36895d",
   "metadata": {},
   "outputs": [
    {
     "ename": "ValueError",
     "evalue": "invalid literal for int() with base 10: ''",
     "output_type": "error",
     "traceback": [
      "\u001b[1;31m---------------------------------------------------------------------------\u001b[0m",
      "\u001b[1;31mValueError\u001b[0m                                Traceback (most recent call last)",
      "\u001b[1;32m<ipython-input-22-a383a90bf675>\u001b[0m in \u001b[0;36m<module>\u001b[1;34m\u001b[0m\n\u001b[0;32m      1\u001b[0m \u001b[1;32mimport\u001b[0m \u001b[0msys\u001b[0m\u001b[1;33m\u001b[0m\u001b[1;33m\u001b[0m\u001b[0m\n\u001b[1;32m----> 2\u001b[1;33m \u001b[0mT\u001b[0m\u001b[1;33m=\u001b[0m \u001b[0mint\u001b[0m\u001b[1;33m(\u001b[0m\u001b[0msys\u001b[0m\u001b[1;33m.\u001b[0m\u001b[0mstdin\u001b[0m\u001b[1;33m.\u001b[0m\u001b[0mreadline\u001b[0m\u001b[1;33m(\u001b[0m\u001b[1;33m)\u001b[0m\u001b[1;33m)\u001b[0m\u001b[1;33m\u001b[0m\u001b[1;33m\u001b[0m\u001b[0m\n\u001b[0m\u001b[0;32m      3\u001b[0m \u001b[1;32mfor\u001b[0m \u001b[0m_\u001b[0m \u001b[1;32min\u001b[0m \u001b[0mrange\u001b[0m\u001b[1;33m(\u001b[0m\u001b[0mT\u001b[0m\u001b[1;33m)\u001b[0m\u001b[1;33m:\u001b[0m\u001b[1;33m\u001b[0m\u001b[1;33m\u001b[0m\u001b[0m\n\u001b[0;32m      4\u001b[0m     \u001b[0mlist2\u001b[0m\u001b[1;33m=\u001b[0m\u001b[1;33m[\u001b[0m\u001b[1;33m]\u001b[0m\u001b[1;33m\u001b[0m\u001b[1;33m\u001b[0m\u001b[0m\n\u001b[0;32m      5\u001b[0m     \u001b[0mN\u001b[0m\u001b[1;33m=\u001b[0m \u001b[0mint\u001b[0m\u001b[1;33m(\u001b[0m\u001b[0msys\u001b[0m\u001b[1;33m.\u001b[0m\u001b[0mstdin\u001b[0m\u001b[1;33m.\u001b[0m\u001b[0mreadline\u001b[0m\u001b[1;33m(\u001b[0m\u001b[1;33m)\u001b[0m\u001b[1;33m)\u001b[0m\u001b[1;33m\u001b[0m\u001b[1;33m\u001b[0m\u001b[0m\n",
      "\u001b[1;31mValueError\u001b[0m: invalid literal for int() with base 10: ''"
     ]
    }
   ],
   "source": [
    "import sys\n",
    "T= int(sys.stdin.readline())\n",
    "for _ in range(T):\n",
    "    N= int(sys.stdin.readline())\n",
    "    list2=(list(map(int,sys.stdin.readline().split())))\n",
    "    result=0\n",
    "    while list2:\n",
    "        max_temp=max(list2)\n",
    "        max_index=list2.index(max_temp)\n",
    "        result+=max_temp*(max_index)-sum(list2[:max_index])\n",
    "        list2=list2[max_index+1:]\n",
    "    print(result)"
   ]
  },
  {
   "cell_type": "markdown",
   "id": "62366852-8f69-47a9-8698-a679d0a85fd7",
   "metadata": {},
   "source": [
    "## 코드리뷰\n",
    "단순히 앞뒤 한두개가 아닌 차이가 클 수록 좋기 때문에 전체 최대값이 중요하다. 하지만 전체 최대값이 영향을 주는 위치는 최대값 앞 부분이므로 while 조건을 주고 만들어 봤지만 시간초과로 85%에서 멈춤. for -while -(max, list=list[:]) 에서 시간이 많이 걸리는 것 같다. 일단. max가 while 문 안에 들어가는 형태를 없애야하는데 방법이 생각나지 않음."
   ]
  },
  {
   "cell_type": "code",
   "execution_count": null,
   "id": "d2061d39-af38-4fe2-b735-cb22ce7dcc22",
   "metadata": {},
   "outputs": [],
   "source": []
  },
  {
   "cell_type": "markdown",
   "id": "f33b6558-8dfe-4393-898e-e7deed8d3d1b",
   "metadata": {},
   "source": [
    "# 주식 (재도전)"
   ]
  },
  {
   "cell_type": "code",
   "execution_count": 6,
   "id": "27579dee-7040-4927-83d3-5486938d5049",
   "metadata": {},
   "outputs": [
    {
     "name": "stdin",
     "output_type": "stream",
     "text": [
      " 1\n",
      " 3\n",
      " 3 5 9\n"
     ]
    },
    {
     "name": "stdout",
     "output_type": "stream",
     "text": [
      "10\n"
     ]
    }
   ],
   "source": [
    "T=int(input())\n",
    "for _ in range(T):\n",
    "    N=int(input())\n",
    "    day_chart=list(map(int, input().split()))\n",
    "    max_value=0\n",
    "    result=0\n",
    "    for i in range(N-1,-1,-1):\n",
    "        if day_chart[i]>max_value:\n",
    "            max_value=day_chart[i]\n",
    "            continue\n",
    "        result+=max_value-day_chart[i]\n",
    "        \n",
    "    print(result)"
   ]
  },
  {
   "cell_type": "markdown",
   "id": "6bd05242-7f23-4d49-9d35-17f61e0f8075",
   "metadata": {},
   "source": [
    "## 코드리뷰\n",
    "이전까지와 이후 최대값과의 차이를 구하는 경우는 뒤부터 생각하면 빠르게 풀린다는 것을 알음."
   ]
  },
  {
   "cell_type": "code",
   "execution_count": null,
   "id": "906bd2b5-ac63-499a-b95c-5868ec2e61fc",
   "metadata": {},
   "outputs": [],
   "source": []
  },
  {
   "cell_type": "markdown",
   "id": "62b8e596-fe81-41d5-a7c0-84a9f211880c",
   "metadata": {},
   "source": [
    "# 1005 ACM Craft"
   ]
  },
  {
   "cell_type": "code",
   "execution_count": 7,
   "id": "9f38faee-056c-4e43-a341-895a34139842",
   "metadata": {},
   "outputs": [
    {
     "name": "stdin",
     "output_type": "stream",
     "text": [
      " 1\n",
      " 4 4\n",
      " 10 1 100 10\n",
      " 1 2\n",
      " 1 3\n",
      " 2 4\n",
      " 3 4\n"
     ]
    }
   ],
   "source": [
    "T= int(input())\n",
    "for _ in range(T):\n",
    "    N,K=map(int,input().split())\n",
    "    D=list(map(int,input().split()))\n",
    "    order=[]\n",
    "    for i in range(K):\n",
    "        order.append(list(map(int,input().split())))\n",
    "    win=int(input())"
   ]
  },
  {
   "cell_type": "code",
   "execution_count": 9,
   "id": "bacf3a96-02a4-4407-9229-0141f974f60a",
   "metadata": {},
   "outputs": [
    {
     "name": "stdout",
     "output_type": "stream",
     "text": [
      "4 4\n",
      "[10, 1, 100, 10]\n",
      "[[1, 2], [1, 3], [2, 4], [3, 4]]\n"
     ]
    }
   ],
   "source": [
    "win=4\n",
    "print(N,K)\n",
    "print(D)\n",
    "print(order)"
   ]
  },
  {
   "cell_type": "code",
   "execution_count": 10,
   "id": "f929e86f-98ca-44b2-80dc-6b5c58f267bb",
   "metadata": {},
   "outputs": [],
   "source": [
    "# 최소시간 루트를 찾는문제. dp 문제일 가능성이 높음.\n",
    "\n",
    "# 따라서 총 N 개의 list를 작성 후 해당 번호까지 도달하는 가장 짧은 시간을 구하는 게 맞음\n",
    "# 예시에서는 1에서 2가지 길 2와 3 2에서"
   ]
  },
  {
   "cell_type": "code",
   "execution_count": 11,
   "id": "00fab9b0-2be4-46cc-aade-8e05d9c4a30a",
   "metadata": {},
   "outputs": [],
   "source": [
    "dp=[0 for _ in range(N)]\n",
    "order.sort(key=lambda x : [x[1],x[0]])\n"
   ]
  },
  {
   "cell_type": "code",
   "execution_count": 12,
   "id": "7f494451-a4b0-4c05-b19c-03dec1e64bee",
   "metadata": {},
   "outputs": [
    {
     "data": {
      "text/plain": [
       "[[1, 2], [1, 3], [2, 4], [3, 4]]"
      ]
     },
     "execution_count": 12,
     "metadata": {},
     "output_type": "execute_result"
    }
   ],
   "source": [
    "order"
   ]
  },
  {
   "cell_type": "code",
   "execution_count": null,
   "id": "2aa96afc-e55d-4afb-a545-79e11909832e",
   "metadata": {},
   "outputs": [],
   "source": [
    "for i in range(K):\n",
    "    order[i][1]"
   ]
  },
  {
   "cell_type": "code",
   "execution_count": null,
   "id": "2845c7c0-86f9-46cd-a907-26e19556415d",
   "metadata": {},
   "outputs": [],
   "source": []
  },
  {
   "cell_type": "markdown",
   "id": "86372f8e-f991-4c59-9d89-1d789467079d",
   "metadata": {},
   "source": [
    "# 2252번 줄 세우기"
   ]
  },
  {
   "cell_type": "code",
   "execution_count": 19,
   "id": "9a860b62-1025-4bea-9fd7-dc70fdcaff8b",
   "metadata": {},
   "outputs": [
    {
     "ename": "ValueError",
     "evalue": "not enough values to unpack (expected 2, got 0)",
     "output_type": "error",
     "traceback": [
      "\u001b[1;31m---------------------------------------------------------------------------\u001b[0m",
      "\u001b[1;31mValueError\u001b[0m                                Traceback (most recent call last)",
      "\u001b[1;32m<ipython-input-19-4625e943c2d4>\u001b[0m in \u001b[0;36m<module>\u001b[1;34m\u001b[0m\n\u001b[1;32m----> 1\u001b[1;33m \u001b[0mN\u001b[0m\u001b[1;33m,\u001b[0m\u001b[0mM\u001b[0m\u001b[1;33m=\u001b[0m\u001b[0mmap\u001b[0m\u001b[1;33m(\u001b[0m\u001b[0mint\u001b[0m\u001b[1;33m,\u001b[0m\u001b[0minput\u001b[0m\u001b[1;33m(\u001b[0m\u001b[1;33m)\u001b[0m\u001b[1;33m.\u001b[0m\u001b[0msplit\u001b[0m\u001b[1;33m(\u001b[0m\u001b[1;33m)\u001b[0m\u001b[1;33m)\u001b[0m\u001b[1;33m\u001b[0m\u001b[1;33m\u001b[0m\u001b[0m\n\u001b[0m\u001b[0;32m      2\u001b[0m \u001b[0mcompare\u001b[0m\u001b[1;33m=\u001b[0m\u001b[1;33m[\u001b[0m\u001b[1;33m]\u001b[0m\u001b[1;33m\u001b[0m\u001b[1;33m\u001b[0m\u001b[0m\n\u001b[0;32m      3\u001b[0m \u001b[1;32mfor\u001b[0m \u001b[0m_\u001b[0m \u001b[1;32min\u001b[0m \u001b[0mrange\u001b[0m\u001b[1;33m(\u001b[0m\u001b[0mM\u001b[0m\u001b[1;33m)\u001b[0m\u001b[1;33m:\u001b[0m\u001b[1;33m\u001b[0m\u001b[1;33m\u001b[0m\u001b[0m\n\u001b[0;32m      4\u001b[0m     \u001b[0mcompare\u001b[0m\u001b[1;33m.\u001b[0m\u001b[0mappend\u001b[0m\u001b[1;33m(\u001b[0m\u001b[0mlist\u001b[0m\u001b[1;33m(\u001b[0m\u001b[0mmap\u001b[0m\u001b[1;33m(\u001b[0m\u001b[0mint\u001b[0m\u001b[1;33m,\u001b[0m\u001b[0minput\u001b[0m\u001b[1;33m(\u001b[0m\u001b[1;33m)\u001b[0m\u001b[1;33m.\u001b[0m\u001b[0msplit\u001b[0m\u001b[1;33m(\u001b[0m\u001b[1;33m)\u001b[0m\u001b[1;33m)\u001b[0m\u001b[1;33m)\u001b[0m\u001b[1;33m)\u001b[0m\u001b[1;33m\u001b[0m\u001b[1;33m\u001b[0m\u001b[0m\n",
      "\u001b[1;31mValueError\u001b[0m: not enough values to unpack (expected 2, got 0)"
     ]
    }
   ],
   "source": [
    "N,M=map(int,input().split())\n",
    "compare=[]\n",
    "for _ in range(M):\n",
    "    compare.append(list(map(int,input().split())))\n"
   ]
  },
  {
   "cell_type": "code",
   "execution_count": 16,
   "id": "f1b2bdc1-53c3-4300-a059-31cb9219b593",
   "metadata": {},
   "outputs": [],
   "source": [
    "## 블로그 참고 https://my-coding-notes.tistory.com/306(위상정렬)\n"
   ]
  },
  {
   "cell_type": "code",
   "execution_count": 8,
   "id": "b9e24d46-f4ad-41d8-96d1-a8ec28376734",
   "metadata": {},
   "outputs": [
    {
     "name": "stdin",
     "output_type": "stream",
     "text": [
      " 7 5\n",
      " 1 2\n",
      " 2 4\n",
      " 3 4\n",
      " 4 6\n",
      " 6 7\n"
     ]
    },
    {
     "name": "stdout",
     "output_type": "stream",
     "text": [
      "[-1, 1, 1, 1, 1, 0, 1, 0] [[], [], [1], [], [2, 3], [], [4], [6]] deque([5, 7])\n",
      "1 3 2 4 6 7 5\n"
     ]
    }
   ],
   "source": [
    "from collections import deque\n",
    "import sys\n",
    "#input= sys.stdin.readline\n",
    "n,m = map(int,input().split())\n",
    "cntLink =[-1]+[0]*n #  길이가 n+1인 [-1,0,0,0,...]\n",
    "link=[[] for _ in range(n+1)] #길이가 n+1인 [[],[],[],[],....]\n",
    "for _ in range(m):\n",
    "    f,b = map(int, input().split()) # 화살표 리스트를 front와 back으로 받음.\n",
    "    cntLink[f]+=1  # cntLink의 f 인덱스 노드에 값을 1 추가\n",
    "    link[b].append(f) # link의 b 인덱스 위치의 리스트에 f 값 추가\n",
    "\n",
    "# 진입차수가 0인 정점들을 큐에 삽입/ 진입차수가 0 인 정점 = 해당 노드로부터 하나도 나가지 않는 노드\n",
    "q=deque()\n",
    "for i in range(1,n+1):\n",
    "    if not cntLink[i]:\n",
    "        q.append(i) # cntLink의 값이 0이면 q에 해당 i 값 삽입\n",
    "\n",
    "# q에 최종 종착지들이 생김\n",
    "print(cntLink, link, q)\n",
    "# 위상 정렬 진행\n",
    "ans=[]\n",
    "while q:\n",
    "    v=q.popleft()     # 하나씩 뽑아서\n",
    "    ans.append(v)     # ans 에 추가\n",
    "    for i in link[v]:\n",
    "        cntLink[i]-=1   # 해당 v 값의 값을 1 빼고 \n",
    "        if not cntLink[i]:\n",
    "            q.append(i)\n",
    "print(*ans[::-1])"
   ]
  },
  {
   "cell_type": "code",
   "execution_count": 14,
   "id": "1d25c093-d694-498f-afb8-2f68f03331aa",
   "metadata": {},
   "outputs": [
    {
     "name": "stdout",
     "output_type": "stream",
     "text": [
      "[-1, 0, 1, 0, 2, 0, 1, 1]\n",
      "deque([1, 3, 5])\n"
     ]
    },
    {
     "ename": "IndexError",
     "evalue": "pop from an empty deque",
     "output_type": "error",
     "traceback": [
      "\u001b[1;31m---------------------------------------------------------------------------\u001b[0m",
      "\u001b[1;31mIndexError\u001b[0m                                Traceback (most recent call last)",
      "\u001b[1;32m<ipython-input-14-06630ee43080>\u001b[0m in \u001b[0;36m<module>\u001b[1;34m\u001b[0m\n\u001b[0;32m     18\u001b[0m \u001b[1;31m##\u001b[0m\u001b[1;33m\u001b[0m\u001b[1;33m\u001b[0m\u001b[1;33m\u001b[0m\u001b[0m\n\u001b[0;32m     19\u001b[0m \u001b[1;32mfor\u001b[0m \u001b[0mi\u001b[0m \u001b[1;32min\u001b[0m \u001b[0mrange\u001b[0m\u001b[1;33m(\u001b[0m\u001b[0mlen\u001b[0m\u001b[1;33m(\u001b[0m\u001b[0mresult\u001b[0m\u001b[1;33m)\u001b[0m\u001b[1;33m)\u001b[0m\u001b[1;33m:\u001b[0m\u001b[1;33m\u001b[0m\u001b[1;33m\u001b[0m\u001b[0m\n\u001b[1;32m---> 20\u001b[1;33m     \u001b[0mx\u001b[0m\u001b[1;33m=\u001b[0m\u001b[0mq\u001b[0m\u001b[1;33m.\u001b[0m\u001b[0mpopleft\u001b[0m\u001b[1;33m(\u001b[0m\u001b[1;33m)\u001b[0m\u001b[1;33m\u001b[0m\u001b[1;33m\u001b[0m\u001b[0m\n\u001b[0m\u001b[0;32m     21\u001b[0m     \u001b[1;32mif\u001b[0m \u001b[0mx\u001b[0m\u001b[1;33m==\u001b[0m\u001b[1;33m-\u001b[0m\u001b[1;36m1\u001b[0m\u001b[1;33m:\u001b[0m\u001b[1;33m\u001b[0m\u001b[1;33m\u001b[0m\u001b[0m\n\u001b[0;32m     22\u001b[0m         \u001b[1;32mcontinue\u001b[0m\u001b[1;33m\u001b[0m\u001b[1;33m\u001b[0m\u001b[0m\n",
      "\u001b[1;31mIndexError\u001b[0m: pop from an empty deque"
     ]
    }
   ],
   "source": [
    "# 총 정점의 수 n개와 그 n개별로 들어오는 정점을 표기하기 위한 graph\n",
    "n = int(input()) # 그래프 정점의 수\n",
    "graph = [[] for _ in range(n+1)]\n",
    "\n",
    "# 들어오는 방향 그래프 하나씩 확인 graph[a].append(b)로 graph에서 a,b 방향을 특정한다.\n",
    "for i in range(n):\n",
    "    a, b = map(int, input().split())\n",
    "\n",
    "    graph[a].append(b)\t#a는 b의 선행 노드\n",
    "    indegree[b] += 1\t#b의 들어오는 간선의 수 추가\n",
    "\n",
    "# 들어오는 간선의 수가 0인 정점을 큐에 넣는다\n",
    "for i in range(1, n+1):\n",
    "    if not indegree[i]:\n",
    "        dq.append(i)\n",
    "\n",
    "for _ in range(1, n+1):\n",
    "    target = dq.popleft()\n",
    "\n",
    "    # 선택한 정점과 연결된 정점의 간선을 삭제한다\n",
    "    for v in graph[target]:\n",
    "        indegree[v] -= 1\n",
    "        if not indegree[v]:\n",
    "            dq.append(v)"
   ]
  },
  {
   "cell_type": "code",
   "execution_count": null,
   "id": "b192b6a1-97b5-402b-8282-8cda4edd020b",
   "metadata": {},
   "outputs": [],
   "source": []
  },
  {
   "cell_type": "markdown",
   "id": "d70ef965-8637-4752-9931-c4cd2a77166b",
   "metadata": {},
   "source": [
    "# 2109 순회강연"
   ]
  },
  {
   "cell_type": "code",
   "execution_count": 3,
   "id": "cb38ec6d-9cdf-4aa2-8051-d59c1160cf03",
   "metadata": {},
   "outputs": [
    {
     "name": "stdin",
     "output_type": "stream",
     "text": [
      " 7\n",
      " 20 1\n",
      " 2 1\n",
      " 10 3\n",
      " 100 2\n",
      " 8 2\n",
      " 5 20\n",
      " 50 10\n"
     ]
    }
   ],
   "source": [
    "# n개의 대학, d 일 내에 강연 , p의 강연비\n",
    "N=int(input())\n",
    "list1=[]\n",
    "for _ in range(N):\n",
    "    list1.append(list(map(int,input().split())))\n",
    "\n",
    "list1.sort(key=lambda x : [-x[0],x[1]])"
   ]
  },
  {
   "cell_type": "code",
   "execution_count": 4,
   "id": "8a7a9f05-edd3-49b4-bd74-b74df0748f6a",
   "metadata": {},
   "outputs": [
    {
     "data": {
      "text/plain": [
       "[[100, 2], [50, 10], [20, 1], [10, 3], [8, 2], [5, 20], [2, 1]]"
      ]
     },
     "execution_count": 4,
     "metadata": {},
     "output_type": "execute_result"
    }
   ],
   "source": [
    "list1"
   ]
  },
  {
   "cell_type": "code",
   "execution_count": 23,
   "id": "ba7c6aaa-83c9-47c0-b64f-fffd06deb072",
   "metadata": {},
   "outputs": [
    {
     "name": "stdout",
     "output_type": "stream",
     "text": [
      "185\n"
     ]
    }
   ],
   "source": [
    "day=[0 for _ in range(10000)]\n",
    "for i in list1:\n",
    "    cnt=i[1]\n",
    "    while cnt>0:\n",
    "        if day[cnt]==0:\n",
    "            day[cnt]=i[0]\n",
    "            break\n",
    "        cnt-=1\n",
    "print(sum(day))"
   ]
  },
  {
   "cell_type": "markdown",
   "id": "ce5b9836-266b-40d3-b0ce-eecbd5bad6b7",
   "metadata": {},
   "source": [
    "## 코드리뷰 \n",
    "solve는 나왔으나 시간이 너무 걸림. O^2로 풀었는데 heap사용시 더 빨리 풀 수 있을 듯함.\n",
    "아래는 다른 곳의 내뇽을 참조하여 그대로 해석해봄"
   ]
  },
  {
   "cell_type": "code",
   "execution_count": 39,
   "id": "30582132-f4b2-4721-b9c5-59142d0af377",
   "metadata": {},
   "outputs": [
    {
     "name": "stdin",
     "output_type": "stream",
     "text": [
      " 7\n",
      " 100 2\n",
      " 50 10\n",
      " 20 1\n",
      " 10 3\n",
      " 8 2\n",
      " 5 20\n",
      " 2 1\n"
     ]
    }
   ],
   "source": [
    "from sys import stdin\n",
    "import heapq\n",
    "answer=0\n",
    "n=int(input())\n",
    "info=[list(map(int,input().split())) for _ in range(n) ]\n",
    "info.sort(key=lambda x : x[1]) # 날짜 순으로 배열\n",
    "heap=[]\n"
   ]
  },
  {
   "cell_type": "code",
   "execution_count": 40,
   "id": "17268470-de1e-4246-9a84-8ce48dc7ad76",
   "metadata": {},
   "outputs": [
    {
     "data": {
      "text/plain": [
       "[[20, 1], [2, 1], [100, 2], [8, 2], [10, 3], [50, 10], [5, 20]]"
      ]
     },
     "execution_count": 40,
     "metadata": {},
     "output_type": "execute_result"
    }
   ],
   "source": [
    "info"
   ]
  },
  {
   "cell_type": "code",
   "execution_count": 42,
   "id": "f9f35f55-a1c1-4998-9b1d-733d3b665d80",
   "metadata": {},
   "outputs": [
    {
     "name": "stdout",
     "output_type": "stream",
     "text": [
      "185\n"
     ]
    }
   ],
   "source": [
    "for i in info:\n",
    "    heapq.heappush(heap, i[0]) # heap에다가 해당번째 강연료 넣기\n",
    "    if len(heap)>i[1]:         # 만약 heap의 길이가 현재 날짜의 길이 i[1]보다 크면 주어진 날짜보다 많은 값이 heap에 있는 것음\n",
    "        heapq.heappop(heap)    # heap에서 가장 싼 값을 하나 빼는 것으로 최대값 유지\n",
    "print(sum(heap))"
   ]
  },
  {
   "cell_type": "code",
   "execution_count": null,
   "id": "36fb72de-e2a0-448f-904d-fbbc2868a991",
   "metadata": {},
   "outputs": [],
   "source": []
  },
  {
   "cell_type": "markdown",
   "id": "945bc965-9b18-42d7-b206-1e87044f0246",
   "metadata": {},
   "source": [
    "# 1461 도서관"
   ]
  },
  {
   "cell_type": "code",
   "execution_count": 130,
   "id": "a3853767-5bd5-4294-a069-ce71f939de8b",
   "metadata": {},
   "outputs": [
    {
     "name": "stdin",
     "output_type": "stream",
     "text": [
      " 8 3\n",
      " -18 -9 -4 50 22 -26 40 -45\n"
     ]
    }
   ],
   "source": [
    "N,M=map(int,input().split())\n",
    "position=list(map(int,input().split()))"
   ]
  },
  {
   "cell_type": "code",
   "execution_count": 126,
   "id": "fa60ea5f-54c9-4d21-8285-b1e92e0559f9",
   "metadata": {},
   "outputs": [],
   "source": [
    "#position=[-37,2,-6,-39,-29,11,-28]\n",
    "position=[-18,-9,-4,50,22,-26,40,-45]"
   ]
  },
  {
   "cell_type": "code",
   "execution_count": 131,
   "id": "73365f06-ddc3-4c38-9aa1-cfda291a5df2",
   "metadata": {},
   "outputs": [],
   "source": [
    "p=[]\n",
    "b=[]\n",
    "for i in position:\n",
    "    if i >0:\n",
    "        p.append(i)\n",
    "        continue\n",
    "    b.append(-i)\n",
    "p.sort()\n",
    "b.sort()"
   ]
  },
  {
   "cell_type": "code",
   "execution_count": 132,
   "id": "64d68b53-b67a-4d7e-b55f-f13686183a7c",
   "metadata": {},
   "outputs": [
    {
     "name": "stdout",
     "output_type": "stream",
     "text": [
      "[22, 40, 50] [4, 9, 18, 26, 45]\n"
     ]
    }
   ],
   "source": [
    "print(p,b)"
   ]
  },
  {
   "cell_type": "code",
   "execution_count": 133,
   "id": "7c44a16f-6f7b-4f3a-b167-cae24dc9b120",
   "metadata": {},
   "outputs": [
    {
     "name": "stdout",
     "output_type": "stream",
     "text": [
      "158\n"
     ]
    }
   ],
   "source": [
    "answer_list=[]\n",
    "while p:\n",
    "    answer_list.append(p.pop())\n",
    "    for i in range(M-1):\n",
    "        if p: p.pop()\n",
    "while b:\n",
    "    answer_list.append(b.pop())\n",
    "    for i in range(M-1):\n",
    "        if b: b.pop()\n",
    "print(sum(answer_list)*2-max(answer_list))"
   ]
  },
  {
   "cell_type": "code",
   "execution_count": 118,
   "id": "4fcf3784-5aa5-41cc-89ec-b9f433b7c867",
   "metadata": {},
   "outputs": [
    {
     "data": {
      "text/plain": [
       "[50, 22, 45, 18, 4]"
      ]
     },
     "execution_count": 118,
     "metadata": {},
     "output_type": "execute_result"
    }
   ],
   "source": [
    "answer_list"
   ]
  },
  {
   "cell_type": "markdown",
   "id": "f63d1037-31c1-4b8c-94e3-c87a8a0ba9b8",
   "metadata": {},
   "source": [
    "## 코드리뷰\n",
    "정말 잘짠 거 같아서 마음에 든다. 1차워 양 끝단에서 특정 갯수마다 뭔가를 해야할 때 아예 나누는 것이 좋은 것 같다. 또한 내부에서 있으면 뺄때  if p :p.pop 은 좋은거 같다."
   ]
  },
  {
   "cell_type": "code",
   "execution_count": null,
   "id": "6312b9d8-3448-47db-9921-965d5c092948",
   "metadata": {},
   "outputs": [],
   "source": []
  },
  {
   "cell_type": "markdown",
   "id": "e4e553ff-a08b-4a4e-a764-7d763b760aba",
   "metadata": {},
   "source": [
    "# 2457 공주님의 정원"
   ]
  },
  {
   "cell_type": "code",
   "execution_count": 2,
   "id": "f1d8a9c7-97c3-4ff7-857a-a009f66fc420",
   "metadata": {},
   "outputs": [],
   "source": [
    "month=[0,31,28,31,30,31,30,31,31,30,31,30,31]"
   ]
  },
  {
   "cell_type": "code",
   "execution_count": 3,
   "id": "3211ecff-4fac-43f0-81d4-a648253ec64d",
   "metadata": {},
   "outputs": [
    {
     "name": "stdin",
     "output_type": "stream",
     "text": [
      " 4\n",
      " 1 1 5 31\n",
      " 1 1 6 30\n",
      " 5 15 8 31\n",
      " 6 10 12 10\n"
     ]
    }
   ],
   "source": [
    "N= int(input())\n",
    "info=[]\n",
    "for _ in range(N):\n",
    "    a,b,c,d=list(map(int,input().split()))\n",
    "    day1=sum(month[:a])+b\n",
    "    day2=sum(month[:c])+d\n",
    "    info.append([day1,day2])"
   ]
  },
  {
   "cell_type": "code",
   "execution_count": 4,
   "id": "3dadac07-66d3-48a0-9ae6-7fe9c96e21d6",
   "metadata": {},
   "outputs": [
    {
     "name": "stdout",
     "output_type": "stream",
     "text": [
      "334\n",
      "60\n",
      "32\n"
     ]
    }
   ],
   "source": [
    "print(sum(month[:11])+30)\n",
    "print(sum(month[:3])+1)\n",
    "print(sum(month[:2])+1)\n",
    "# 60 ~ 334 포함"
   ]
  },
  {
   "cell_type": "code",
   "execution_count": 5,
   "id": "9d4b798f-5711-494e-9adf-4d3b7cbcd4de",
   "metadata": {},
   "outputs": [
    {
     "data": {
      "text/plain": [
       "[[1, 181], [1, 151], [135, 243], [161, 344]]"
      ]
     },
     "execution_count": 5,
     "metadata": {},
     "output_type": "execute_result"
    }
   ],
   "source": [
    "info.sort(key=lambda x : [x[0],-x[1]])\n",
    "info"
   ]
  },
  {
   "cell_type": "code",
   "execution_count": 6,
   "id": "f7da0f6d-2b44-4ff0-a625-1488ce4850f0",
   "metadata": {},
   "outputs": [
    {
     "name": "stdout",
     "output_type": "stream",
     "text": [
      "2\n"
     ]
    }
   ],
   "source": [
    "import heapq\n",
    "start=60\n",
    "end=334\n",
    "ans=0\n",
    "heap=[]\n",
    "info.append([368,369])\n",
    "for i in range(len(info)):\n",
    "    if info[i][0]>start:\n",
    "        if not heap:\n",
    "            print(0)\n",
    "            break\n",
    "        start=-heapq.heappop(heap)\n",
    "        ans+=1\n",
    "        if start>=334:\n",
    "            print(ans)\n",
    "            break\n",
    "    heapq.heappush(heap,-info[i][1])"
   ]
  },
  {
   "cell_type": "code",
   "execution_count": 5,
   "id": "056c8e4c-1f69-438c-a399-60ef9738acf6",
   "metadata": {},
   "outputs": [],
   "source": [
    "for i in range(len(info)):\n",
    "    if info[i][0]<=start:\n",
    "        heapq.heappush(heap,-info[i][1])\n",
    "        continue\n",
    "    if not heap:\n",
    "        print(0)\n",
    "        break\n",
    "    start=-heapq.heappop(heap)\n",
    "    ans+=1\n",
    "    if start>334:\n",
    "        print(ans)\n",
    "        break\n",
    "    heap=[]\n",
    "    "
   ]
  },
  {
   "cell_type": "code",
   "execution_count": 15,
   "id": "807a718c-626e-44e5-ae72-ff33e3c783d2",
   "metadata": {},
   "outputs": [
    {
     "name": "stdout",
     "output_type": "stream",
     "text": [
      "2\n"
     ]
    }
   ],
   "source": [
    "import heapq\n",
    "start=60\n",
    "end=334\n",
    "ans=0\n",
    "info=[[1, 181], [1, 151], [135, 243], [161, 344]]\n",
    "heap=[]\n",
    "info.append([1000,1001])\n",
    "for i in range(len(info)):\n",
    "    if info[i][0]<=start:\n",
    "        heapq.heappush(heap,-info[i][1])\n",
    "        continue\n",
    "    if heap:\n",
    "        ans+=1\n",
    "        start=-heapq.heappop(heap)\n",
    "        heap=[]\n",
    "        if (info[i][0]<=start) & (info[i][1]>start):\n",
    "            heapq.heappush(heap,-info[i][1])\n",
    "        if start>334:\n",
    "            print(ans)\n",
    "            break\n",
    "        continue\n",
    "    print(0)\n",
    "    break"
   ]
  },
  {
   "cell_type": "code",
   "execution_count": 43,
   "id": "d7141376-0d8c-43c0-9bd7-ec531e1b0b6f",
   "metadata": {},
   "outputs": [
    {
     "data": {
      "text/plain": [
       "[[1000, 1001], [161, 344], [135, 243], [1, 151], [1, 181]]"
      ]
     },
     "execution_count": 43,
     "metadata": {},
     "output_type": "execute_result"
    }
   ],
   "source": [
    "info=[[1, 181], [1, 151], [135, 243], [161, 344]]\n",
    "info.append([1000,1001])\n",
    "info.sort(key=lambda x : [-x[0],x[1]])\n",
    "info"
   ]
  },
  {
   "cell_type": "code",
   "execution_count": 44,
   "id": "8e6cb4ac-e2ca-4385-96a6-cf2ff970c5af",
   "metadata": {},
   "outputs": [
    {
     "name": "stdout",
     "output_type": "stream",
     "text": [
      "[] 0 [] 60\n",
      "[1, 181] 0 [-181] 60\n",
      "[1, 151] 0 [-181, -151] 60\n",
      "[135, 243] 1 [] 181\n",
      "[135, 243] 1 [-243] 181\n",
      "[161, 344] 1 [-344, -243] 181\n",
      "[1000, 1001] 2 [] 344\n",
      "2\n"
     ]
    }
   ],
   "source": [
    "start=60\n",
    "ans=0\n",
    "temp=[]\n",
    "heap=[]\n",
    "while info:\n",
    "    print(temp, ans, heap,start)\n",
    "    temp=info.pop()\n",
    "    if temp[0]<start:\n",
    "        heapq.heappush(heap,-temp[1])\n",
    "        continue\n",
    "    if heap:\n",
    "        ans+=1\n",
    "        start=-heapq.heappop(heap)\n",
    "        info.append(temp)\n",
    "        heap=[]\n",
    "        continue\n",
    "    if start>334:\n",
    "        print(ans)\n",
    "        break\n",
    "    print(0)\n",
    "    break\n",
    "        "
   ]
  },
  {
   "cell_type": "code",
   "execution_count": 4,
   "id": "c7621878-dd57-4e7a-9852-64bb93247beb",
   "metadata": {},
   "outputs": [
    {
     "name": "stdin",
     "output_type": "stream",
     "text": [
      " 4\n",
      " 2 10 4 15\n",
      " 2 10 2 28\n",
      " 2 28 12 1\n",
      " 4 1 12 1\n"
     ]
    },
    {
     "name": "stdout",
     "output_type": "stream",
     "text": [
      "[[1000, 1001], [91, 335], [59, 335], [41, 105]] [41, 59] 0 60\n",
      "[[1000, 1001], [91, 335], [59, 335]] [41, 105] 0 60\n",
      "[[1000, 1001], [91, 335]] [59, 335] 0 60\n",
      "[[1000, 1001]] [91, 335] 0 60\n",
      "[[1000, 1001]] [91, 335] 1 335\n",
      "1\n"
     ]
    }
   ],
   "source": [
    "import heapq\n",
    "import sys\n",
    "month=[0,31,28,31,30,31,30,31,31,30,31,30,31]\n",
    "N= int(input())\n",
    "info=[]\n",
    "for _ in range(N):\n",
    "    a,b,c,d=list(map(int,input().split()))\n",
    "    day1=sum(month[:a])+b\n",
    "    day2=sum(month[:c])+d\n",
    "    info.append([day1,day2])\n",
    "info.append([1000,1001])\n",
    "info.sort(reverse=True)\n",
    "\n",
    "start=60\n",
    "ans=0\n",
    "temp=[]\n",
    "heap=[]\n",
    "while info:\n",
    "    temp=info.pop()\n",
    "    print(info,temp,ans,start)\n",
    "    if start>334:\n",
    "        break\n",
    "    if (temp[0]<=start) and (temp[1]>start):\n",
    "        heapq.heappush(heap,-temp[1])\n",
    "        continue\n",
    "    if heap:\n",
    "        ans+=1\n",
    "        start=-heapq.heappop(heap)\n",
    "        info.append(temp)\n",
    "        heap=[]\n",
    "        \n",
    "\n",
    "if start>334:\n",
    "    print(ans)\n",
    "else:\n",
    "    print(0)\n",
    "    "
   ]
  },
  {
   "cell_type": "code",
   "execution_count": 59,
   "id": "3e9a7589-83c4-4f44-8def-16fd00e6dfb6",
   "metadata": {},
   "outputs": [
    {
     "name": "stdout",
     "output_type": "stream",
     "text": [
      "344 [] [1000, 1001]\n"
     ]
    }
   ],
   "source": [
    "print(start,info,temp)"
   ]
  },
  {
   "cell_type": "code",
   "execution_count": 2,
   "id": "30040e1c-9b70-427f-ba61-5a53877a1f41",
   "metadata": {},
   "outputs": [],
   "source": [
    "info=[[1, 181], [1, 151], [135, 243], [161, 344]]\n",
    "info.sort(key=lambda x : [-x[0],x[1]])"
   ]
  },
  {
   "cell_type": "code",
   "execution_count": 3,
   "id": "3251d0d7-c2ea-42ed-b06e-339ea96793fa",
   "metadata": {},
   "outputs": [
    {
     "data": {
      "text/plain": [
       "[[161, 344], [135, 243], [1, 151], [1, 181]]"
      ]
     },
     "execution_count": 3,
     "metadata": {},
     "output_type": "execute_result"
    }
   ],
   "source": [
    "info"
   ]
  },
  {
   "cell_type": "code",
   "execution_count": 18,
   "id": "6713fcbe-6a9f-4286-9e1f-ac367528e3a6",
   "metadata": {},
   "outputs": [
    {
     "name": "stdin",
     "output_type": "stream",
     "text": [
      " 3\n",
      " 1 1 11 30\n",
      " 11 10 12 5\n",
      " 3 1 12 1\n"
     ]
    },
    {
     "name": "stdout",
     "output_type": "stream",
     "text": [
      "[[1, 334], [60, 335], [314, 339]] [1, 334] [] 60 0\n",
      "[[1, 334], [60, 335], [314, 339]] [60, 335] [-334] 60 0\n",
      "[[1, 334], [60, 335], [314, 339]] [314, 339] [-335, -334] 60 0\n",
      "[[1, 334], [60, 335], [314, 339]] [314, 339] [] 335 1\n",
      "1\n"
     ]
    }
   ],
   "source": [
    "## 다시 초심 잡고 해보자 멘탈 갈린다.\n",
    "# 1. 제일 처음 start는 60 으로 이 start를 기준으로 시작점이 start보다 작은 info를 전부 모아 그 중에서 끝점이 가장 큰 것을 선택하여 \n",
    "#    그 점을 다시 start로 한다.\n",
    "# 2. start점이 334 초과이면 반복문 종료\n",
    "\n",
    "import heapq\n",
    "import sys\n",
    "month=[0,31,28,31,30,31,30,31,31,30,31,30,31]\n",
    "N= int(input())\n",
    "infos=[]\n",
    "for _ in range(N):\n",
    "    a,b,c,d=list(map(int,input().split()))\n",
    "    day1=sum(month[:a])+b\n",
    "    day2=sum(month[:c])+d\n",
    "    infos.append([day1,day2])\n",
    "infos.sort(key=lambda x :[x[0],x[1]])\n",
    "start=60\n",
    "ans=0\n",
    "heap=[]\n",
    "for info in infos:\n",
    "    print(infos,info, heap,start,ans)\n",
    "    \n",
    "    if (info[0]<=start) & (info[1]>start):\n",
    "        heapq.heappush(heap,-info[1])\n",
    "        continue\n",
    "    # 이제 start 보다 info[0]이 큰경우\n",
    "    if info[1]<=start:\n",
    "        continue\n",
    "    if not heap:\n",
    "        break\n",
    "    if info[0]>start:\n",
    "        start=-heapq.heappop(heap)\n",
    "        ans+=1\n",
    "        heap=[]\n",
    "        if (info[0]<=start) & (info[1]>start):\n",
    "            heapq.heappush(heap,-info[1])\n",
    "    if start>334:\n",
    "        heap=[]\n",
    "        break\n",
    "print(infos,info, heap,start,ans)\n",
    "if heap:\n",
    "    start=-heapq.heappop(heap)\n",
    "    ans+=1\n",
    "\n",
    "if start>334:\n",
    "    print(ans)\n",
    "else:\n",
    "    print(0)"
   ]
  },
  {
   "cell_type": "markdown",
   "id": "428879c7-9dbc-4c61-96d4-ea638062bd5f",
   "metadata": {},
   "source": [
    "반례\n",
    " 3\n",
    " 1 1 11 30\n",
    " 11 10 12 5\n",
    " 3 1 12 1\n",
    "2"
   ]
  },
  {
   "cell_type": "markdown",
   "id": "d14bbcd6-cb5e-48c7-8826-273dfba42d6a",
   "metadata": {},
   "source": [
    "## 코드리뷰\n",
    "정말 안풀렸던 문제. 결국 풀긴 했는데 코드가 더럽다. 문제의 핵심은 start를 계속 변경해 가면서 start보다 작은 곳에서 시작하는 모든 것들의 최대값을 다시 start 값으로 가지는 것으로 만드는 것"
   ]
  },
  {
   "cell_type": "code",
   "execution_count": null,
   "id": "954d31a6-ee6a-4e5f-b2f5-377909b65ac9",
   "metadata": {},
   "outputs": [],
   "source": []
  },
  {
   "cell_type": "markdown",
   "id": "5cf3a348-fa55-460d-93f5-25d72ecaa7b0",
   "metadata": {},
   "source": [
    "# 1781 컵라면"
   ]
  },
  {
   "cell_type": "code",
   "execution_count": 19,
   "id": "08e8f77e-dc3b-40d1-8d79-1831615026a9",
   "metadata": {},
   "outputs": [
    {
     "name": "stdin",
     "output_type": "stream",
     "text": [
      " 7\n",
      " 1 6\n",
      " 1 7\n",
      " 3 2\n",
      " 3 1\n",
      " 2 4\n",
      " 2 5\n",
      " 6 1\n"
     ]
    }
   ],
   "source": [
    "N=int(input())\n",
    "problem=[]\n",
    "for i in range(N):\n",
    "    problem.append(list(map(int,input().split())))"
   ]
  },
  {
   "cell_type": "code",
   "execution_count": 20,
   "id": "ffe7ca90-d8a3-489c-972c-4c4e48f401a9",
   "metadata": {},
   "outputs": [
    {
     "data": {
      "text/plain": [
       "[[1, 6], [1, 7], [3, 2], [3, 1], [2, 4], [2, 5], [6, 1]]"
      ]
     },
     "execution_count": 20,
     "metadata": {},
     "output_type": "execute_result"
    }
   ],
   "source": [
    "problem"
   ]
  },
  {
   "cell_type": "code",
   "execution_count": 21,
   "id": "f1840d19-fbce-4d91-ae96-9900f7e4740b",
   "metadata": {},
   "outputs": [
    {
     "name": "stdout",
     "output_type": "stream",
     "text": [
      "[1, 2, 5, 7]\n"
     ]
    }
   ],
   "source": [
    "import heapq\n",
    "heap=[]\n",
    "problem.sort(key=lambda x : x[0])\n",
    "\n",
    "for i in range(len(problem)):\n",
    "    heapq.heappush(heap,problem[i][1])\n",
    "    if len(heap)>problem[i][0]:\n",
    "        heapq.heappop(heap)\n",
    "print(sum(heap))"
   ]
  },
  {
   "cell_type": "markdown",
   "id": "88fefe18-4646-483b-992f-bc6e0509ddbe",
   "metadata": {},
   "source": [
    "## 코드리뷰\n",
    "한방에 해결, 저번에 봤던 for-if len(heap) 사용해서 품. 기한이 걸린 문제에서는 엄청 좋은거 같다."
   ]
  },
  {
   "cell_type": "code",
   "execution_count": null,
   "id": "ec38c093-b8a3-4121-9902-d179ea8e23ed",
   "metadata": {},
   "outputs": [],
   "source": []
  },
  {
   "cell_type": "markdown",
   "id": "a0571d9f-c221-46e7-9c6a-50e969a4dcba",
   "metadata": {},
   "source": [
    "# 7570 줄세우기"
   ]
  },
  {
   "cell_type": "code",
   "execution_count": 73,
   "id": "e0d31dd5-517f-49f9-9bd3-2a0b0527c55c",
   "metadata": {},
   "outputs": [
    {
     "name": "stdin",
     "output_type": "stream",
     "text": [
      " 6\n",
      " 1 4 2 5 6 3\n"
     ]
    }
   ],
   "source": [
    "N= int(input())\n",
    "student=list(map(int,input().split()))"
   ]
  },
  {
   "cell_type": "code",
   "execution_count": 25,
   "id": "bf99c0f0-2223-408f-a016-fbfc2f98ef71",
   "metadata": {},
   "outputs": [],
   "source": [
    "# 23 빼고 한번씩 움직이면 됨. 2,3 과 나머지의 차이는 무엇일까? 5를 보면 5 6 7 식으로 1식 증가하는게 있는지 확인하는 작업\n",
    "# 이 작업에서 최대값이 나오면  N-최댓값"
   ]
  },
  {
   "cell_type": "code",
   "execution_count": 35,
   "id": "02779c9c-f522-46d4-b43f-0f3e165aa1b0",
   "metadata": {},
   "outputs": [],
   "source": [
    "from collections import deque\n",
    "queue=deque(student)\n",
    "while queue:\n",
    "    temp=queue.popleft()\n",
    "    if temp"
   ]
  },
  {
   "cell_type": "code",
   "execution_count": 121,
   "id": "b65ef4b7-cfb2-415c-b77b-b99739f2e100",
   "metadata": {},
   "outputs": [],
   "source": [
    "N=5\n",
    "student=[5,1,2,4,3]"
   ]
  },
  {
   "cell_type": "code",
   "execution_count": 115,
   "id": "5dfe1225-62ba-41f2-8e28-7a4130b068f5",
   "metadata": {},
   "outputs": [
    {
     "name": "stdout",
     "output_type": "stream",
     "text": [
      "2\n"
     ]
    }
   ],
   "source": [
    "## 9\n",
    "## 1 2 3 4 5 6 7 8 9\n",
    "## 3 4 2 5 7 8 9 1 6\n",
    "## 3 4 5 6  => 4,5,6에 대해서는 안해봐도 됨. 따라서 시간을 절약가능\n",
    "list1=[]\n",
    "while student:\n",
    "    cnt=1\n",
    "    cur=student.pop(0)\n",
    "    temp_list=[cur]\n",
    "    for i in student[:]:\n",
    "        if i==cur+1:\n",
    "            cur+=1\n",
    "            cnt+=1\n",
    "            temp_list.append(i)\n",
    "            student.remove(i)\n",
    "    list1.append(cnt)\n",
    "print(N-max(list1))    "
   ]
  },
  {
   "cell_type": "code",
   "execution_count": 112,
   "id": "0c28d4cc-bf43-411a-a73d-c722ee4cd06d",
   "metadata": {},
   "outputs": [
    {
     "name": "stdout",
     "output_type": "stream",
     "text": [
      "[[5], [1, 2, 3], [4]]\n"
     ]
    }
   ],
   "source": [
    "N=5\n",
    "student=[5,1,2,4,3]\n",
    "list1=[]\n",
    "while student:\n",
    "    cnt=1\n",
    "    cur=student.pop(0)\n",
    "    idx=0\n",
    "    temp_list=[cur]\n",
    "    while cur+1 in student[idx:]:\n",
    "        idx=student.index(cur+1)\n",
    "        temp_list.append(student.pop(idx))\n",
    "        cur+=1\n",
    "        cnt+=1\n",
    "    list1.append(temp_list)\n",
    "print(list1) "
   ]
  },
  {
   "cell_type": "code",
   "execution_count": 39,
   "id": "87018bd6-9004-4a1e-bf96-1ea9f8f18100",
   "metadata": {},
   "outputs": [
    {
     "data": {
      "text/plain": [
       "1"
      ]
     },
     "execution_count": 39,
     "metadata": {},
     "output_type": "execute_result"
    }
   ],
   "source": [
    "queue.index(2)"
   ]
  },
  {
   "cell_type": "code",
   "execution_count": 131,
   "id": "7e4038ee-6f7a-4439-bf07-38e0805516a6",
   "metadata": {},
   "outputs": [
    {
     "name": "stdout",
     "output_type": "stream",
     "text": [
      "0\n",
      "1\n",
      "1 0\n",
      "2\n",
      "2 0\n",
      "2 1\n",
      "3\n",
      "3 0\n",
      "3 1\n",
      "3 2\n",
      "4\n",
      "4 0\n",
      "4 1\n",
      "4 2\n",
      "4 3\n"
     ]
    }
   ],
   "source": [
    "dp=[1 for i in range(N)]\n",
    "for i in range(N):\n",
    "    print(i)\n",
    "    for j in range(i):\n",
    "        print(i,j)\n",
    "        #print(i,j,student[i],student[j])\n",
    "        if student[i]==student[j]+1:\n",
    "            dp[i]=max(dp[i],dp[j]+1)"
   ]
  },
  {
   "cell_type": "code",
   "execution_count": 133,
   "id": "a37a3990-fa83-4913-ad02-0223fd227111",
   "metadata": {},
   "outputs": [
    {
     "name": "stdin",
     "output_type": "stream",
     "text": [
      " 6\n",
      " 3 2 4 1 5 6\n"
     ]
    },
    {
     "name": "stdout",
     "output_type": "stream",
     "text": [
      "2\n"
     ]
    }
   ],
   "source": [
    "import sys\n",
    "N= int(input())\n",
    "student=list(map(int,input().split()))\n",
    "dp=[1 for i in range(N)]\n",
    "\n",
    "for i in range(N):\n",
    "    for j in range(i):\n",
    "        if student[i]==student[j]+1:\n",
    "            dp[i]=max(dp[i],dp[j]+1)\n",
    "print(N-max(dp))"
   ]
  },
  {
   "cell_type": "code",
   "execution_count": 142,
   "id": "83c0cd2f-b29a-4994-b703-bd45da2edc6f",
   "metadata": {},
   "outputs": [
    {
     "name": "stdin",
     "output_type": "stream",
     "text": [
      " 6\n",
      " 3 2 4 1 5 6\n"
     ]
    },
    {
     "name": "stdout",
     "output_type": "stream",
     "text": [
      "[0, 0, 0, 1, 0, 0, 0]\n",
      "[0, 0, 1, 1, 0, 0, 0]\n",
      "[0, 0, 1, 1, 2, 0, 0]\n",
      "[0, 1, 1, 1, 2, 0, 0]\n",
      "[0, 1, 1, 1, 2, 3, 0]\n",
      "[0, 1, 1, 1, 2, 3, 4]\n",
      "2\n"
     ]
    }
   ],
   "source": [
    "# 시간초과 오류로 블로그 참고\n",
    "import sys\n",
    "N= int(input())\n",
    "student=list(map(int,input().split()))\n",
    "dp=[0 for i in range(N+1)]\n",
    "\n",
    "# 해당 번째 dp에서 전 dp+1의 값을 갖거나 , 1 추가\n",
    "for i in range(N):\n",
    "    idx=student[i]\n",
    "    dp[idx]=dp[idx-1]+1\n",
    "    print(dp)\n",
    "print(N-max(dp))"
   ]
  },
  {
   "cell_type": "markdown",
   "id": "b82fcd64-d102-452e-ace6-3be389710568",
   "metadata": {},
   "source": [
    "## 코드리뷰\n",
    "시간초과로 다른 블로그를 참고함. dp의 인덱스 값을 이용하여 인덱스 값에 해당하는 dp값을 전것보다 1 증가 시키는 것이 문제 풀이 과정\n",
    "lic 알고리즘으로 증가(이 문제의 경우 1증가)를 만족하는 가장 긴 부분집합을 구하는 알고리즘"
   ]
  },
  {
   "cell_type": "code",
   "execution_count": null,
   "id": "511cd8ce-4572-43ab-a586-9648ec1445b1",
   "metadata": {},
   "outputs": [],
   "source": []
  },
  {
   "cell_type": "markdown",
   "id": "527ff5fe-86fa-40e5-aa35-f93b0d47ad66",
   "metadata": {},
   "source": [
    "# 3109 빵집(재도전)"
   ]
  },
  {
   "cell_type": "code",
   "execution_count": 149,
   "id": "bbd90ab0-6812-45e8-9802-f47c6be0665c",
   "metadata": {},
   "outputs": [
    {
     "name": "stdin",
     "output_type": "stream",
     "text": [
      " 6 10\n",
      " ..X.......\n",
      " .....X....\n",
      " .X....X...\n",
      " ...X...XX.\n",
      " ..........\n",
      " ....X.....\n"
     ]
    }
   ],
   "source": [
    "R,C= map(int,input().split())\n",
    "graph=[]\n",
    "for i in range(R):\n",
    "    graph.append(list(input()))"
   ]
  },
  {
   "cell_type": "code",
   "execution_count": 24,
   "id": "f7b2498f-e4bc-4c4e-b288-6a104c4813d8",
   "metadata": {},
   "outputs": [],
   "source": [
    "move=[-1,0,1]\n",
    "ans=0\n",
    "for i in range(R):\n",
    "    x,y=i,0\n",
    "    graph[x][y]='X'\n",
    "    while True:\n",
    "        check=False\n",
    "        for dx in move:\n",
    "            nx=x+dx\n",
    "            ny=y+1\n",
    "            if (nx>=R) or (nx<0):\n",
    "                continue\n",
    "            if graph[nx][ny]=='X':\n",
    "                continue    \n",
    "            x=nx\n",
    "            y=ny\n",
    "            graph[nx][ny]='X'\n",
    "            check=True\n",
    "            break\n",
    "            \n",
    "        if check==False:\n",
    "            break\n",
    "        if y==C-1:\n",
    "            ans+=1\n",
    "            break"
   ]
  },
  {
   "cell_type": "code",
   "execution_count": 145,
   "id": "5e62f732-aa31-43fc-8b9d-4619b3db4c6d",
   "metadata": {},
   "outputs": [],
   "source": [
    "R,C=5,5\n",
    "graph=[['.', 'X', 'X', '.', '.'],\n",
    "       ['.', '.', 'X', '.', '.'],\n",
    "       ['.', '.', '.', '.', '.'],\n",
    "       ['.', '.', '.', 'X', '.'],\n",
    "       ['.', '.', '.', 'X', '.']]"
   ]
  },
  {
   "cell_type": "code",
   "execution_count": null,
   "id": "6b49a94d-073e-4fe0-9505-e42ba71f14ba",
   "metadata": {},
   "outputs": [],
   "source": [
    "R,C=6,10\n",
    "graph=[[['.', '.', 'X', '.', '.', '.', '.', '.', '.', '.'],\n",
    " ['.', '.', '.', '.', '.', 'X', '.', '.', '.', '.'],\n",
    " ['.', 'X', '.', '.', '.', '.', 'X', '.', '.', '.'],\n",
    " ['.', '.', '.', 'X', '.', '.', '.', 'X', 'X', '.'],\n",
    " ['.', '.', '.', '.', '.', '.', '.', '.', '.', '.'],\n",
    " ['.', '.', '.', '.', 'X', '.', '.', '.', '.', '.']]"
   ]
  },
  {
   "cell_type": "code",
   "execution_count": 141,
   "id": "67501795-f92b-4eda-b317-5a96ed8bb3aa",
   "metadata": {},
   "outputs": [],
   "source": [
    "R,C=5,9\n",
    "graph=[['.', 'X', '.', '.', '.', '.', '.', 'X', '.'],\n",
    " ['.', 'X', '.', '.', 'X', '.', '.', 'X', '.'],\n",
    " ['.', 'X', '.', '.', 'X', '.', '.', 'X', '.'],\n",
    " ['.', '.', '.', '.', 'X', '.', '.', '.', '.'],\n",
    " ['.', 'X', '.', '.', 'X', '.', '.', 'X', '.']]"
   ]
  },
  {
   "cell_type": "code",
   "execution_count": 175,
   "id": "03ca22a8-8738-4814-aee3-2881fb9c3ba8",
   "metadata": {},
   "outputs": [],
   "source": [
    "R,C=5,9\n",
    "graph=[['.', 'X', '.', '.', '.', '.', '.', 'X', '.'],\n",
    " ['.', 'X', '.', '.', 'X', '.', '.', 'X', '.'],\n",
    " ['.', 'X', '.', '.', 'X', '.', '.', 'X', '.'],\n",
    " ['.', '.', '.', '.', 'X', '.', '.', '.', '.'],\n",
    " ['.', 'X', '.', '.', 'X', '.', '.', 'X', '.']]"
   ]
  },
  {
   "cell_type": "code",
   "execution_count": 184,
   "id": "16c4bdee-b87c-43b1-b7f8-8f5f4a4fbd36",
   "metadata": {},
   "outputs": [],
   "source": [
    "R,C =7,7\n",
    "graph=[['.', 'X', '.', '.', '.', 'X', '.'],\n",
    "       ['.', 'X', '.', 'X', '.', '.', '.'],\n",
    "       ['.', '.', '.', '.', 'X', '.', '.'],\n",
    "       ['.', '.', 'X', '.', '.', '.', '.'],\n",
    "       ['.', '.', '.', 'X', '.', 'X', '.'],\n",
    "       ['.', 'X', '.', 'X', '.', 'X', '.'],\n",
    "       ['.', '.', '.', '.', '.', 'X', '.']]"
   ]
  },
  {
   "cell_type": "code",
   "execution_count": 162,
   "id": "50d9ba8e-bfb9-4f7c-9ad9-ed2d6c669b80",
   "metadata": {},
   "outputs": [
    {
     "name": "stdin",
     "output_type": "stream",
     "text": [
      " 7 7\n",
      " .x...x.\n",
      " .x.x..x\n",
      " ....x..\n",
      " ..x....\n",
      " ...x.x.\n",
      " .x.x.x.\n",
      " .....x.\n"
     ]
    }
   ],
   "source": [
    "R,C= map(int,input().split())\n",
    "graph=[]\n",
    "for i in range(R):\n",
    "    graph.append(list(input()))"
   ]
  },
  {
   "cell_type": "code",
   "execution_count": 185,
   "id": "888f1fe9-5344-4aed-8e4d-a5a2cc279195",
   "metadata": {
    "collapsed": true,
    "jupyter": {
     "outputs_hidden": true
    },
    "tags": []
   },
   "outputs": [
    {
     "name": "stdout",
     "output_type": "stream",
     "text": [
      "0 0 -1 1\n",
      "0 0 0 1\n",
      "0 0 1 1\n",
      "1 0 0 1\n",
      "1 0 1 1\n",
      "1 0 2 1\n",
      "2 1 1 2\n",
      "1 2 0 3\n",
      "0 3 -1 4\n",
      "0 3 0 4\n",
      "0 4 -1 5\n",
      "0 4 0 5\n",
      "0 4 1 5\n",
      "1 5 0 6\n",
      "결과 True\n",
      "결과 True\n",
      "결과 True\n",
      "결과 True\n",
      "결과 True\n",
      "결과 True\n",
      "2 0 1 1\n",
      "2 0 2 1\n",
      "2 0 3 1\n",
      "3 1 2 2\n",
      "2 2 1 3\n",
      "2 2 2 3\n",
      "2 3 1 4\n",
      "1 4 0 5\n",
      "1 4 1 5\n",
      "1 4 2 5\n",
      "2 5 1 6\n",
      "결과 True\n",
      "결과 True\n",
      "결과 True\n",
      "결과 True\n",
      "결과 True\n",
      "결과 True\n",
      "3 0 2 1\n",
      "3 0 3 1\n",
      "3 0 4 1\n",
      "4 1 3 2\n",
      "4 1 4 2\n",
      "4 2 3 3\n",
      "3 3 2 4\n",
      "3 3 3 4\n",
      "3 4 2 5\n",
      "3 4 3 5\n",
      "3 5 2 6\n",
      "결과 True\n",
      "결과 True\n",
      "결과 True\n",
      "결과 True\n",
      "결과 True\n",
      "결과 True\n",
      "4 0 3 1\n",
      "4 0 4 1\n",
      "4 0 5 1\n",
      "5 0 4 1\n",
      "5 0 5 1\n",
      "5 0 6 1\n",
      "6 1 5 2\n",
      "5 2 4 3\n",
      "5 2 5 3\n",
      "5 2 6 3\n",
      "6 3 5 4\n",
      "5 4 4 5\n",
      "5 4 5 5\n",
      "5 4 6 5\n",
      "6 3 6 4\n",
      "6 4 5 5\n",
      "6 4 6 5\n",
      "6 4 7 5\n",
      "6 3 7 4\n",
      "6 1 6 2\n",
      "6 2 5 3\n",
      "6 2 6 3\n",
      "6 2 7 3\n",
      "6 1 7 2\n",
      "6 0 5 1\n",
      "6 0 6 1\n",
      "6 0 7 1\n",
      "3\n"
     ]
    }
   ],
   "source": [
    "# 내가 한 것은 dfs 가 아니라 한번당 하나씩 단순이동경로일 뿐임. dfs 적용이 필요\n",
    "import sys\n",
    "R,C= map(int,sys.stdin.readline().split())\n",
    "graph=[]\n",
    "for i in range(R):\n",
    "    graph.append(list(sys.stdin.readline()))\n",
    "\n",
    "def dfs(graph,x,y):\n",
    "    root=[-1,0,1]\n",
    "    graph[x][y]='X'\n",
    "    if y==C-1:\n",
    "        return True\n",
    "    for i in range(3):\n",
    "        nx=x+root[i]\n",
    "        ny=y+1\n",
    "        if nx<0 or nx>=R:\n",
    "            continue\n",
    "        if graph[nx][ny]!='.':\n",
    "            continue\n",
    "        if dfs(graph,nx,ny):\n",
    "            return True\n",
    "\n",
    "result=0\n",
    "for i in range(R):\n",
    "    x,y=i,0\n",
    "    if dfs(graph,x,y):\n",
    "        result+=1\n",
    "print(result)"
   ]
  },
  {
   "cell_type": "markdown",
   "id": "559f3406-0539-4aca-8231-5bba50419a72",
   "metadata": {},
   "source": [
    "## 코드리뷰\n",
    "나는 무조건 위에 [-1,1] 이동시 정답이라고 판단했는데 그게 아니었다.\n",
    "[-1,1], [0,1], [1,1] 순으로 판단하여야하고 위에서 정답이 나올 시에는 확인 할 필요 없는데 코드의 구조였다.\n",
    "\n",
    "따라서 dfs 를 사용해서 풀어야 한다.\n",
    "dfs 사용시 retrun 방식에 대해서 애를 먹었는데.\n",
    "함수안에 함수를 사용할 때 retrun 의 방식을 잘 이용해야 밖으로 원하는  결과가 나올 수 있다.\n"
   ]
  },
  {
   "cell_type": "code",
   "execution_count": null,
   "id": "ad4bf73c-b1be-400d-bf7e-5ca67416a3eb",
   "metadata": {},
   "outputs": [],
   "source": []
  },
  {
   "cell_type": "markdown",
   "id": "853c2d2f-cdf9-41fd-8b74-85982a104416",
   "metadata": {},
   "source": [
    "# 10775 공항"
   ]
  },
  {
   "cell_type": "code",
   "execution_count": 187,
   "id": "0a73845b-68e9-40d4-9826-e8e7fadb93c8",
   "metadata": {},
   "outputs": [
    {
     "name": "stdin",
     "output_type": "stream",
     "text": [
      " 4\n",
      " 3\n",
      " 4\n",
      " 1\n",
      " 1\n"
     ]
    }
   ],
   "source": [
    "G=int(input())\n",
    "P=int(input())\n",
    "air=[]\n",
    "for _ in range(P):\n",
    "    air.append(int(input()))\n"
   ]
  },
  {
   "cell_type": "code",
   "execution_count": 298,
   "id": "77aa6fe4-8437-46d7-8f36-71c2f9ec132a",
   "metadata": {},
   "outputs": [],
   "source": [
    "G=5\n",
    "P=11\n",
    "air=[3,3,5,1,5,2,2,3,3,4,4]"
   ]
  },
  {
   "cell_type": "code",
   "execution_count": 299,
   "id": "7fa20e5a-a257-4a2d-9527-75534af9581f",
   "metadata": {},
   "outputs": [],
   "source": [
    "# 1번째 비행기를 1<4 게이트중 하나에 도킹할 수 있다.\n",
    "# 2번째 비행기를 1< 1 게이트중 하나에 도킹 할 수 있다."
   ]
  },
  {
   "cell_type": "code",
   "execution_count": 305,
   "id": "e13bf9f5-bbad-4e34-b2d5-68d2f3a58399",
   "metadata": {},
   "outputs": [],
   "source": []
  },
  {
   "cell_type": "code",
   "execution_count": 306,
   "id": "e4eb590d-b0ce-4e86-9f25-a6e1911a3784",
   "metadata": {},
   "outputs": [],
   "source": [
    "air_dic={}\n",
    "# set_dictionary  // union-find 알고리즘\n",
    "for i in range(G+1):\n",
    "    air_dic[i]=i\n",
    "    \n",
    "def find(i):\n",
    "    if air_dic[i]==i:return i\n",
    "    else: \n",
    "        air_dic[i]=find(air_dic[i]) # 더 작은 값을 발견하면 그 값으로 재 정의하는 부분\n",
    "        return air_dic[i]\n",
    "\n",
    "def union(x,y):\n",
    "    x=find(x)\n",
    "    y=find(y)\n",
    "    air_dic[x]=y"
   ]
  },
  {
   "cell_type": "code",
   "execution_count": 295,
   "id": "a98d16e5-a775-41e1-a823-d8f3980df8ba",
   "metadata": {},
   "outputs": [
    {
     "data": {
      "text/plain": [
       "{0: 0, 1: 1, 2: 2, 3: 3, 4: 4, 5: 5}"
      ]
     },
     "execution_count": 295,
     "metadata": {},
     "output_type": "execute_result"
    }
   ],
   "source": [
    "air_dic"
   ]
  },
  {
   "cell_type": "code",
   "execution_count": 307,
   "id": "fc2eef1b-06fa-4092-a3ed-328e8fbcebd0",
   "metadata": {},
   "outputs": [
    {
     "name": "stdout",
     "output_type": "stream",
     "text": [
      "{0: 0, 1: 1, 2: 2, 3: 2, 4: 4, 5: 5}\n",
      "{0: 0, 1: 1, 2: 1, 3: 2, 4: 4, 5: 5}\n",
      "{0: 0, 1: 1, 2: 1, 3: 2, 4: 4, 5: 4}\n",
      "{0: 0, 1: 0, 2: 1, 3: 2, 4: 4, 5: 4}\n",
      "{0: 0, 1: 0, 2: 0, 3: 0, 4: 0, 5: 4}\n",
      "5\n"
     ]
    }
   ],
   "source": [
    "air=[3,3,5,1,5,5,2,3,3,4,4]\n",
    "cnt=0\n",
    "for i in air:\n",
    "    x = find(i)\n",
    "    if x==0:\n",
    "        break\n",
    "    union(x,x-1)\n",
    "    cnt+=1\n",
    "    print(air_dic)\n",
    "print(cnt)"
   ]
  },
  {
   "cell_type": "code",
   "execution_count": 237,
   "id": "d66d90f4-54b1-4fb2-a33b-ab5a3da0f4c8",
   "metadata": {
    "tags": []
   },
   "outputs": [
    {
     "data": {
      "text/plain": [
       "{1: 0, 2: 0, 3: 0, 4: 0}"
      ]
     },
     "execution_count": 237,
     "metadata": {},
     "output_type": "execute_result"
    }
   ],
   "source": [
    "air_dic"
   ]
  },
  {
   "cell_type": "markdown",
   "id": "fc04c4ff-6394-45a1-a74e-567e9fe33232",
   "metadata": {
    "tags": []
   },
   "source": [
    "## 코드리뷰\n",
    "union-find 라는 알고리즘으로 확인하였는데 잘 모르는 부분이라 자료들을 참고함.\n",
    "자료를 봤음에도 union-find 가 일정 그룹으로 데이터들을 묶는 다는 것만 알 뿐 자세히는 아직도 잘 모르겠음.\n",
    "다만 dict로 초기화를 하며 dict 의 value 값을 key 값보다 작은 값으로 선정하여 각 그룹의 value 값을 \n",
    "그 그룹의 최소값을 가지도록 하여 그룹을 묶는 알고리즘임.\n",
    "\n",
    "구현과정에서 union,find 함수를 만드는데 이 부분에서 의문점은 후에 해결해 나가도록 하겠음."
   ]
  },
  {
   "cell_type": "code",
   "execution_count": null,
   "id": "8471a853-f219-4b65-9203-c031535d5a01",
   "metadata": {},
   "outputs": [],
   "source": []
  }
 ],
 "metadata": {
  "kernelspec": {
   "display_name": "Python 3",
   "language": "python",
   "name": "python3"
  },
  "language_info": {
   "codemirror_mode": {
    "name": "ipython",
    "version": 3
   },
   "file_extension": ".py",
   "mimetype": "text/x-python",
   "name": "python",
   "nbconvert_exporter": "python",
   "pygments_lexer": "ipython3",
   "version": "3.8.8"
  }
 },
 "nbformat": 4,
 "nbformat_minor": 5
}
