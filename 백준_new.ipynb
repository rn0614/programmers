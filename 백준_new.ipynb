{
 "cells": [
  {
   "cell_type": "code",
   "execution_count": 1,
   "id": "073c8859-c6b7-4cb4-b7a1-6de19f13e141",
   "metadata": {},
   "outputs": [],
   "source": [
    "# 1700번 멀티탭 스케줄링"
   ]
  },
  {
   "cell_type": "code",
   "execution_count": 2,
   "id": "24a26589-76cf-416f-a90b-cd803d14e643",
   "metadata": {},
   "outputs": [
    {
     "name": "stdin",
     "output_type": "stream",
     "text": [
      " 2 7\n"
     ]
    }
   ],
   "source": [
    "N,K= map(int,input().split())"
   ]
  },
  {
   "cell_type": "code",
   "execution_count": 9,
   "id": "b6e707c9-2f94-499c-bdca-ae9091ee5771",
   "metadata": {},
   "outputs": [
    {
     "name": "stdin",
     "output_type": "stream",
     "text": [
      " 2 3 2 3 1 2 7\n"
     ]
    }
   ],
   "source": [
    "items=list(map(int,input().split()))"
   ]
  },
  {
   "cell_type": "code",
   "execution_count": null,
   "id": "cdf19c31-b316-4525-8734-e61f1311c928",
   "metadata": {},
   "outputs": [],
   "source": [
    "# 1. items에서 N 만큼 미리 heap에다가 넣어놓기\n",
    "# 2. 만약 다음 사용하는 것이 heap 에 없을 때 heap 에 있는 것을 빼고 다음거 넣기,\n",
    "# 단, 다음번 숫자까지 고려하여 다음 번에 안나올 것을 빼기 예를 들어 2 3 4 2 1 1 일 경우 3 에서 4로 넘어갈 때 2ㅇ를 뽑는 것이 아닌 3을 뽑아야 함.\n",
    "# 즉 N 의 수만큼 다음 것을 고려해야한다는 점 위에서는 N이 2이므로 4,2 까지 고려하였음.\n",
    "# 왜냐면 4 2 3 일경우 2만 고려되고 3은 고려 안됨."
   ]
  },
  {
   "cell_type": "code",
   "execution_count": 4,
   "id": "b17df32b-1235-4262-8bf4-4cbcebe39be5",
   "metadata": {},
   "outputs": [],
   "source": [
    "import heapq"
   ]
  },
  {
   "cell_type": "code",
   "execution_count": 6,
   "id": "8bd55117-5ca9-4c8f-a92a-5fbd6f2d637a",
   "metadata": {},
   "outputs": [],
   "source": [
    "heaps=[]"
   ]
  },
  {
   "cell_type": "code",
   "execution_count": 10,
   "id": "599ffe69-6afc-4967-aa7a-72618cc89570",
   "metadata": {},
   "outputs": [],
   "source": [
    "for i in range(N):\n",
    "    heapq.heappush(heaps,items[i])"
   ]
  },
  {
   "cell_type": "code",
   "execution_count": 11,
   "id": "abfe7780-b481-4221-8758-59f2c1a58b19",
   "metadata": {},
   "outputs": [
    {
     "data": {
      "text/plain": [
       "[2, 3]"
      ]
     },
     "execution_count": 11,
     "metadata": {},
     "output_type": "execute_result"
    }
   ],
   "source": [
    "heaps"
   ]
  },
  {
   "cell_type": "code",
   "execution_count": 13,
   "id": "9f42a250-6a46-43ed-ae39-673ee1d679e5",
   "metadata": {},
   "outputs": [],
   "source": [
    "from collections import deque # 최소 최대 문제가 아닌 순서관련 문제이므로 선입선출인 deque가 맞다고 판단"
   ]
  },
  {
   "cell_type": "code",
   "execution_count": 21,
   "id": "efb6258f-4b62-45c7-9a6c-ad1388949d8c",
   "metadata": {},
   "outputs": [],
   "source": [
    "q=[]\n",
    "queue=deque(q)"
   ]
  },
  {
   "cell_type": "code",
   "execution_count": 22,
   "id": "4c3af73f-3095-4b56-901e-42cb9ecf5b8b",
   "metadata": {},
   "outputs": [],
   "source": [
    "plug=[]"
   ]
  },
  {
   "cell_type": "code",
   "execution_count": 26,
   "id": "eca5551a-a1df-4287-8308-fb9a7185ae11",
   "metadata": {},
   "outputs": [],
   "source": [
    "for i in range(N):\n",
    "    plug.append(items.pop())"
   ]
  },
  {
   "cell_type": "code",
   "execution_count": 38,
   "id": "312bda58-0ed2-4dc7-b4a5-f123fcd4e58b",
   "metadata": {},
   "outputs": [
    {
     "name": "stdin",
     "output_type": "stream",
     "text": [
      " 2 7\n",
      " 2 3 2 3 1 2 7\n"
     ]
    }
   ],
   "source": [
    "################################33\n",
    "N,K= map(int,input().split())\n",
    "items=list(map(int,input().split()))\n",
    "plug=items[:N]\n",
    "items=items[N:]"
   ]
  },
  {
   "cell_type": "code",
   "execution_count": 53,
   "id": "ecb7ebd2-042f-40a5-89da-2f54f5e3f0fa",
   "metadata": {},
   "outputs": [],
   "source": [
    "plug=[2,3]\n",
    "items=[2, 3, 1, 2, 7]"
   ]
  },
  {
   "cell_type": "code",
   "execution_count": 54,
   "id": "25be9e36-6b16-4c6a-b7ea-127bad08f13e",
   "metadata": {},
   "outputs": [
    {
     "data": {
      "text/plain": [
       "[2, 3]"
      ]
     },
     "execution_count": 54,
     "metadata": {},
     "output_type": "execute_result"
    }
   ],
   "source": [
    "plug"
   ]
  },
  {
   "cell_type": "code",
   "execution_count": 55,
   "id": "f70c0d44-a69e-4fca-88cb-4cf8b5ec5e17",
   "metadata": {},
   "outputs": [
    {
     "data": {
      "text/plain": [
       "[2, 3, 1, 2, 7]"
      ]
     },
     "execution_count": 55,
     "metadata": {},
     "output_type": "execute_result"
    }
   ],
   "source": [
    "items"
   ]
  },
  {
   "cell_type": "code",
   "execution_count": 56,
   "id": "d04cd279-49f5-4611-978a-fd33687c5484",
   "metadata": {},
   "outputs": [
    {
     "name": "stdout",
     "output_type": "stream",
     "text": [
      "[2, 3, 1, 2, 7] [2, 3] 0 2\n",
      "[2, 3, 1, 2, 7] [2, 3] 0 3\n",
      "[2, 3, 1, 2, 7] [2, 3] 0 1\n",
      "[2, 3, 1, 2, 7] [2, 1] 1 2\n",
      "[2, 3, 1, 2, 7] [2, 1] 1 7\n"
     ]
    }
   ],
   "source": [
    "temp=[]\n",
    "cnt=0\n",
    "for i in range(len(items)):\n",
    "    if items[i] in plug:\n",
    "        continue\n",
    "    temp=plug.copy()\n",
    "    for j in items[i:]:\n",
    "        if len(temp)==1:\n",
    "            break\n",
    "        if j in temp:\n",
    "            temp.remove(j)\n",
    "    plug.remove(temp[-1])\n",
    "    plug.append(items[i])\n",
    "    cnt+=1"
   ]
  },
  {
   "cell_type": "code",
   "execution_count": 37,
   "id": "0298aeb8-cdff-4f64-9880-5ccaebe8bd51",
   "metadata": {},
   "outputs": [
    {
     "data": {
      "text/plain": [
       "[2, 7]"
      ]
     },
     "execution_count": 37,
     "metadata": {},
     "output_type": "execute_result"
    }
   ],
   "source": [
    "plug"
   ]
  },
  {
   "cell_type": "code",
   "execution_count": 57,
   "id": "ceb15f4a-fc48-42ff-ad5f-574a35992bba",
   "metadata": {},
   "outputs": [
    {
     "data": {
      "text/plain": [
       "2"
      ]
     },
     "execution_count": 57,
     "metadata": {},
     "output_type": "execute_result"
    }
   ],
   "source": [
    "cnt"
   ]
  },
  {
   "cell_type": "code",
   "execution_count": null,
   "id": "12e675ac-7559-4381-b670-f51b8764b399",
   "metadata": {},
   "outputs": [],
   "source": []
  }
 ],
 "metadata": {
  "kernelspec": {
   "display_name": "Python 3",
   "language": "python",
   "name": "python3"
  },
  "language_info": {
   "codemirror_mode": {
    "name": "ipython",
    "version": 3
   },
   "file_extension": ".py",
   "mimetype": "text/x-python",
   "name": "python",
   "nbconvert_exporter": "python",
   "pygments_lexer": "ipython3",
   "version": "3.8.8"
  }
 },
 "nbformat": 4,
 "nbformat_minor": 5
}
