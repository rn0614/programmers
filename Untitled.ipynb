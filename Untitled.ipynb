{
 "cells": [
  {
   "cell_type": "code",
   "execution_count": 1,
   "id": "e3a68cfa-cad7-426e-a6f5-2287ba9154f0",
   "metadata": {},
   "outputs": [],
   "source": [
    "import pyautogui as pg\n",
    "import time"
   ]
  },
  {
   "cell_type": "code",
   "execution_count": 2,
   "id": "cdd74149-45ba-4162-88d8-2aea2f419d2c",
   "metadata": {},
   "outputs": [
    {
     "ename": "TypeError",
     "evalue": "'NoneType' object is not subscriptable",
     "output_type": "error",
     "traceback": [
      "\u001b[1;31m---------------------------------------------------------------------------\u001b[0m",
      "\u001b[1;31mTypeError\u001b[0m                                 Traceback (most recent call last)",
      "\u001b[1;32m<ipython-input-2-5ead8fd0bed6>\u001b[0m in \u001b[0;36m<module>\u001b[1;34m\u001b[0m\n\u001b[0;32m      2\u001b[0m \u001b[1;32mwhile\u001b[0m \u001b[1;32mTrue\u001b[0m\u001b[1;33m:\u001b[0m\u001b[1;33m\u001b[0m\u001b[1;33m\u001b[0m\u001b[0m\n\u001b[0;32m      3\u001b[0m     \u001b[0mrun_location\u001b[0m \u001b[1;33m=\u001b[0m \u001b[0mpg\u001b[0m\u001b[1;33m.\u001b[0m\u001b[0mlocateOnScreen\u001b[0m\u001b[1;33m(\u001b[0m\u001b[1;34m'재생.png'\u001b[0m\u001b[1;33m)\u001b[0m \u001b[1;31m# 이미지가 있는 위치를 가져옵니다.\u001b[0m\u001b[1;33m\u001b[0m\u001b[1;33m\u001b[0m\u001b[0m\n\u001b[1;32m----> 4\u001b[1;33m     \u001b[0mrun_point\u001b[0m \u001b[1;33m=\u001b[0m \u001b[0mpg\u001b[0m\u001b[1;33m.\u001b[0m\u001b[0mcenter\u001b[0m\u001b[1;33m(\u001b[0m\u001b[0mrun_location\u001b[0m\u001b[1;33m)\u001b[0m \u001b[1;31m# Box 객체의 중앙 좌표를 리턴합니다.\u001b[0m\u001b[1;33m\u001b[0m\u001b[1;33m\u001b[0m\u001b[0m\n\u001b[0m\u001b[0;32m      5\u001b[0m     \u001b[0mpg\u001b[0m\u001b[1;33m.\u001b[0m\u001b[0mclick\u001b[0m\u001b[1;33m(\u001b[0m\u001b[0mrun_point\u001b[0m\u001b[1;33m)\u001b[0m\u001b[1;33m\u001b[0m\u001b[1;33m\u001b[0m\u001b[0m\n\u001b[0;32m      6\u001b[0m     \u001b[0mnext_possible\u001b[0m\u001b[1;33m=\u001b[0m\u001b[1;32mFalse\u001b[0m\u001b[1;33m\u001b[0m\u001b[1;33m\u001b[0m\u001b[0m\n",
      "\u001b[1;32m~\\anaconda3\\lib\\site-packages\\pyscreeze\\__init__.py\u001b[0m in \u001b[0;36mcenter\u001b[1;34m(coords)\u001b[0m\n\u001b[0;32m    579\u001b[0m \u001b[1;33m\u001b[0m\u001b[0m\n\u001b[0;32m    580\u001b[0m     \u001b[1;31m# TODO - one day, add code to handle a Box namedtuple.\u001b[0m\u001b[1;33m\u001b[0m\u001b[1;33m\u001b[0m\u001b[1;33m\u001b[0m\u001b[0m\n\u001b[1;32m--> 581\u001b[1;33m     \u001b[1;32mreturn\u001b[0m \u001b[0mPoint\u001b[0m\u001b[1;33m(\u001b[0m\u001b[0mcoords\u001b[0m\u001b[1;33m[\u001b[0m\u001b[1;36m0\u001b[0m\u001b[1;33m]\u001b[0m \u001b[1;33m+\u001b[0m \u001b[0mint\u001b[0m\u001b[1;33m(\u001b[0m\u001b[0mcoords\u001b[0m\u001b[1;33m[\u001b[0m\u001b[1;36m2\u001b[0m\u001b[1;33m]\u001b[0m \u001b[1;33m/\u001b[0m \u001b[1;36m2\u001b[0m\u001b[1;33m)\u001b[0m\u001b[1;33m,\u001b[0m \u001b[0mcoords\u001b[0m\u001b[1;33m[\u001b[0m\u001b[1;36m1\u001b[0m\u001b[1;33m]\u001b[0m \u001b[1;33m+\u001b[0m \u001b[0mint\u001b[0m\u001b[1;33m(\u001b[0m\u001b[0mcoords\u001b[0m\u001b[1;33m[\u001b[0m\u001b[1;36m3\u001b[0m\u001b[1;33m]\u001b[0m \u001b[1;33m/\u001b[0m \u001b[1;36m2\u001b[0m\u001b[1;33m)\u001b[0m\u001b[1;33m)\u001b[0m\u001b[1;33m\u001b[0m\u001b[1;33m\u001b[0m\u001b[0m\n\u001b[0m\u001b[0;32m    582\u001b[0m \u001b[1;33m\u001b[0m\u001b[0m\n\u001b[0;32m    583\u001b[0m \u001b[1;33m\u001b[0m\u001b[0m\n",
      "\u001b[1;31mTypeError\u001b[0m: 'NoneType' object is not subscriptable"
     ]
    }
   ],
   "source": [
    "next_possible=False\n",
    "while True:\n",
    "    run_location = pg.locateOnScreen('재생.png') # 이미지가 있는 위치를 가져옵니다. \n",
    "    run_point = pg.center(run_location) # Box 객체의 중앙 좌표를 리턴합니다. \n",
    "    pg.click(run_point)\n",
    "    next_possible=False\n",
    "    while next_possible==False:\n",
    "        try:\n",
    "            if pg.locateOnScreen('다음버튼클릭.png'):\n",
    "                next_location = pg.locateOnScreen('다음.png') # 이미지가 있는 위치를 가져옵니다. \n",
    "                next_point = pg.center(next_location) # Box 객체의 중앙 좌표를 리턴합니다. \n",
    "                pg.click(next_point)\n",
    "                next_possible=True\n",
    "                print('b')\n",
    "        except:\n",
    "            time.sleep(3)\n",
    "            print('a')\n",
    "    time.sleep(3)"
   ]
  },
  {
   "cell_type": "code",
   "execution_count": null,
   "id": "d8329b5c-5c37-4b74-8a30-75fc67e7a0d1",
   "metadata": {},
   "outputs": [],
   "source": [
    "if pg.locateOnScreen('다음버튼클릭.png'):\n",
    "    next_location = pg.locateOnScreen('다음.png') # 이미지가 있는 위치를 가져옵니다. \n",
    "    next_point = pg.center(next_location) # Box 객체의 중앙 좌표를 리턴합니다. \n",
    "    pg.click(next_point)"
   ]
  },
  {
   "cell_type": "code",
   "execution_count": null,
   "id": "0bf3cffc-f763-4be0-8e50-a4314aec775b",
   "metadata": {},
   "outputs": [],
   "source": [
    "run_location = pg.locateOnScreen('재생.png') # 이미지가 있는 위치를 가져옵니다. \n",
    "run_point = pg.center(run_location) # Box 객체의 중앙 좌표를 리턴합니다. \n",
    "pg.click(run_point)\n",
    "next_possible=False\n",
    "while next_possible==False:\n",
    "    try:\n",
    "        if pg.locateOnScreen('다음버튼클릭.png'):\n",
    "            next_location = pg.locateOnScreen('다음.png') # 이미지가 있는 위치를 가져옵니다. \n",
    "            next_point = pg.center(next_location) # Box 객체의 중앙 좌표를 리턴합니다. \n",
    "            pg.click(next_point)\n",
    "            next_possible=True\n",
    "            print('b')\n",
    "    except:\n",
    "        time.sleep(3)\n",
    "        print('a')\n",
    "time.sleep(3)"
   ]
  },
  {
   "cell_type": "code",
   "execution_count": 4,
   "id": "ae9cfe35-097c-4b8a-b064-c791b33ba677",
   "metadata": {},
   "outputs": [],
   "source": [
    "try:\n",
    "    if pg.locateOnScreen('다음버튼클릭.png'):\n",
    "        next_location = pg.locateOnScreen('다음.png') # 이미지가 있는 위치를 가져옵니다. \n",
    "        next_point = pg.center(next_location) # Box 객체의 중앙 좌표를 리턴합니다. \n",
    "        pg.click(next_point)\n",
    "        next_possible=True\n",
    "        print('b')\n",
    "except:\n",
    "    time.sleep(3)\n",
    "    print('a')"
   ]
  },
  {
   "cell_type": "code",
   "execution_count": 5,
   "id": "5a9f880a-4ee5-4a82-b881-7fb22f7caf81",
   "metadata": {},
   "outputs": [],
   "source": [
    "if pg.locateOnScreen('다음버튼클릭.png'):\n",
    "    next_location = pg.locateOnScreen('다음.png') # 이미지가 있는 위치를 가져옵니다. \n",
    "    next_point = pg.center(next_location) # Box 객체의 중앙 좌표를 리턴합니다. \n",
    "    pg.click(next_point)\n",
    "    next_possible=True\n",
    "    print('b')"
   ]
  },
  {
   "cell_type": "code",
   "execution_count": 10,
   "id": "727150cd-a052-47c4-81b5-71a434cdaa7e",
   "metadata": {},
   "outputs": [],
   "source": [
    "pg.locateOnScreen('다음버튼클릭.png')"
   ]
  },
  {
   "cell_type": "code",
   "execution_count": 2,
   "id": "d294b599-f684-4053-993b-52bd0cd5efa9",
   "metadata": {},
   "outputs": [
    {
     "name": "stdout",
     "output_type": "stream",
     "text": [
      "None\n"
     ]
    },
    {
     "ename": "TypeError",
     "evalue": "'NoneType' object is not subscriptable",
     "output_type": "error",
     "traceback": [
      "\u001b[1;31m---------------------------------------------------------------------------\u001b[0m",
      "\u001b[1;31mTypeError\u001b[0m                                 Traceback (most recent call last)",
      "\u001b[1;32m<ipython-input-2-b86de83f611d>\u001b[0m in \u001b[0;36m<module>\u001b[1;34m\u001b[0m\n\u001b[0;32m      1\u001b[0m \u001b[0mrun_location\u001b[0m \u001b[1;33m=\u001b[0m \u001b[0mpg\u001b[0m\u001b[1;33m.\u001b[0m\u001b[0mlocateOnScreen\u001b[0m\u001b[1;33m(\u001b[0m\u001b[1;34m'재생.png'\u001b[0m\u001b[1;33m)\u001b[0m\u001b[1;33m\u001b[0m\u001b[1;33m\u001b[0m\u001b[0m\n\u001b[0;32m      2\u001b[0m \u001b[0mprint\u001b[0m\u001b[1;33m(\u001b[0m\u001b[0mrun_location\u001b[0m\u001b[1;33m)\u001b[0m\u001b[1;33m\u001b[0m\u001b[1;33m\u001b[0m\u001b[0m\n\u001b[1;32m----> 3\u001b[1;33m \u001b[0mrun_point\u001b[0m \u001b[1;33m=\u001b[0m \u001b[0mpg\u001b[0m\u001b[1;33m.\u001b[0m\u001b[0mcenter\u001b[0m\u001b[1;33m(\u001b[0m\u001b[0mrun_location\u001b[0m\u001b[1;33m)\u001b[0m\u001b[1;33m\u001b[0m\u001b[1;33m\u001b[0m\u001b[0m\n\u001b[0m\u001b[0;32m      4\u001b[0m \u001b[0mprint\u001b[0m\u001b[1;33m(\u001b[0m\u001b[0mrun_point\u001b[0m\u001b[1;33m)\u001b[0m\u001b[1;33m\u001b[0m\u001b[1;33m\u001b[0m\u001b[0m\n",
      "\u001b[1;32m~\\anaconda3\\lib\\site-packages\\pyscreeze\\__init__.py\u001b[0m in \u001b[0;36mcenter\u001b[1;34m(coords)\u001b[0m\n\u001b[0;32m    579\u001b[0m \u001b[1;33m\u001b[0m\u001b[0m\n\u001b[0;32m    580\u001b[0m     \u001b[1;31m# TODO - one day, add code to handle a Box namedtuple.\u001b[0m\u001b[1;33m\u001b[0m\u001b[1;33m\u001b[0m\u001b[1;33m\u001b[0m\u001b[0m\n\u001b[1;32m--> 581\u001b[1;33m     \u001b[1;32mreturn\u001b[0m \u001b[0mPoint\u001b[0m\u001b[1;33m(\u001b[0m\u001b[0mcoords\u001b[0m\u001b[1;33m[\u001b[0m\u001b[1;36m0\u001b[0m\u001b[1;33m]\u001b[0m \u001b[1;33m+\u001b[0m \u001b[0mint\u001b[0m\u001b[1;33m(\u001b[0m\u001b[0mcoords\u001b[0m\u001b[1;33m[\u001b[0m\u001b[1;36m2\u001b[0m\u001b[1;33m]\u001b[0m \u001b[1;33m/\u001b[0m \u001b[1;36m2\u001b[0m\u001b[1;33m)\u001b[0m\u001b[1;33m,\u001b[0m \u001b[0mcoords\u001b[0m\u001b[1;33m[\u001b[0m\u001b[1;36m1\u001b[0m\u001b[1;33m]\u001b[0m \u001b[1;33m+\u001b[0m \u001b[0mint\u001b[0m\u001b[1;33m(\u001b[0m\u001b[0mcoords\u001b[0m\u001b[1;33m[\u001b[0m\u001b[1;36m3\u001b[0m\u001b[1;33m]\u001b[0m \u001b[1;33m/\u001b[0m \u001b[1;36m2\u001b[0m\u001b[1;33m)\u001b[0m\u001b[1;33m)\u001b[0m\u001b[1;33m\u001b[0m\u001b[1;33m\u001b[0m\u001b[0m\n\u001b[0m\u001b[0;32m    582\u001b[0m \u001b[1;33m\u001b[0m\u001b[0m\n\u001b[0;32m    583\u001b[0m \u001b[1;33m\u001b[0m\u001b[0m\n",
      "\u001b[1;31mTypeError\u001b[0m: 'NoneType' object is not subscriptable"
     ]
    }
   ],
   "source": [
    "run_location = pg.locateOnScreen('재생.png')\n",
    "print(run_location)\n",
    "run_point = pg.center(run_location)\n",
    "print(run_point)"
   ]
  },
  {
   "cell_type": "code",
   "execution_count": null,
   "id": "7e538a3d-a1c0-4887-8035-6c722ad0d1c7",
   "metadata": {},
   "outputs": [],
   "source": []
  }
 ],
 "metadata": {
  "kernelspec": {
   "display_name": "Python 3",
   "language": "python",
   "name": "python3"
  },
  "language_info": {
   "codemirror_mode": {
    "name": "ipython",
    "version": 3
   },
   "file_extension": ".py",
   "mimetype": "text/x-python",
   "name": "python",
   "nbconvert_exporter": "python",
   "pygments_lexer": "ipython3",
   "version": "3.8.8"
  }
 },
 "nbformat": 4,
 "nbformat_minor": 5
}
