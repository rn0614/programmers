{
 "cells": [
  {
   "cell_type": "code",
   "execution_count": 8,
   "id": "e1d723b9-2c96-4336-9057-04302678ca25",
   "metadata": {},
   "outputs": [
    {
     "name": "stdout",
     "output_type": "stream",
     "text": [
      "가가가가각\n",
      "\n",
      "앞으로가다\n",
      "뒤로가다\n"
     ]
    }
   ],
   "source": [
    "class Car:\n",
    "    def __init__(self):\n",
    "        self.color=1\n",
    "        self.whellsize=10\n",
    "        self.displacement=2000\n",
    "        \n",
    "    def forward(self):\n",
    "        print('앞으로가다')\n",
    "\n",
    "    def backward(self):\n",
    "        return '뒤로가다'\n",
    "    \n",
    "if __name__ =='__main__':\n",
    "    my_car = Car()\n",
    "    print('가가가가각')\n",
    "    print()\n",
    "    my_car.forward()\n",
    "    print(my_car.backward())"
   ]
  },
  {
   "cell_type": "code",
   "execution_count": null,
   "id": "879e674d-0c34-4ae1-a86d-47adedf16e75",
   "metadata": {},
   "outputs": [],
   "source": []
  }
 ],
 "metadata": {
  "kernelspec": {
   "display_name": "Python 3",
   "language": "python",
   "name": "python3"
  },
  "language_info": {
   "codemirror_mode": {
    "name": "ipython",
    "version": 3
   },
   "file_extension": ".py",
   "mimetype": "text/x-python",
   "name": "python",
   "nbconvert_exporter": "python",
   "pygments_lexer": "ipython3",
   "version": "3.8.8"
  }
 },
 "nbformat": 4,
 "nbformat_minor": 5
}
